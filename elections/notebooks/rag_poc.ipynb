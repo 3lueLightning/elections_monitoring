{
 "cells": [
  {
   "cell_type": "markdown",
   "metadata": {},
   "source": [
    "notebook being completely reworded"
   ]
  },
  {
   "cell_type": "code",
   "execution_count": 21,
   "metadata": {},
   "outputs": [],
   "source": [
    "%reload_ext autoreload\n",
    "%autoreload 2"
   ]
  },
  {
   "cell_type": "code",
   "execution_count": 2,
   "metadata": {},
   "outputs": [],
   "source": [
    "import tempfile\n",
    "\n",
    "import pandas as pd\n",
    "\n",
    "from langchain.document_loaders import TextLoader\n",
    "from langchain.text_splitter import RecursiveCharacterTextSplitter\n",
    "\n",
    "from elections import constants\n",
    "from elections.scrapers.psd_scraper import PsdScrapper"
   ]
  },
  {
   "cell_type": "code",
   "execution_count": 4,
   "metadata": {},
   "outputs": [],
   "source": [
    "with tempfile.NamedTemporaryFile(mode='w', delete=False, suffix='.tsv') as temp_file:\n",
    "    df = pd.read_csv(constants.POLITICAL_PATHS[\"psd\"] / \"proposals.tsv\", sep=\"\\t\")[[\"category_pt\", \"proposal_pt\"]]\n",
    "    df.to_csv(temp_file.name, index=False, header=False, sep=\"\\t\")\n",
    "\n",
    "    loader = TextLoader(temp_file.name)"
   ]
  },
  {
   "cell_type": "code",
   "execution_count": 6,
   "metadata": {},
   "outputs": [],
   "source": [
    "text = loader.load()\n",
    "text_splitter = RecursiveCharacterTextSplitter(\n",
    "    # Set a really small chunk size, just to show.\n",
    "    chunk_size = 100,\n",
    "    chunk_overlap  = 20,\n",
    "    length_function = len,\n",
    ")\n",
    "\n",
    "texts = text_splitter.create_documents([text[0].page_content])"
   ]
  },
  {
   "cell_type": "code",
   "execution_count": 7,
   "metadata": {},
   "outputs": [],
   "source": [
    "from langchain.embeddings import HuggingFaceEmbeddings\n",
    "\n",
    "tt = HuggingFaceEmbeddings().embed_documents([text.page_content for text in texts])"
   ]
  },
  {
   "cell_type": "code",
   "execution_count": 8,
   "metadata": {},
   "outputs": [
    {
     "data": {
      "text/plain": [
       "(203, 768)"
      ]
     },
     "execution_count": 8,
     "metadata": {},
     "output_type": "execute_result"
    }
   ],
   "source": [
    "import numpy as np\n",
    "\n",
    "np.array(tt).shape\n"
   ]
  },
  {
   "cell_type": "code",
   "execution_count": 9,
   "metadata": {},
   "outputs": [],
   "source": [
    "\n",
    "tt1 = HuggingFaceEmbeddings(model_name='ricardo-filho/bert-base-portuguese-cased-nli-assin-2').embed_documents([text.page_content for text in texts])"
   ]
  },
  {
   "cell_type": "code",
   "execution_count": 10,
   "metadata": {},
   "outputs": [],
   "source": [
    "from langchain.indexes import VectorstoreIndexCreator\n",
    "\n",
    "pt_embeddings = HuggingFaceEmbeddings(model_name='ricardo-filho/bert-base-portuguese-cased-nli-assin-2')\n",
    "db = VectorstoreIndexCreator(embedding= pt_embeddings, text_splitter=text_splitter).from_loaders([loader])"
   ]
  },
  {
   "cell_type": "code",
   "execution_count": 11,
   "metadata": {},
   "outputs": [
    {
     "data": {
      "text/plain": [
       "VectorStoreIndexWrapper(vectorstore=<langchain_community.vectorstores.chroma.Chroma object at 0x2ca53f850>)"
      ]
     },
     "execution_count": 11,
     "metadata": {},
     "output_type": "execute_result"
    }
   ],
   "source": [
    "db"
   ]
  },
  {
   "cell_type": "code",
   "execution_count": 14,
   "metadata": {},
   "outputs": [
    {
     "data": {
      "text/plain": [
       "[Document(page_content='do SNS, bem como a medidas estruturais com impacto no longo prazo. O acesso atempado e universal a', metadata={'source': '/var/folders/q3/m5wwnysd3kx0n1_6yvsrqghh0000gn/T/tmp2zcuj21w.tsv'}),\n",
       " Document(page_content='revisao constitucional\\tIntrodução da referência de que o SNS deve cobrir as necessidades de toda a', metadata={'source': '/var/folders/q3/m5wwnysd3kx0n1_6yvsrqghh0000gn/T/tmp2zcuj21w.tsv'}),\n",
       " Document(page_content='constituir família. As políticas para remover os obstáculos à natalidade nos jovens casais só se', metadata={'source': '/var/folders/q3/m5wwnysd3kx0n1_6yvsrqghh0000gn/T/tmp2zcuj21w.tsv'}),\n",
       " Document(page_content='os problemas estruturais dos jovens, como os baixos salários e a dificuldade em constituir família.', metadata={'source': '/var/folders/q3/m5wwnysd3kx0n1_6yvsrqghh0000gn/T/tmp2zcuj21w.tsv'}),\n",
       " Document(page_content='aos idosos. Estender ao setor privado essa comparticipação quando a rede pública e social não', metadata={'source': '/var/folders/q3/m5wwnysd3kx0n1_6yvsrqghh0000gn/T/tmp2zcuj21w.tsv'})]"
      ]
     },
     "execution_count": 14,
     "metadata": {},
     "output_type": "execute_result"
    }
   ],
   "source": [
    "tt5 = db.vectorstore.similarity_search(\"quais os desafios com o SNS?\", k=5)\n",
    "tt5"
   ]
  },
  {
   "cell_type": "code",
   "execution_count": 15,
   "metadata": {},
   "outputs": [
    {
     "data": {
      "text/html": [
       "<div>\n",
       "<style scoped>\n",
       "    .dataframe tbody tr th:only-of-type {\n",
       "        vertical-align: middle;\n",
       "    }\n",
       "\n",
       "    .dataframe tbody tr th {\n",
       "        vertical-align: top;\n",
       "    }\n",
       "\n",
       "    .dataframe thead th {\n",
       "        text-align: right;\n",
       "    }\n",
       "</style>\n",
       "<table border=\"1\" class=\"dataframe\">\n",
       "  <thead>\n",
       "    <tr style=\"text-align: right;\">\n",
       "      <th></th>\n",
       "      <th>category_pt</th>\n",
       "      <th>proposal_pt</th>\n",
       "    </tr>\n",
       "  </thead>\n",
       "  <tbody>\n",
       "    <tr>\n",
       "      <th>0</th>\n",
       "      <td>fiscalidade</td>\n",
       "      <td>Portugal tem um problema muito sério de asfixi...</td>\n",
       "    </tr>\n",
       "    <tr>\n",
       "      <th>1</th>\n",
       "      <td>fiscalidade</td>\n",
       "      <td>Redução generalizada das taxas marginais nos p...</td>\n",
       "    </tr>\n",
       "    <tr>\n",
       "      <th>2</th>\n",
       "      <td>fiscalidade</td>\n",
       "      <td>Os jovens até aos 35 anos terão um regime fisc...</td>\n",
       "    </tr>\n",
       "    <tr>\n",
       "      <th>3</th>\n",
       "      <td>fiscalidade</td>\n",
       "      <td>Para evitar o aumento da carga fiscal, o PSD p...</td>\n",
       "    </tr>\n",
       "    <tr>\n",
       "      <th>4</th>\n",
       "      <td>fiscalidade</td>\n",
       "      <td>Alteração legal que permite, em caso de excess...</td>\n",
       "    </tr>\n",
       "    <tr>\n",
       "      <th>...</th>\n",
       "      <td>...</td>\n",
       "      <td>...</td>\n",
       "    </tr>\n",
       "    <tr>\n",
       "      <th>59</th>\n",
       "      <td>saude</td>\n",
       "      <td>Garantir que todos os cidadãos que não tenham ...</td>\n",
       "    </tr>\n",
       "    <tr>\n",
       "      <th>60</th>\n",
       "      <td>saude</td>\n",
       "      <td>Contratualizar diretamente com os setores públ...</td>\n",
       "    </tr>\n",
       "    <tr>\n",
       "      <th>61</th>\n",
       "      <td>saude</td>\n",
       "      <td>É fundamental reforçar a Rede de Cuidados Cont...</td>\n",
       "    </tr>\n",
       "    <tr>\n",
       "      <th>62</th>\n",
       "      <td>saude</td>\n",
       "      <td>Deve ser atribuída uma contribuição financeira...</td>\n",
       "    </tr>\n",
       "    <tr>\n",
       "      <th>63</th>\n",
       "      <td>saude</td>\n",
       "      <td>Na promoção da saúde e na prevenção da doença ...</td>\n",
       "    </tr>\n",
       "  </tbody>\n",
       "</table>\n",
       "<p>64 rows × 2 columns</p>\n",
       "</div>"
      ],
      "text/plain": [
       "    category_pt                                        proposal_pt\n",
       "0   fiscalidade  Portugal tem um problema muito sério de asfixi...\n",
       "1   fiscalidade  Redução generalizada das taxas marginais nos p...\n",
       "2   fiscalidade  Os jovens até aos 35 anos terão um regime fisc...\n",
       "3   fiscalidade  Para evitar o aumento da carga fiscal, o PSD p...\n",
       "4   fiscalidade  Alteração legal que permite, em caso de excess...\n",
       "..          ...                                                ...\n",
       "59        saude  Garantir que todos os cidadãos que não tenham ...\n",
       "60        saude  Contratualizar diretamente com os setores públ...\n",
       "61        saude  É fundamental reforçar a Rede de Cuidados Cont...\n",
       "62        saude  Deve ser atribuída uma contribuição financeira...\n",
       "63        saude  Na promoção da saúde e na prevenção da doença ...\n",
       "\n",
       "[64 rows x 2 columns]"
      ]
     },
     "execution_count": 15,
     "metadata": {},
     "output_type": "execute_result"
    }
   ],
   "source": [
    "df"
   ]
  },
  {
   "cell_type": "code",
   "execution_count": null,
   "metadata": {},
   "outputs": [],
   "source": []
  }
 ],
 "metadata": {
  "kernelspec": {
   "display_name": "elections",
   "language": "python",
   "name": "python3"
  },
  "language_info": {
   "codemirror_mode": {
    "name": "ipython",
    "version": 3
   },
   "file_extension": ".py",
   "mimetype": "text/x-python",
   "name": "python",
   "nbconvert_exporter": "python",
   "pygments_lexer": "ipython3",
   "version": "3.10.0"
  }
 },
 "nbformat": 4,
 "nbformat_minor": 2
}
