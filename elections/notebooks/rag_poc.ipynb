{
 "cells": [
  {
   "cell_type": "code",
   "execution_count": 1,
   "metadata": {},
   "outputs": [],
   "source": [
    "%reload_ext autoreload\n",
    "%autoreload 2\n"
   ]
  },
  {
   "cell_type": "code",
   "execution_count": 8,
   "metadata": {},
   "outputs": [],
   "source": [
    "from pathlib import Path\n",
    "\n",
    "from elections.scrape_psd import PsdScrapper"
   ]
  },
  {
   "cell_type": "code",
   "execution_count": 6,
   "metadata": {},
   "outputs": [],
   "source": [
    "POLITICAL_DATA= Path(\"political_data\")\n",
    "PSD = \"psd\"\n",
    "\n",
    "POLITICAL_PATHS = {\n",
    "    \"psd\": POLITICAL_DATA / PSD / \"proposals.tsv\"\n",
    "}"
   ]
  },
  {
   "cell_type": "code",
   "execution_count": 10,
   "metadata": {},
   "outputs": [],
   "source": [
    "if not POLITICAL_PATHS[\"psd\"].is_file():\n",
    "    psd = PsdScrapper()\n",
    "    psd.get()\n",
    "    psd.parse_proposals()\n",
    "    \n",
    "    POLITICAL_PATHS[\"psd\"].parent.mkdir(parents=True, exist_ok=True)\n",
    "    psd.to_csv(POLITICAL_PATHS[\"psd\"])"
   ]
  },
  {
   "cell_type": "code",
   "execution_count": null,
   "metadata": {},
   "outputs": [],
   "source": []
  }
 ],
 "metadata": {
  "kernelspec": {
   "display_name": "elections",
   "language": "python",
   "name": "python3"
  },
  "language_info": {
   "codemirror_mode": {
    "name": "ipython",
    "version": 3
   },
   "file_extension": ".py",
   "mimetype": "text/x-python",
   "name": "python",
   "nbconvert_exporter": "python",
   "pygments_lexer": "ipython3",
   "version": "3.12.0"
  }
 },
 "nbformat": 4,
 "nbformat_minor": 2
}
