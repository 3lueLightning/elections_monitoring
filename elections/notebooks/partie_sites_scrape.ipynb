{
 "cells": [
  {
   "cell_type": "code",
   "execution_count": null,
   "metadata": {},
   "outputs": [],
   "source": [
    "%reload_ext autoreload\n",
    "%autoreload 2"
   ]
  },
  {
   "cell_type": "code",
   "execution_count": null,
   "metadata": {},
   "outputs": [],
   "source": [
    "from elections import constants\n",
    "from elections.scrapers.psd_scraper import PsdScrapper"
   ]
  },
  {
   "cell_type": "markdown",
   "metadata": {},
   "source": [
    "# Scrape PSD proposals"
   ]
  },
  {
   "cell_type": "code",
   "execution_count": null,
   "metadata": {},
   "outputs": [],
   "source": [
    "if not constants.POLITICAL_PATHS[\"psd\"].is_file():\n",
    "    psd = PsdScrapper()\n",
    "    psd.get()\n",
    "    psd.parse_proposals()\n",
    "    \n",
    "    constants.POLITICAL_PATHS[\"psd\"].parent.mkdir(parents=True, exist_ok=True)\n",
    "    psd.to_csv(constants.POLITICAL_PATHS[\"psd\"])"
   ]
  }
 ],
 "metadata": {
  "language_info": {
   "name": "python"
  }
 },
 "nbformat": 4,
 "nbformat_minor": 2
}
