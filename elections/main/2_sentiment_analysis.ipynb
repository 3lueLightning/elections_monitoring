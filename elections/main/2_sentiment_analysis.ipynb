{
 "cells": [
  {
   "cell_type": "markdown",
   "metadata": {},
   "source": [
    "# Sentiment analysis\n",
    "This is the main notebook to run the sentiment analysis"
   ]
  },
  {
   "cell_type": "code",
   "execution_count": 1,
   "metadata": {},
   "outputs": [],
   "source": [
    "%reload_ext autoreload\n",
    "%autoreload 2"
   ]
  },
  {
   "cell_type": "code",
   "execution_count": 29,
   "metadata": {},
   "outputs": [],
   "source": [
    "from elections.sentiment_analysis import SentimentAnalysis"
   ]
  },
  {
   "cell_type": "code",
   "execution_count": 30,
   "metadata": {},
   "outputs": [
    {
     "name": "stdout",
     "output_type": "stream",
     "text": [
      "using model: gpt-3.5-turbo\n"
     ]
    },
    {
     "name": "stderr",
     "output_type": "stream",
     "text": [
      "  0%|          | 0/666 [00:00<?, ?it/s]03/05/2024 04:22:49 PM - HTTP Request: POST https://api.openai.com/v1/chat/completions \"HTTP/1.1 200 OK\"\n",
      "  0%|          | 1/666 [00:01<16:01,  1.45s/it]03/05/2024 04:22:56 PM - HTTP Request: POST https://api.openai.com/v1/chat/completions \"HTTP/1.1 200 OK\"\n",
      "  0%|          | 2/666 [00:09<56:52,  5.14s/it]03/05/2024 04:23:01 PM - HTTP Request: POST https://api.openai.com/v1/chat/completions \"HTTP/1.1 200 OK\"\n",
      "03/05/2024 04:23:05 PM - HTTP Request: POST https://api.openai.com/v1/chat/completions \"HTTP/1.1 200 OK\"\n",
      "03/05/2024 04:23:09 PM - HTTP Request: POST https://api.openai.com/v1/chat/completions \"HTTP/1.1 200 OK\"\n",
      "  0%|          | 3/666 [00:22<1:37:04,  8.78s/it]"
     ]
    },
    {
     "name": "stdout",
     "output_type": "stream",
     "text": [
      "Model error:\n",
      "1 validation error for ArticleSentiment\n",
      "sentiments.1.citations\n",
      "  Value error, Either both a score and citations are present            or neither are. [type=value_error, input_value=[], input_type=list]\n",
      "    For further information visit https://errors.pydantic.dev/2.5/v/value_error\n"
     ]
    },
    {
     "name": "stderr",
     "output_type": "stream",
     "text": [
      "03/05/2024 04:23:14 PM - HTTP Request: POST https://api.openai.com/v1/chat/completions \"HTTP/1.1 200 OK\"\n",
      "  1%|          | 4/666 [00:27<1:20:35,  7.30s/it]03/05/2024 04:23:16 PM - HTTP Request: POST https://api.openai.com/v1/chat/completions \"HTTP/1.1 200 OK\"\n",
      "  1%|          | 5/666 [00:28<57:14,  5.20s/it]  "
     ]
    },
    {
     "name": "stdout",
     "output_type": "stream",
     "text": [
      "Saved in DB 5 of 666\n"
     ]
    },
    {
     "name": "stderr",
     "output_type": "stream",
     "text": [
      "03/05/2024 04:23:17 PM - HTTP Request: POST https://api.openai.com/v1/chat/completions \"HTTP/1.1 200 OK\"\n",
      "  1%|          | 6/666 [00:29<41:32,  3.78s/it]03/05/2024 04:23:18 PM - HTTP Request: POST https://api.openai.com/v1/chat/completions \"HTTP/1.1 200 OK\"\n",
      "  1%|          | 7/666 [00:30<31:07,  2.83s/it]03/05/2024 04:23:27 PM - HTTP Request: POST https://api.openai.com/v1/chat/completions \"HTTP/1.1 200 OK\"\n",
      "03/05/2024 04:23:34 PM - HTTP Request: POST https://api.openai.com/v1/chat/completions \"HTTP/1.1 200 OK\"\n",
      "03/05/2024 04:23:41 PM - HTTP Request: POST https://api.openai.com/v1/chat/completions \"HTTP/1.1 200 OK\"\n",
      "  1%|          | 8/666 [00:53<1:40:54,  9.20s/it]"
     ]
    },
    {
     "name": "stdout",
     "output_type": "stream",
     "text": [
      "Model error:\n",
      "1 validation error for ArticleSentiment\n",
      "sentiments.1.citations\n",
      "  Value error, Either both a score and citations are present            or neither are. [type=value_error, input_value=[], input_type=list]\n",
      "    For further information visit https://errors.pydantic.dev/2.5/v/value_error\n"
     ]
    },
    {
     "name": "stderr",
     "output_type": "stream",
     "text": [
      "03/05/2024 04:23:42 PM - HTTP Request: POST https://api.openai.com/v1/chat/completions \"HTTP/1.1 200 OK\"\n",
      "  1%|▏         | 9/666 [00:55<1:15:39,  6.91s/it]03/05/2024 04:23:44 PM - HTTP Request: POST https://api.openai.com/v1/chat/completions \"HTTP/1.1 200 OK\"\n",
      "  2%|▏         | 10/666 [00:57<58:47,  5.38s/it] "
     ]
    },
    {
     "name": "stdout",
     "output_type": "stream",
     "text": [
      "Saved in DB 10 of 666\n"
     ]
    },
    {
     "name": "stderr",
     "output_type": "stream",
     "text": [
      "03/05/2024 04:23:50 PM - HTTP Request: POST https://api.openai.com/v1/chat/completions \"HTTP/1.1 200 OK\"\n",
      "03/05/2024 04:23:55 PM - HTTP Request: POST https://api.openai.com/v1/chat/completions \"HTTP/1.1 200 OK\"\n",
      "  2%|▏         | 11/666 [01:07<1:16:13,  6.98s/it]03/05/2024 04:23:57 PM - HTTP Request: POST https://api.openai.com/v1/chat/completions \"HTTP/1.1 200 OK\"\n",
      "  2%|▏         | 12/666 [01:10<1:00:06,  5.51s/it]03/05/2024 04:24:05 PM - HTTP Request: POST https://api.openai.com/v1/chat/completions \"HTTP/1.1 200 OK\"\n",
      "  2%|▏         | 13/666 [01:18<1:08:04,  6.25s/it]03/05/2024 04:24:07 PM - HTTP Request: POST https://api.openai.com/v1/chat/completions \"HTTP/1.1 200 OK\"\n",
      "  2%|▏         | 14/666 [01:19<52:32,  4.84s/it]  03/05/2024 04:24:09 PM - HTTP Request: POST https://api.openai.com/v1/chat/completions \"HTTP/1.1 200 OK\"\n",
      "03/05/2024 04:24:10 PM - HTTP Request: POST https://api.openai.com/v1/chat/completions \"HTTP/1.1 200 OK\"\n",
      "  2%|▏         | 15/666 [01:23<48:43,  4.49s/it]"
     ]
    },
    {
     "name": "stdout",
     "output_type": "stream",
     "text": [
      "Saved in DB 15 of 666\n"
     ]
    },
    {
     "name": "stderr",
     "output_type": "stream",
     "text": [
      "03/05/2024 04:24:18 PM - HTTP Request: POST https://api.openai.com/v1/chat/completions \"HTTP/1.1 200 OK\"\n",
      "03/05/2024 04:24:26 PM - HTTP Request: POST https://api.openai.com/v1/chat/completions \"HTTP/1.1 200 OK\"\n",
      "03/05/2024 04:24:34 PM - HTTP Request: POST https://api.openai.com/v1/chat/completions \"HTTP/1.1 200 OK\"\n",
      "  2%|▏         | 16/666 [01:46<1:50:38, 10.21s/it]"
     ]
    },
    {
     "name": "stdout",
     "output_type": "stream",
     "text": [
      "Model error:\n",
      "2 validation errors for ArticleSentiment\n",
      "sentiments.2.citations\n",
      "  Field required [type=missing, input_value={'name': 'André Ventura', 'score': 0}, input_type=dict]\n",
      "    For further information visit https://errors.pydantic.dev/2.5/v/missing\n",
      "sentiments.3.citations\n",
      "  Field required [type=missing, input_value={'name': 'Rui Rocha', 'score': 0}, input_type=dict]\n",
      "    For further information visit https://errors.pydantic.dev/2.5/v/missing\n"
     ]
    },
    {
     "name": "stderr",
     "output_type": "stream",
     "text": [
      "03/05/2024 04:24:35 PM - HTTP Request: POST https://api.openai.com/v1/chat/completions \"HTTP/1.1 200 OK\"\n",
      "  3%|▎         | 17/666 [01:48<1:22:02,  7.58s/it]03/05/2024 04:24:39 PM - HTTP Request: POST https://api.openai.com/v1/chat/completions \"HTTP/1.1 200 OK\"\n",
      "  3%|▎         | 18/666 [01:51<1:08:36,  6.35s/it]03/05/2024 04:24:42 PM - HTTP Request: POST https://api.openai.com/v1/chat/completions \"HTTP/1.1 200 OK\"\n",
      "  3%|▎         | 19/666 [01:54<57:27,  5.33s/it]  03/05/2024 04:24:43 PM - HTTP Request: POST https://api.openai.com/v1/chat/completions \"HTTP/1.1 200 OK\"\n",
      "  3%|▎         | 20/666 [01:55<44:02,  4.09s/it]"
     ]
    },
    {
     "name": "stdout",
     "output_type": "stream",
     "text": [
      "Saved in DB 20 of 666\n"
     ]
    },
    {
     "name": "stderr",
     "output_type": "stream",
     "text": [
      "03/05/2024 04:24:50 PM - HTTP Request: POST https://api.openai.com/v1/chat/completions \"HTTP/1.1 200 OK\"\n",
      "  3%|▎         | 21/666 [02:02<53:02,  4.93s/it]03/05/2024 04:24:53 PM - HTTP Request: POST https://api.openai.com/v1/chat/completions \"HTTP/1.1 200 OK\"\n",
      "03/05/2024 04:24:56 PM - HTTP Request: POST https://api.openai.com/v1/chat/completions \"HTTP/1.1 200 OK\"\n",
      "03/05/2024 04:24:59 PM - HTTP Request: POST https://api.openai.com/v1/chat/completions \"HTTP/1.1 200 OK\"\n",
      "  3%|▎         | 22/666 [02:12<1:07:11,  6.26s/it]"
     ]
    },
    {
     "name": "stdout",
     "output_type": "stream",
     "text": [
      "Model error:\n",
      "2 validation errors for ArticleSentiment\n",
      "sentiments.0.citations.1.score\n",
      "  Input should be a valid number [type=float_type, input_value=None, input_type=NoneType]\n",
      "    For further information visit https://errors.pydantic.dev/2.5/v/float_type\n",
      "sentiments.0.citations.2.score\n",
      "  Input should be a valid number [type=float_type, input_value=None, input_type=NoneType]\n",
      "    For further information visit https://errors.pydantic.dev/2.5/v/float_type\n"
     ]
    },
    {
     "name": "stderr",
     "output_type": "stream",
     "text": [
      "03/05/2024 04:25:01 PM - HTTP Request: POST https://api.openai.com/v1/chat/completions \"HTTP/1.1 200 OK\"\n",
      "03/05/2024 04:25:02 PM - HTTP Request: POST https://api.openai.com/v1/chat/completions \"HTTP/1.1 200 OK\"\n",
      "  3%|▎         | 23/666 [02:14<55:53,  5.21s/it]  03/05/2024 04:25:11 PM - HTTP Request: POST https://api.openai.com/v1/chat/completions \"HTTP/1.1 200 OK\"\n",
      "  4%|▎         | 24/666 [02:24<1:08:13,  6.38s/it]03/05/2024 04:25:12 PM - HTTP Request: POST https://api.openai.com/v1/chat/completions \"HTTP/1.1 200 OK\"\n",
      "03/05/2024 04:25:13 PM - HTTP Request: POST https://api.openai.com/v1/chat/completions \"HTTP/1.1 200 OK\"\n",
      "  4%|▍         | 25/666 [02:26<54:51,  5.14s/it]  "
     ]
    },
    {
     "name": "stdout",
     "output_type": "stream",
     "text": [
      "Saved in DB 25 of 666\n"
     ]
    },
    {
     "name": "stderr",
     "output_type": "stream",
     "text": [
      "03/05/2024 04:25:17 PM - HTTP Request: POST https://api.openai.com/v1/chat/completions \"HTTP/1.1 200 OK\"\n",
      "  4%|▍         | 26/666 [02:30<51:08,  4.80s/it]03/05/2024 04:25:32 PM - HTTP Request: POST https://api.openai.com/v1/chat/completions \"HTTP/1.1 200 OK\"\n",
      "  4%|▍         | 27/666 [02:45<1:22:57,  7.79s/it]03/05/2024 04:25:39 PM - HTTP Request: POST https://api.openai.com/v1/chat/completions \"HTTP/1.1 200 OK\"\n",
      "03/05/2024 04:25:46 PM - HTTP Request: POST https://api.openai.com/v1/chat/completions \"HTTP/1.1 200 OK\"\n",
      "03/05/2024 04:25:54 PM - HTTP Request: POST https://api.openai.com/v1/chat/completions \"HTTP/1.1 200 OK\"\n",
      "  4%|▍         | 28/666 [03:06<2:07:41, 12.01s/it]"
     ]
    },
    {
     "name": "stdout",
     "output_type": "stream",
     "text": [
      "Model error:\n",
      "1 validation error for ArticleSentiment\n",
      "sentiments.1.citations\n",
      "  Value error, Either both a score and citations are present            or neither are. [type=value_error, input_value=[], input_type=list]\n",
      "    For further information visit https://errors.pydantic.dev/2.5/v/value_error\n"
     ]
    },
    {
     "name": "stderr",
     "output_type": "stream",
     "text": [
      "03/05/2024 04:26:04 PM - HTTP Request: POST https://api.openai.com/v1/chat/completions \"HTTP/1.1 200 OK\"\n",
      "  4%|▍         | 29/666 [03:17<2:01:43, 11.47s/it]03/05/2024 04:26:19 PM - HTTP Request: POST https://api.openai.com/v1/chat/completions \"HTTP/1.1 200 OK\"\n",
      "03/05/2024 04:26:30 PM - HTTP Request: POST https://api.openai.com/v1/chat/completions \"HTTP/1.1 200 OK\"\n",
      "03/05/2024 04:26:41 PM - HTTP Request: POST https://api.openai.com/v1/chat/completions \"HTTP/1.1 200 OK\"\n",
      "  5%|▍         | 30/666 [03:54<3:23:22, 19.19s/it]"
     ]
    },
    {
     "name": "stdout",
     "output_type": "stream",
     "text": [
      "Model error:\n",
      "1 validation error for ArticleSentiment\n",
      "sentiments.1.citations\n",
      "  Value error, Either both a score and citations are present            or neither are. [type=value_error, input_value=[], input_type=list]\n",
      "    For further information visit https://errors.pydantic.dev/2.5/v/value_error\n",
      "Saved in DB 30 of 666\n"
     ]
    },
    {
     "name": "stderr",
     "output_type": "stream",
     "text": [
      "03/05/2024 04:26:48 PM - HTTP Request: POST https://api.openai.com/v1/chat/completions \"HTTP/1.1 200 OK\"\n",
      "  5%|▍         | 31/666 [04:01<2:44:18, 15.52s/it]03/05/2024 04:26:53 PM - HTTP Request: POST https://api.openai.com/v1/chat/completions \"HTTP/1.1 200 OK\"\n",
      "  5%|▍         | 32/666 [04:06<2:10:29, 12.35s/it]03/05/2024 04:26:55 PM - HTTP Request: POST https://api.openai.com/v1/chat/completions \"HTTP/1.1 200 OK\"\n",
      "03/05/2024 04:26:57 PM - HTTP Request: POST https://api.openai.com/v1/chat/completions \"HTTP/1.1 200 OK\"\n",
      "  5%|▍         | 33/666 [04:09<1:42:19,  9.70s/it]03/05/2024 04:27:00 PM - HTTP Request: POST https://api.openai.com/v1/chat/completions \"HTTP/1.1 200 OK\"\n",
      "03/05/2024 04:27:03 PM - HTTP Request: POST https://api.openai.com/v1/chat/completions \"HTTP/1.1 200 OK\"\n",
      "  5%|▌         | 34/666 [04:15<1:29:58,  8.54s/it]03/05/2024 04:27:04 PM - HTTP Request: POST https://api.openai.com/v1/chat/completions \"HTTP/1.1 200 OK\"\n",
      "  5%|▌         | 35/666 [04:17<1:07:52,  6.45s/it]"
     ]
    },
    {
     "name": "stdout",
     "output_type": "stream",
     "text": [
      "Saved in DB 35 of 666\n"
     ]
    },
    {
     "name": "stderr",
     "output_type": "stream",
     "text": [
      "03/05/2024 04:27:10 PM - HTTP Request: POST https://api.openai.com/v1/chat/completions \"HTTP/1.1 200 OK\"\n",
      "03/05/2024 04:27:12 PM - HTTP Request: POST https://api.openai.com/v1/chat/completions \"HTTP/1.1 200 OK\"\n",
      "  5%|▌         | 36/666 [04:24<1:10:41,  6.73s/it]03/05/2024 04:27:22 PM - HTTP Request: POST https://api.openai.com/v1/chat/completions \"HTTP/1.1 200 OK\"\n",
      "  6%|▌         | 37/666 [04:34<1:21:39,  7.79s/it]03/05/2024 04:27:27 PM - HTTP Request: POST https://api.openai.com/v1/chat/completions \"HTTP/1.1 200 OK\"\n",
      "  6%|▌         | 38/666 [04:40<1:13:23,  7.01s/it]03/05/2024 04:27:30 PM - HTTP Request: POST https://api.openai.com/v1/chat/completions \"HTTP/1.1 200 OK\"\n",
      "  6%|▌         | 39/666 [04:43<1:00:48,  5.82s/it]03/05/2024 04:27:33 PM - HTTP Request: POST https://api.openai.com/v1/chat/completions \"HTTP/1.1 200 OK\"\n",
      "  6%|▌         | 40/666 [04:46<52:18,  5.01s/it]  "
     ]
    },
    {
     "name": "stdout",
     "output_type": "stream",
     "text": [
      "Saved in DB 40 of 666\n"
     ]
    },
    {
     "name": "stderr",
     "output_type": "stream",
     "text": [
      "03/05/2024 04:27:34 PM - HTTP Request: POST https://api.openai.com/v1/chat/completions \"HTTP/1.1 200 OK\"\n",
      "  6%|▌         | 41/666 [04:47<39:44,  3.81s/it]03/05/2024 04:27:40 PM - HTTP Request: POST https://api.openai.com/v1/chat/completions \"HTTP/1.1 200 OK\"\n",
      "  6%|▋         | 42/666 [04:53<46:09,  4.44s/it]03/05/2024 04:27:41 PM - HTTP Request: POST https://api.openai.com/v1/chat/completions \"HTTP/1.1 200 OK\"\n",
      "03/05/2024 04:27:42 PM - HTTP Request: POST https://api.openai.com/v1/chat/completions \"HTTP/1.1 200 OK\"\n",
      "  6%|▋         | 43/666 [04:55<38:46,  3.73s/it]03/05/2024 04:27:51 PM - HTTP Request: POST https://api.openai.com/v1/chat/completions \"HTTP/1.1 200 OK\"\n",
      "  7%|▋         | 44/666 [05:03<53:13,  5.13s/it]03/05/2024 04:27:52 PM - HTTP Request: POST https://api.openai.com/v1/chat/completions \"HTTP/1.1 200 OK\"\n",
      "03/05/2024 04:27:53 PM - HTTP Request: POST https://api.openai.com/v1/chat/completions \"HTTP/1.1 200 OK\"\n",
      "  7%|▋         | 45/666 [05:06<45:39,  4.41s/it]"
     ]
    },
    {
     "name": "stdout",
     "output_type": "stream",
     "text": [
      "Saved in DB 45 of 666\n"
     ]
    },
    {
     "name": "stderr",
     "output_type": "stream",
     "text": [
      "03/05/2024 04:27:56 PM - HTTP Request: POST https://api.openai.com/v1/chat/completions \"HTTP/1.1 200 OK\"\n",
      "03/05/2024 04:27:58 PM - HTTP Request: POST https://api.openai.com/v1/chat/completions \"HTTP/1.1 200 OK\"\n",
      "03/05/2024 04:27:59 PM - HTTP Request: POST https://api.openai.com/v1/chat/completions \"HTTP/1.1 200 OK\"\n",
      "  7%|▋         | 46/666 [05:12<49:49,  4.82s/it]"
     ]
    },
    {
     "name": "stdout",
     "output_type": "stream",
     "text": [
      "Model error:\n",
      "2 validation errors for ArticleSentiment\n",
      "sentiments.0.citations\n",
      "  Value error, Either both a score and citations are present            or neither are. [type=value_error, input_value=[], input_type=list]\n",
      "    For further information visit https://errors.pydantic.dev/2.5/v/value_error\n",
      "sentiments.1.citations\n",
      "  Value error, Either both a score and citations are present            or neither are. [type=value_error, input_value=[], input_type=list]\n",
      "    For further information visit https://errors.pydantic.dev/2.5/v/value_error\n"
     ]
    },
    {
     "name": "stderr",
     "output_type": "stream",
     "text": [
      "03/05/2024 04:28:08 PM - HTTP Request: POST https://api.openai.com/v1/chat/completions \"HTTP/1.1 200 OK\"\n",
      "  7%|▋         | 47/666 [05:21<1:02:24,  6.05s/it]03/05/2024 04:28:10 PM - HTTP Request: POST https://api.openai.com/v1/chat/completions \"HTTP/1.1 200 OK\"\n",
      "  7%|▋         | 48/666 [05:23<50:53,  4.94s/it]  03/05/2024 04:28:12 PM - HTTP Request: POST https://api.openai.com/v1/chat/completions \"HTTP/1.1 200 OK\"\n",
      "03/05/2024 04:28:14 PM - HTTP Request: POST https://api.openai.com/v1/chat/completions \"HTTP/1.1 200 OK\"\n",
      "  7%|▋         | 49/666 [05:26<45:10,  4.39s/it]03/05/2024 04:28:17 PM - HTTP Request: POST https://api.openai.com/v1/chat/completions \"HTTP/1.1 200 OK\"\n",
      "  8%|▊         | 50/666 [05:29<40:51,  3.98s/it]"
     ]
    },
    {
     "name": "stdout",
     "output_type": "stream",
     "text": [
      "Saved in DB 50 of 666\n"
     ]
    },
    {
     "name": "stderr",
     "output_type": "stream",
     "text": [
      "03/05/2024 04:28:19 PM - HTTP Request: POST https://api.openai.com/v1/chat/completions \"HTTP/1.1 200 OK\"\n",
      "03/05/2024 04:28:20 PM - HTTP Request: POST https://api.openai.com/v1/chat/completions \"HTTP/1.1 200 OK\"\n",
      "  8%|▊         | 51/666 [05:32<38:38,  3.77s/it]03/05/2024 04:28:29 PM - HTTP Request: POST https://api.openai.com/v1/chat/completions \"HTTP/1.1 200 OK\"\n",
      "  8%|▊         | 52/666 [05:41<54:58,  5.37s/it]03/05/2024 04:28:30 PM - HTTP Request: POST https://api.openai.com/v1/chat/completions \"HTTP/1.1 200 OK\"\n",
      "  8%|▊         | 53/666 [05:42<41:31,  4.06s/it]03/05/2024 04:28:32 PM - HTTP Request: POST https://api.openai.com/v1/chat/completions \"HTTP/1.1 200 OK\"\n",
      "03/05/2024 04:28:34 PM - HTTP Request: POST https://api.openai.com/v1/chat/completions \"HTTP/1.1 200 OK\"\n",
      "  8%|▊         | 54/666 [05:46<40:20,  3.95s/it]03/05/2024 04:28:36 PM - HTTP Request: POST https://api.openai.com/v1/chat/completions \"HTTP/1.1 200 OK\"\n",
      "  8%|▊         | 55/666 [05:48<34:29,  3.39s/it]"
     ]
    },
    {
     "name": "stdout",
     "output_type": "stream",
     "text": [
      "Saved in DB 55 of 666\n"
     ]
    },
    {
     "name": "stderr",
     "output_type": "stream",
     "text": [
      "03/05/2024 04:28:37 PM - HTTP Request: POST https://api.openai.com/v1/chat/completions \"HTTP/1.1 200 OK\"\n",
      "  8%|▊         | 56/666 [05:50<29:25,  2.89s/it]03/05/2024 04:28:44 PM - HTTP Request: POST https://api.openai.com/v1/chat/completions \"HTTP/1.1 200 OK\"\n",
      "  9%|▊         | 57/666 [05:57<41:06,  4.05s/it]03/05/2024 04:28:45 PM - HTTP Request: POST https://api.openai.com/v1/chat/completions \"HTTP/1.1 200 OK\"\n",
      "  9%|▊         | 58/666 [05:58<32:27,  3.20s/it]03/05/2024 04:28:47 PM - HTTP Request: POST https://api.openai.com/v1/chat/completions \"HTTP/1.1 200 OK\"\n",
      "  9%|▉         | 59/666 [06:00<28:15,  2.79s/it]03/05/2024 04:28:48 PM - HTTP Request: POST https://api.openai.com/v1/chat/completions \"HTTP/1.1 200 OK\"\n",
      "  9%|▉         | 60/666 [06:01<23:05,  2.29s/it]"
     ]
    },
    {
     "name": "stdout",
     "output_type": "stream",
     "text": [
      "Saved in DB 60 of 666\n"
     ]
    },
    {
     "name": "stderr",
     "output_type": "stream",
     "text": [
      "03/05/2024 04:28:53 PM - HTTP Request: POST https://api.openai.com/v1/chat/completions \"HTTP/1.1 200 OK\"\n",
      "03/05/2024 04:28:58 PM - HTTP Request: POST https://api.openai.com/v1/chat/completions \"HTTP/1.1 200 OK\"\n",
      "03/05/2024 04:29:04 PM - HTTP Request: POST https://api.openai.com/v1/chat/completions \"HTTP/1.1 200 OK\"\n",
      "  9%|▉         | 61/666 [06:17<1:03:37,  6.31s/it]"
     ]
    },
    {
     "name": "stdout",
     "output_type": "stream",
     "text": [
      "Model error:\n",
      "1 validation error for ArticleSentiment\n",
      "sentiments.0.citations\n",
      "  Value error, Either both a score and citations are present            or neither are. [type=value_error, input_value=[{'quote': 'Há limites, ...inário', 'score': 0.5}], input_type=list]\n",
      "    For further information visit https://errors.pydantic.dev/2.5/v/value_error\n"
     ]
    },
    {
     "name": "stderr",
     "output_type": "stream",
     "text": [
      "03/05/2024 04:29:06 PM - HTTP Request: POST https://api.openai.com/v1/chat/completions \"HTTP/1.1 200 OK\"\n",
      "03/05/2024 04:29:07 PM - HTTP Request: POST https://api.openai.com/v1/chat/completions \"HTTP/1.1 200 OK\"\n",
      "  9%|▉         | 62/666 [06:19<52:30,  5.22s/it]  03/05/2024 04:29:08 PM - HTTP Request: POST https://api.openai.com/v1/chat/completions \"HTTP/1.1 200 OK\"\n",
      "  9%|▉         | 63/666 [06:20<40:38,  4.04s/it]03/05/2024 04:29:10 PM - HTTP Request: POST https://api.openai.com/v1/chat/completions \"HTTP/1.1 200 OK\"\n",
      " 10%|▉         | 64/666 [06:22<33:18,  3.32s/it]03/05/2024 04:29:18 PM - HTTP Request: POST https://api.openai.com/v1/chat/completions \"HTTP/1.1 200 OK\"\n",
      "03/05/2024 04:29:26 PM - HTTP Request: POST https://api.openai.com/v1/chat/completions \"HTTP/1.1 200 OK\"\n",
      "03/05/2024 04:29:33 PM - HTTP Request: POST https://api.openai.com/v1/chat/completions \"HTTP/1.1 200 OK\"\n",
      " 10%|▉         | 65/666 [06:46<1:33:51,  9.37s/it]"
     ]
    },
    {
     "name": "stdout",
     "output_type": "stream",
     "text": [
      "Model error:\n",
      "1 validation error for ArticleSentiment\n",
      "sentiments.0.citations\n",
      "  Value error, Either both a score and citations are present            or neither are. [type=value_error, input_value=[{'quote': 'Pedro Nuno Sa... added.\", 'score': 0.8}], input_type=list]\n",
      "    For further information visit https://errors.pydantic.dev/2.5/v/value_error\n",
      "Saved in DB 65 of 666\n"
     ]
    },
    {
     "name": "stderr",
     "output_type": "stream",
     "text": [
      "03/05/2024 04:29:35 PM - HTTP Request: POST https://api.openai.com/v1/chat/completions \"HTTP/1.1 200 OK\"\n",
      " 10%|▉         | 66/666 [06:47<1:09:52,  6.99s/it]03/05/2024 04:29:44 PM - HTTP Request: POST https://api.openai.com/v1/chat/completions \"HTTP/1.1 200 OK\"\n",
      " 10%|█         | 67/666 [06:56<1:15:34,  7.57s/it]03/05/2024 04:29:46 PM - HTTP Request: POST https://api.openai.com/v1/chat/completions \"HTTP/1.1 200 OK\"\n",
      "03/05/2024 04:29:47 PM - HTTP Request: POST https://api.openai.com/v1/chat/completions \"HTTP/1.1 200 OK\"\n",
      " 10%|█         | 68/666 [07:00<1:04:03,  6.43s/it]03/05/2024 04:29:54 PM - HTTP Request: POST https://api.openai.com/v1/chat/completions \"HTTP/1.1 200 OK\"\n",
      "03/05/2024 04:29:58 PM - HTTP Request: POST https://api.openai.com/v1/chat/completions \"HTTP/1.1 200 OK\"\n",
      "03/05/2024 04:30:03 PM - HTTP Request: POST https://api.openai.com/v1/chat/completions \"HTTP/1.1 200 OK\"\n",
      " 10%|█         | 69/666 [07:15<1:30:30,  9.10s/it]"
     ]
    },
    {
     "name": "stdout",
     "output_type": "stream",
     "text": [
      "Model error:\n",
      "1 validation error for ArticleSentiment\n",
      "sentiments.0.citations\n",
      "  Value error, Either both a score and citations are present            or neither are. [type=value_error, input_value=[{'quote': 'Decisão sobr...Açores', 'score': 0.8}], input_type=list]\n",
      "    For further information visit https://errors.pydantic.dev/2.5/v/value_error\n"
     ]
    },
    {
     "name": "stderr",
     "output_type": "stream",
     "text": [
      "03/05/2024 04:30:04 PM - HTTP Request: POST https://api.openai.com/v1/chat/completions \"HTTP/1.1 200 OK\"\n",
      "03/05/2024 04:30:05 PM - HTTP Request: POST https://api.openai.com/v1/chat/completions \"HTTP/1.1 200 OK\"\n",
      " 11%|█         | 70/666 [07:18<1:10:44,  7.12s/it]"
     ]
    },
    {
     "name": "stdout",
     "output_type": "stream",
     "text": [
      "Saved in DB 70 of 666\n"
     ]
    },
    {
     "name": "stderr",
     "output_type": "stream",
     "text": [
      "03/05/2024 04:30:06 PM - HTTP Request: POST https://api.openai.com/v1/chat/completions \"HTTP/1.1 200 OK\"\n",
      " 11%|█         | 71/666 [07:19<53:19,  5.38s/it]  03/05/2024 04:30:08 PM - HTTP Request: POST https://api.openai.com/v1/chat/completions \"HTTP/1.1 200 OK\"\n",
      "03/05/2024 04:30:09 PM - HTTP Request: POST https://api.openai.com/v1/chat/completions \"HTTP/1.1 200 OK\"\n",
      " 11%|█         | 72/666 [07:22<45:45,  4.62s/it]03/05/2024 04:30:13 PM - HTTP Request: POST https://api.openai.com/v1/chat/completions \"HTTP/1.1 200 OK\"\n",
      "03/05/2024 04:30:16 PM - HTTP Request: POST https://api.openai.com/v1/chat/completions \"HTTP/1.1 200 OK\"\n",
      "03/05/2024 04:30:18 PM - HTTP Request: POST https://api.openai.com/v1/chat/completions \"HTTP/1.1 200 OK\"\n",
      " 11%|█         | 73/666 [07:31<59:10,  5.99s/it]"
     ]
    },
    {
     "name": "stdout",
     "output_type": "stream",
     "text": [
      "Model error:\n",
      "1 validation error for ArticleSentiment\n",
      "sentiments.0.citations\n",
      "  Value error, Either both a score and citations are present            or neither are. [type=value_error, input_value=[], input_type=list]\n",
      "    For further information visit https://errors.pydantic.dev/2.5/v/value_error\n"
     ]
    },
    {
     "name": "stderr",
     "output_type": "stream",
     "text": [
      "03/05/2024 04:30:20 PM - HTTP Request: POST https://api.openai.com/v1/chat/completions \"HTTP/1.1 200 OK\"\n",
      " 11%|█         | 74/666 [07:32<45:23,  4.60s/it]03/05/2024 04:30:22 PM - HTTP Request: POST https://api.openai.com/v1/chat/completions \"HTTP/1.1 200 OK\"\n",
      " 11%|█▏        | 75/666 [07:35<39:02,  3.96s/it]"
     ]
    },
    {
     "name": "stdout",
     "output_type": "stream",
     "text": [
      "Saved in DB 75 of 666\n"
     ]
    },
    {
     "name": "stderr",
     "output_type": "stream",
     "text": [
      "03/05/2024 04:30:24 PM - HTTP Request: POST https://api.openai.com/v1/chat/completions \"HTTP/1.1 200 OK\"\n",
      "03/05/2024 04:30:26 PM - HTTP Request: POST https://api.openai.com/v1/chat/completions \"HTTP/1.1 200 OK\"\n",
      "03/05/2024 04:30:29 PM - HTTP Request: POST https://api.openai.com/v1/chat/completions \"HTTP/1.1 200 OK\"\n",
      " 11%|█▏        | 76/666 [07:41<46:06,  4.69s/it]"
     ]
    },
    {
     "name": "stdout",
     "output_type": "stream",
     "text": [
      "Model error:\n",
      "1 validation error for ArticleSentiment\n",
      "sentiments.2.name\n",
      "  Value error, Citation `Rui Rocha` not found in article_n_meta [type=value_error, input_value='Rui Rocha', input_type=str]\n",
      "    For further information visit https://errors.pydantic.dev/2.5/v/value_error\n"
     ]
    },
    {
     "name": "stderr",
     "output_type": "stream",
     "text": [
      "03/05/2024 04:30:30 PM - HTTP Request: POST https://api.openai.com/v1/chat/completions \"HTTP/1.1 200 OK\"\n",
      " 12%|█▏        | 77/666 [07:42<36:02,  3.67s/it]03/05/2024 04:30:33 PM - HTTP Request: POST https://api.openai.com/v1/chat/completions \"HTTP/1.1 200 OK\"\n",
      " 12%|█▏        | 78/666 [07:46<34:22,  3.51s/it]03/05/2024 04:30:34 PM - HTTP Request: POST https://api.openai.com/v1/chat/completions \"HTTP/1.1 200 OK\"\n",
      " 12%|█▏        | 79/666 [07:47<26:49,  2.74s/it]03/05/2024 04:30:36 PM - HTTP Request: POST https://api.openai.com/v1/chat/completions \"HTTP/1.1 200 OK\"\n",
      " 12%|█▏        | 80/666 [07:48<24:13,  2.48s/it]"
     ]
    },
    {
     "name": "stdout",
     "output_type": "stream",
     "text": [
      "Saved in DB 80 of 666\n"
     ]
    },
    {
     "name": "stderr",
     "output_type": "stream",
     "text": [
      "03/05/2024 04:30:40 PM - HTTP Request: POST https://api.openai.com/v1/chat/completions \"HTTP/1.1 200 OK\"\n",
      " 12%|█▏        | 81/666 [07:52<28:16,  2.90s/it]03/05/2024 04:30:42 PM - HTTP Request: POST https://api.openai.com/v1/chat/completions \"HTTP/1.1 200 OK\"\n",
      " 12%|█▏        | 82/666 [07:55<26:40,  2.74s/it]03/05/2024 04:30:43 PM - HTTP Request: POST https://api.openai.com/v1/chat/completions \"HTTP/1.1 200 OK\"\n",
      " 12%|█▏        | 83/666 [07:56<22:22,  2.30s/it]03/05/2024 04:30:45 PM - HTTP Request: POST https://api.openai.com/v1/chat/completions \"HTTP/1.1 200 OK\"\n",
      " 13%|█▎        | 84/666 [07:57<19:37,  2.02s/it]03/05/2024 04:30:48 PM - HTTP Request: POST https://api.openai.com/v1/chat/completions \"HTTP/1.1 200 OK\"\n",
      "03/05/2024 04:30:50 PM - HTTP Request: POST https://api.openai.com/v1/chat/completions \"HTTP/1.1 200 OK\"\n",
      "03/05/2024 04:30:54 PM - HTTP Request: POST https://api.openai.com/v1/chat/completions \"HTTP/1.1 200 OK\"\n",
      " 13%|█▎        | 85/666 [08:07<40:39,  4.20s/it]"
     ]
    },
    {
     "name": "stdout",
     "output_type": "stream",
     "text": [
      "Model error:\n",
      "1 validation error for ArticleSentiment\n",
      "sentiments.2.citations\n",
      "  Value error, Either both a score and citations are present            or neither are. [type=value_error, input_value=[], input_type=list]\n",
      "    For further information visit https://errors.pydantic.dev/2.5/v/value_error\n",
      "Saved in DB 85 of 666\n"
     ]
    },
    {
     "name": "stderr",
     "output_type": "stream",
     "text": [
      "03/05/2024 04:30:57 PM - HTTP Request: POST https://api.openai.com/v1/chat/completions \"HTTP/1.1 200 OK\"\n",
      " 13%|█▎        | 86/666 [08:10<37:19,  3.86s/it]03/05/2024 04:30:59 PM - HTTP Request: POST https://api.openai.com/v1/chat/completions \"HTTP/1.1 200 OK\"\n",
      "03/05/2024 04:31:01 PM - HTTP Request: POST https://api.openai.com/v1/chat/completions \"HTTP/1.1 200 OK\"\n",
      "03/05/2024 04:31:03 PM - HTTP Request: POST https://api.openai.com/v1/chat/completions \"HTTP/1.1 200 OK\"\n",
      " 13%|█▎        | 87/666 [08:15<41:44,  4.33s/it]03/05/2024 04:31:05 PM - HTTP Request: POST https://api.openai.com/v1/chat/completions \"HTTP/1.1 200 OK\"\n",
      " 13%|█▎        | 88/666 [08:18<36:46,  3.82s/it]03/05/2024 04:31:20 PM - HTTP Request: POST https://api.openai.com/v1/chat/completions \"HTTP/1.1 200 OK\"\n",
      " 13%|█▎        | 89/666 [08:32<1:07:36,  7.03s/it]03/05/2024 04:31:21 PM - HTTP Request: POST https://api.openai.com/v1/chat/completions \"HTTP/1.1 200 OK\"\n",
      " 14%|█▎        | 90/666 [08:34<51:21,  5.35s/it]  "
     ]
    },
    {
     "name": "stdout",
     "output_type": "stream",
     "text": [
      "Saved in DB 90 of 666\n"
     ]
    },
    {
     "name": "stderr",
     "output_type": "stream",
     "text": [
      "03/05/2024 04:31:22 PM - HTTP Request: POST https://api.openai.com/v1/chat/completions \"HTTP/1.1 200 OK\"\n",
      " 14%|█▎        | 91/666 [08:34<38:14,  3.99s/it]03/05/2024 04:31:27 PM - HTTP Request: POST https://api.openai.com/v1/chat/completions \"HTTP/1.1 200 OK\"\n",
      "03/05/2024 04:31:32 PM - HTTP Request: POST https://api.openai.com/v1/chat/completions \"HTTP/1.1 200 OK\"\n",
      "03/05/2024 04:31:37 PM - HTTP Request: POST https://api.openai.com/v1/chat/completions \"HTTP/1.1 200 OK\"\n",
      " 14%|█▍        | 92/666 [08:49<1:08:52,  7.20s/it]"
     ]
    },
    {
     "name": "stdout",
     "output_type": "stream",
     "text": [
      "Model error:\n",
      "2 validation errors for ArticleSentiment\n",
      "sentiments.0.citations.0.score\n",
      "  Field required [type=missing, input_value={'quote': 'O PS propaga q...car em primeiro lugar.'}, input_type=dict]\n",
      "    For further information visit https://errors.pydantic.dev/2.5/v/missing\n",
      "sentiments.0.citations.1.score\n",
      "  Field required [type=missing, input_value={'quote': 'Se Luís Monte..., governar em minoria.'}, input_type=dict]\n",
      "    For further information visit https://errors.pydantic.dev/2.5/v/missing\n"
     ]
    },
    {
     "name": "stderr",
     "output_type": "stream",
     "text": [
      "03/05/2024 04:31:41 PM - HTTP Request: POST https://api.openai.com/v1/chat/completions \"HTTP/1.1 200 OK\"\n",
      "03/05/2024 04:31:46 PM - HTTP Request: POST https://api.openai.com/v1/chat/completions \"HTTP/1.1 200 OK\"\n",
      "03/05/2024 04:31:52 PM - HTTP Request: POST https://api.openai.com/v1/chat/completions \"HTTP/1.1 200 OK\"\n",
      " 14%|█▍        | 93/666 [09:05<1:32:39,  9.70s/it]"
     ]
    },
    {
     "name": "stdout",
     "output_type": "stream",
     "text": [
      "Model error:\n",
      "1 validation error for ArticleSentiment\n",
      "sentiments.0.citations\n",
      "  Value error, Either both a score and citations are present            or neither are. [type=value_error, input_value=[], input_type=list]\n",
      "    For further information visit https://errors.pydantic.dev/2.5/v/value_error\n"
     ]
    },
    {
     "name": "stderr",
     "output_type": "stream",
     "text": [
      "03/05/2024 04:31:58 PM - HTTP Request: POST https://api.openai.com/v1/chat/completions \"HTTP/1.1 200 OK\"\n",
      " 14%|█▍        | 94/666 [09:10<1:20:13,  8.41s/it]03/05/2024 04:32:00 PM - HTTP Request: POST https://api.openai.com/v1/chat/completions \"HTTP/1.1 200 OK\"\n",
      "03/05/2024 04:32:04 PM - HTTP Request: POST https://api.openai.com/v1/chat/completions \"HTTP/1.1 200 OK\"\n",
      "03/05/2024 04:32:07 PM - HTTP Request: POST https://api.openai.com/v1/chat/completions \"HTTP/1.1 200 OK\"\n",
      " 14%|█▍        | 95/666 [09:19<1:22:51,  8.71s/it]"
     ]
    },
    {
     "name": "stdout",
     "output_type": "stream",
     "text": [
      "Model error:\n",
      "1 validation error for ArticleSentiment\n",
      "sentiments.1.citations\n",
      "  Value error, Either both a score and citations are present            or neither are. [type=value_error, input_value=[], input_type=list]\n",
      "    For further information visit https://errors.pydantic.dev/2.5/v/value_error\n",
      "Saved in DB 95 of 666\n"
     ]
    },
    {
     "name": "stderr",
     "output_type": "stream",
     "text": [
      "03/05/2024 04:32:11 PM - HTTP Request: POST https://api.openai.com/v1/chat/completions \"HTTP/1.1 200 OK\"\n",
      " 14%|█▍        | 96/666 [09:23<1:08:08,  7.17s/it]03/05/2024 04:32:13 PM - HTTP Request: POST https://api.openai.com/v1/chat/completions \"HTTP/1.1 200 OK\"\n",
      " 15%|█▍        | 97/666 [09:25<53:30,  5.64s/it]  03/05/2024 04:32:15 PM - HTTP Request: POST https://api.openai.com/v1/chat/completions \"HTTP/1.1 200 OK\"\n",
      "03/05/2024 04:32:16 PM - HTTP Request: POST https://api.openai.com/v1/chat/completions \"HTTP/1.1 200 OK\"\n",
      "03/05/2024 04:32:18 PM - HTTP Request: POST https://api.openai.com/v1/chat/completions \"HTTP/1.1 200 OK\"\n",
      " 15%|█▍        | 98/666 [09:31<52:49,  5.58s/it]03/05/2024 04:33:18 PM - HTTP Request: POST https://api.openai.com/v1/chat/completions \"HTTP/1.1 200 OK\"\n",
      "03/05/2024 04:33:23 PM - HTTP Request: POST https://api.openai.com/v1/chat/completions \"HTTP/1.1 200 OK\"\n",
      "03/05/2024 04:33:30 PM - HTTP Request: POST https://api.openai.com/v1/chat/completions \"HTTP/1.1 200 OK\"\n",
      " 15%|█▍        | 99/666 [10:42<3:59:27, 25.34s/it]03/05/2024 04:33:32 PM - HTTP Request: POST https://api.openai.com/v1/chat/completions \"HTTP/1.1 200 OK\"\n",
      " 15%|█▌        | 100/666 [10:44<2:53:10, 18.36s/it]"
     ]
    },
    {
     "name": "stdout",
     "output_type": "stream",
     "text": [
      "Saved in DB 100 of 666\n"
     ]
    },
    {
     "name": "stderr",
     "output_type": "stream",
     "text": [
      "03/05/2024 04:33:35 PM - HTTP Request: POST https://api.openai.com/v1/chat/completions \"HTTP/1.1 200 OK\"\n",
      " 15%|█▌        | 101/666 [10:47<2:09:51, 13.79s/it]03/05/2024 04:33:36 PM - HTTP Request: POST https://api.openai.com/v1/chat/completions \"HTTP/1.1 200 OK\"\n",
      " 15%|█▌        | 102/666 [10:48<1:34:19, 10.03s/it]03/05/2024 04:33:37 PM - HTTP Request: POST https://api.openai.com/v1/chat/completions \"HTTP/1.1 200 OK\"\n",
      " 15%|█▌        | 103/666 [10:50<1:09:06,  7.36s/it]03/05/2024 04:33:39 PM - HTTP Request: POST https://api.openai.com/v1/chat/completions \"HTTP/1.1 200 OK\"\n",
      " 16%|█▌        | 104/666 [10:52<53:53,  5.75s/it]  03/05/2024 04:33:40 PM - HTTP Request: POST https://api.openai.com/v1/chat/completions \"HTTP/1.1 200 OK\"\n",
      " 16%|█▌        | 105/666 [10:53<41:13,  4.41s/it]"
     ]
    },
    {
     "name": "stdout",
     "output_type": "stream",
     "text": [
      "Saved in DB 105 of 666\n"
     ]
    },
    {
     "name": "stderr",
     "output_type": "stream",
     "text": [
      "03/05/2024 04:33:41 PM - HTTP Request: POST https://api.openai.com/v1/chat/completions \"HTTP/1.1 200 OK\"\n",
      " 16%|█▌        | 106/666 [10:54<31:14,  3.35s/it]03/05/2024 04:33:46 PM - HTTP Request: POST https://api.openai.com/v1/chat/completions \"HTTP/1.1 200 OK\"\n",
      " 16%|█▌        | 107/666 [10:58<34:04,  3.66s/it]03/05/2024 04:33:47 PM - HTTP Request: POST https://api.openai.com/v1/chat/completions \"HTTP/1.1 200 OK\"\n",
      " 16%|█▌        | 108/666 [10:59<26:53,  2.89s/it]03/05/2024 04:33:48 PM - HTTP Request: POST https://api.openai.com/v1/chat/completions \"HTTP/1.1 200 OK\"\n",
      " 16%|█▋        | 109/666 [11:01<23:04,  2.49s/it]03/05/2024 04:33:50 PM - HTTP Request: POST https://api.openai.com/v1/chat/completions \"HTTP/1.1 200 OK\"\n",
      " 17%|█▋        | 110/666 [11:02<20:32,  2.22s/it]"
     ]
    },
    {
     "name": "stdout",
     "output_type": "stream",
     "text": [
      "Saved in DB 110 of 666\n"
     ]
    },
    {
     "name": "stderr",
     "output_type": "stream",
     "text": [
      "03/05/2024 04:33:58 PM - HTTP Request: POST https://api.openai.com/v1/chat/completions \"HTTP/1.1 200 OK\"\n",
      " 17%|█▋        | 111/666 [11:10<35:22,  3.82s/it]03/05/2024 04:33:59 PM - HTTP Request: POST https://api.openai.com/v1/chat/completions \"HTTP/1.1 200 OK\"\n",
      " 17%|█▋        | 112/666 [11:12<29:05,  3.15s/it]03/05/2024 04:34:01 PM - HTTP Request: POST https://api.openai.com/v1/chat/completions \"HTTP/1.1 200 OK\"\n",
      " 17%|█▋        | 113/666 [11:14<26:26,  2.87s/it]03/05/2024 04:34:04 PM - HTTP Request: POST https://api.openai.com/v1/chat/completions \"HTTP/1.1 200 OK\"\n",
      " 17%|█▋        | 114/666 [11:17<26:57,  2.93s/it]03/05/2024 04:34:07 PM - HTTP Request: POST https://api.openai.com/v1/chat/completions \"HTTP/1.1 200 OK\"\n",
      " 17%|█▋        | 115/666 [11:19<26:01,  2.83s/it]"
     ]
    },
    {
     "name": "stdout",
     "output_type": "stream",
     "text": [
      "Saved in DB 115 of 666\n"
     ]
    },
    {
     "name": "stderr",
     "output_type": "stream",
     "text": [
      "03/05/2024 04:34:10 PM - HTTP Request: POST https://api.openai.com/v1/chat/completions \"HTTP/1.1 200 OK\"\n",
      " 17%|█▋        | 116/666 [11:22<26:01,  2.84s/it]03/05/2024 04:34:12 PM - HTTP Request: POST https://api.openai.com/v1/chat/completions \"HTTP/1.1 200 OK\"\n",
      " 18%|█▊        | 117/666 [11:25<24:35,  2.69s/it]03/05/2024 04:34:17 PM - HTTP Request: POST https://api.openai.com/v1/chat/completions \"HTTP/1.1 200 OK\"\n",
      " 18%|█▊        | 118/666 [11:29<30:20,  3.32s/it]03/05/2024 04:34:19 PM - HTTP Request: POST https://api.openai.com/v1/chat/completions \"HTTP/1.1 200 OK\"\n",
      " 18%|█▊        | 119/666 [11:31<26:30,  2.91s/it]03/05/2024 04:34:20 PM - HTTP Request: POST https://api.openai.com/v1/chat/completions \"HTTP/1.1 200 OK\"\n",
      " 18%|█▊        | 120/666 [11:33<22:01,  2.42s/it]"
     ]
    },
    {
     "name": "stdout",
     "output_type": "stream",
     "text": [
      "Saved in DB 120 of 666\n"
     ]
    },
    {
     "name": "stderr",
     "output_type": "stream",
     "text": [
      "03/05/2024 04:34:22 PM - HTTP Request: POST https://api.openai.com/v1/chat/completions \"HTTP/1.1 200 OK\"\n",
      " 18%|█▊        | 121/666 [11:35<20:44,  2.28s/it]03/05/2024 04:34:23 PM - HTTP Request: POST https://api.openai.com/v1/chat/completions \"HTTP/1.1 200 OK\"\n",
      " 18%|█▊        | 122/666 [11:36<17:29,  1.93s/it]03/05/2024 04:34:25 PM - HTTP Request: POST https://api.openai.com/v1/chat/completions \"HTTP/1.1 200 OK\"\n",
      " 18%|█▊        | 123/666 [11:37<17:03,  1.89s/it]03/05/2024 04:34:32 PM - HTTP Request: POST https://api.openai.com/v1/chat/completions \"HTTP/1.1 200 OK\"\n",
      " 19%|█▊        | 124/666 [11:44<30:05,  3.33s/it]03/05/2024 04:34:34 PM - HTTP Request: POST https://api.openai.com/v1/chat/completions \"HTTP/1.1 200 OK\"\n",
      "03/05/2024 04:34:37 PM - HTTP Request: POST https://api.openai.com/v1/chat/completions \"HTTP/1.1 200 OK\"\n",
      " 19%|█▉        | 125/666 [11:49<34:38,  3.84s/it]"
     ]
    },
    {
     "name": "stdout",
     "output_type": "stream",
     "text": [
      "Saved in DB 125 of 666\n"
     ]
    },
    {
     "name": "stderr",
     "output_type": "stream",
     "text": [
      "03/05/2024 04:34:39 PM - HTTP Request: POST https://api.openai.com/v1/chat/completions \"HTTP/1.1 200 OK\"\n",
      "03/05/2024 04:34:40 PM - HTTP Request: POST https://api.openai.com/v1/chat/completions \"HTTP/1.1 200 OK\"\n",
      " 19%|█▉        | 126/666 [11:52<32:26,  3.61s/it]03/05/2024 04:34:42 PM - HTTP Request: POST https://api.openai.com/v1/chat/completions \"HTTP/1.1 200 OK\"\n",
      " 19%|█▉        | 127/666 [11:55<29:18,  3.26s/it]03/05/2024 04:34:45 PM - HTTP Request: POST https://api.openai.com/v1/chat/completions \"HTTP/1.1 200 OK\"\n",
      " 19%|█▉        | 128/666 [11:58<28:28,  3.18s/it]03/05/2024 04:34:49 PM - HTTP Request: POST https://api.openai.com/v1/chat/completions \"HTTP/1.1 200 OK\"\n",
      "03/05/2024 04:34:52 PM - HTTP Request: POST https://api.openai.com/v1/chat/completions \"HTTP/1.1 200 OK\"\n",
      "03/05/2024 04:34:56 PM - HTTP Request: POST https://api.openai.com/v1/chat/completions \"HTTP/1.1 200 OK\"\n",
      " 19%|█▉        | 129/666 [12:08<47:42,  5.33s/it]"
     ]
    },
    {
     "name": "stdout",
     "output_type": "stream",
     "text": [
      "Model error:\n",
      "1 validation error for ArticleSentiment\n",
      "sentiments.1.citations\n",
      "  Value error, Either both a score and citations are present            or neither are. [type=value_error, input_value=[], input_type=list]\n",
      "    For further information visit https://errors.pydantic.dev/2.5/v/value_error\n"
     ]
    },
    {
     "name": "stderr",
     "output_type": "stream",
     "text": [
      "03/05/2024 04:34:57 PM - HTTP Request: POST https://api.openai.com/v1/chat/completions \"HTTP/1.1 200 OK\"\n",
      " 20%|█▉        | 130/666 [12:09<36:52,  4.13s/it]"
     ]
    },
    {
     "name": "stdout",
     "output_type": "stream",
     "text": [
      "Saved in DB 130 of 666\n"
     ]
    },
    {
     "name": "stderr",
     "output_type": "stream",
     "text": [
      "03/05/2024 04:34:59 PM - HTTP Request: POST https://api.openai.com/v1/chat/completions \"HTTP/1.1 200 OK\"\n",
      " 20%|█▉        | 131/666 [12:11<29:55,  3.36s/it]03/05/2024 04:35:06 PM - HTTP Request: POST https://api.openai.com/v1/chat/completions \"HTTP/1.1 200 OK\"\n",
      "03/05/2024 04:35:11 PM - HTTP Request: POST https://api.openai.com/v1/chat/completions \"HTTP/1.1 200 OK\"\n",
      " 20%|█▉        | 132/666 [12:24<54:29,  6.12s/it]03/05/2024 04:35:12 PM - HTTP Request: POST https://api.openai.com/v1/chat/completions \"HTTP/1.1 200 OK\"\n",
      " 20%|█▉        | 133/666 [12:24<40:30,  4.56s/it]03/05/2024 04:35:13 PM - HTTP Request: POST https://api.openai.com/v1/chat/completions \"HTTP/1.1 200 OK\"\n",
      " 20%|██        | 134/666 [12:26<31:50,  3.59s/it]03/05/2024 04:35:15 PM - HTTP Request: POST https://api.openai.com/v1/chat/completions \"HTTP/1.1 200 OK\"\n",
      " 20%|██        | 135/666 [12:27<25:32,  2.89s/it]"
     ]
    },
    {
     "name": "stdout",
     "output_type": "stream",
     "text": [
      "Saved in DB 135 of 666\n"
     ]
    },
    {
     "name": "stderr",
     "output_type": "stream",
     "text": [
      "03/05/2024 04:35:16 PM - HTTP Request: POST https://api.openai.com/v1/chat/completions \"HTTP/1.1 200 OK\"\n",
      " 20%|██        | 136/666 [12:28<21:16,  2.41s/it]03/05/2024 04:35:18 PM - HTTP Request: POST https://api.openai.com/v1/chat/completions \"HTTP/1.1 200 OK\"\n",
      " 21%|██        | 137/666 [12:30<19:27,  2.21s/it]03/05/2024 04:35:28 PM - HTTP Request: POST https://api.openai.com/v1/chat/completions \"HTTP/1.1 200 OK\"\n",
      " 21%|██        | 138/666 [12:40<40:42,  4.63s/it]03/05/2024 04:35:35 PM - HTTP Request: POST https://api.openai.com/v1/chat/completions \"HTTP/1.1 200 OK\"\n",
      "03/05/2024 04:35:42 PM - HTTP Request: POST https://api.openai.com/v1/chat/completions \"HTTP/1.1 200 OK\"\n",
      "03/05/2024 04:37:02 PM - HTTP Request: POST https://api.openai.com/v1/chat/completions \"HTTP/1.1 200 OK\"\n",
      " 21%|██        | 139/666 [14:14<4:36:27, 31.48s/it]"
     ]
    },
    {
     "name": "stdout",
     "output_type": "stream",
     "text": [
      "Model error:\n",
      "1 validation error for ArticleSentiment\n",
      "  Invalid JSON: control character (\\u0000-\\u001F) found while parsing a string at line 5 column 9 [type=json_invalid, input_value='{\"sentiments\":[{\"name\":\"...\\r \\r \\r \\r \\r \\r \\r \\r', input_type=str]\n",
      "    For further information visit https://errors.pydantic.dev/2.5/v/json_invalid\n"
     ]
    },
    {
     "name": "stderr",
     "output_type": "stream",
     "text": [
      "03/05/2024 04:37:04 PM - HTTP Request: POST https://api.openai.com/v1/chat/completions \"HTTP/1.1 200 OK\"\n",
      "03/05/2024 04:37:06 PM - HTTP Request: POST https://api.openai.com/v1/chat/completions \"HTTP/1.1 200 OK\"\n",
      " 21%|██        | 140/666 [14:18<3:22:28, 23.10s/it]"
     ]
    },
    {
     "name": "stdout",
     "output_type": "stream",
     "text": [
      "Saved in DB 140 of 666\n"
     ]
    },
    {
     "name": "stderr",
     "output_type": "stream",
     "text": [
      "03/05/2024 04:37:07 PM - HTTP Request: POST https://api.openai.com/v1/chat/completions \"HTTP/1.1 200 OK\"\n",
      " 21%|██        | 141/666 [14:19<2:24:20, 16.50s/it]03/05/2024 04:37:15 PM - HTTP Request: POST https://api.openai.com/v1/chat/completions \"HTTP/1.1 200 OK\"\n",
      "03/05/2024 04:37:22 PM - HTTP Request: POST https://api.openai.com/v1/chat/completions \"HTTP/1.1 200 OK\"\n",
      " 21%|██▏       | 142/666 [14:34<2:19:49, 16.01s/it]03/05/2024 04:37:24 PM - HTTP Request: POST https://api.openai.com/v1/chat/completions \"HTTP/1.1 200 OK\"\n",
      " 21%|██▏       | 143/666 [14:36<1:44:10, 11.95s/it]03/05/2024 04:37:25 PM - HTTP Request: POST https://api.openai.com/v1/chat/completions \"HTTP/1.1 200 OK\"\n",
      " 22%|██▏       | 144/666 [14:38<1:15:58,  8.73s/it]03/05/2024 04:37:33 PM - HTTP Request: POST https://api.openai.com/v1/chat/completions \"HTTP/1.1 200 OK\"\n",
      "03/05/2024 04:37:40 PM - HTTP Request: POST https://api.openai.com/v1/chat/completions \"HTTP/1.1 200 OK\"\n",
      "03/05/2024 04:37:48 PM - HTTP Request: POST https://api.openai.com/v1/chat/completions \"HTTP/1.1 200 OK\"\n",
      " 22%|██▏       | 145/666 [15:00<1:51:30, 12.84s/it]"
     ]
    },
    {
     "name": "stdout",
     "output_type": "stream",
     "text": [
      "Model error:\n",
      "1 validation error for ArticleSentiment\n",
      "sentiments.0.citations\n",
      "  Value error, Either both a score and citations are present            or neither are. [type=value_error, input_value=[{'quote': \"Luís Montene...nças'.\", 'score': 0.7}], input_type=list]\n",
      "    For further information visit https://errors.pydantic.dev/2.5/v/value_error\n",
      "Saved in DB 145 of 666\n"
     ]
    },
    {
     "name": "stderr",
     "output_type": "stream",
     "text": [
      "03/05/2024 04:37:50 PM - HTTP Request: POST https://api.openai.com/v1/chat/completions \"HTTP/1.1 200 OK\"\n",
      " 22%|██▏       | 146/666 [15:02<1:22:41,  9.54s/it]03/05/2024 04:37:54 PM - HTTP Request: POST https://api.openai.com/v1/chat/completions \"HTTP/1.1 200 OK\"\n",
      " 22%|██▏       | 147/666 [15:07<1:09:59,  8.09s/it]03/05/2024 04:38:00 PM - HTTP Request: POST https://api.openai.com/v1/chat/completions \"HTTP/1.1 200 OK\"\n",
      " 22%|██▏       | 148/666 [15:12<1:03:29,  7.35s/it]03/05/2024 04:38:01 PM - HTTP Request: POST https://api.openai.com/v1/chat/completions \"HTTP/1.1 200 OK\"\n",
      " 22%|██▏       | 149/666 [15:14<48:20,  5.61s/it]  03/05/2024 04:38:14 PM - HTTP Request: POST https://api.openai.com/v1/chat/completions \"HTTP/1.1 200 OK\"\n",
      "03/05/2024 04:38:16 PM - HTTP Request: POST https://api.openai.com/v1/chat/completions \"HTTP/1.1 200 OK\"\n",
      " 23%|██▎       | 150/666 [15:28<1:10:29,  8.20s/it]"
     ]
    },
    {
     "name": "stdout",
     "output_type": "stream",
     "text": [
      "Saved in DB 150 of 666\n"
     ]
    },
    {
     "name": "stderr",
     "output_type": "stream",
     "text": [
      "03/05/2024 04:38:18 PM - HTTP Request: POST https://api.openai.com/v1/chat/completions \"HTTP/1.1 200 OK\"\n",
      " 23%|██▎       | 151/666 [15:31<56:37,  6.60s/it]  03/05/2024 04:38:20 PM - HTTP Request: POST https://api.openai.com/v1/chat/completions \"HTTP/1.1 200 OK\"\n",
      " 23%|██▎       | 152/666 [15:32<43:22,  5.06s/it]03/05/2024 04:38:21 PM - HTTP Request: POST https://api.openai.com/v1/chat/completions \"HTTP/1.1 200 OK\"\n",
      " 23%|██▎       | 153/666 [15:34<33:22,  3.90s/it]03/05/2024 04:38:23 PM - HTTP Request: POST https://api.openai.com/v1/chat/completions \"HTTP/1.1 200 OK\"\n",
      " 23%|██▎       | 154/666 [15:35<27:59,  3.28s/it]03/05/2024 04:38:25 PM - HTTP Request: POST https://api.openai.com/v1/chat/completions \"HTTP/1.1 200 OK\"\n",
      "03/05/2024 04:38:26 PM - HTTP Request: POST https://api.openai.com/v1/chat/completions \"HTTP/1.1 200 OK\"\n",
      " 23%|██▎       | 155/666 [15:39<28:27,  3.34s/it]"
     ]
    },
    {
     "name": "stdout",
     "output_type": "stream",
     "text": [
      "Saved in DB 155 of 666\n"
     ]
    },
    {
     "name": "stderr",
     "output_type": "stream",
     "text": [
      "03/05/2024 04:38:28 PM - HTTP Request: POST https://api.openai.com/v1/chat/completions \"HTTP/1.1 200 OK\"\n",
      "03/05/2024 04:38:30 PM - HTTP Request: POST https://api.openai.com/v1/chat/completions \"HTTP/1.1 200 OK\"\n",
      "03/05/2024 04:38:31 PM - HTTP Request: POST https://api.openai.com/v1/chat/completions \"HTTP/1.1 200 OK\"\n",
      " 23%|██▎       | 156/666 [15:44<32:25,  3.81s/it]"
     ]
    },
    {
     "name": "stdout",
     "output_type": "stream",
     "text": [
      "Model error:\n",
      "2 validation errors for ArticleSentiment\n",
      "sentiments.0.citations\n",
      "  Value error, Either both a score and citations are present            or neither are. [type=value_error, input_value=[], input_type=list]\n",
      "    For further information visit https://errors.pydantic.dev/2.5/v/value_error\n",
      "sentiments.1.citations\n",
      "  Value error, Either both a score and citations are present            or neither are. [type=value_error, input_value=[], input_type=list]\n",
      "    For further information visit https://errors.pydantic.dev/2.5/v/value_error\n"
     ]
    },
    {
     "name": "stderr",
     "output_type": "stream",
     "text": [
      "03/05/2024 04:38:33 PM - HTTP Request: POST https://api.openai.com/v1/chat/completions \"HTTP/1.1 200 OK\"\n",
      " 24%|██▎       | 157/666 [15:45<25:53,  3.05s/it]03/05/2024 04:38:34 PM - HTTP Request: POST https://api.openai.com/v1/chat/completions \"HTTP/1.1 200 OK\"\n",
      "03/05/2024 04:38:37 PM - HTTP Request: POST https://api.openai.com/v1/chat/completions \"HTTP/1.1 200 OK\"\n",
      "03/05/2024 04:38:38 PM - HTTP Request: POST https://api.openai.com/v1/chat/completions \"HTTP/1.1 200 OK\"\n",
      " 24%|██▎       | 158/666 [15:51<32:26,  3.83s/it]03/05/2024 04:38:41 PM - HTTP Request: POST https://api.openai.com/v1/chat/completions \"HTTP/1.1 200 OK\"\n",
      " 24%|██▍       | 159/666 [15:53<28:15,  3.34s/it]03/05/2024 04:38:43 PM - HTTP Request: POST https://api.openai.com/v1/chat/completions \"HTTP/1.1 200 OK\"\n",
      "03/05/2024 04:38:44 PM - HTTP Request: POST https://api.openai.com/v1/chat/completions \"HTTP/1.1 200 OK\"\n",
      " 24%|██▍       | 160/666 [15:57<28:44,  3.41s/it]"
     ]
    },
    {
     "name": "stdout",
     "output_type": "stream",
     "text": [
      "Saved in DB 160 of 666\n"
     ]
    },
    {
     "name": "stderr",
     "output_type": "stream",
     "text": [
      "03/05/2024 04:38:48 PM - HTTP Request: POST https://api.openai.com/v1/chat/completions \"HTTP/1.1 200 OK\"\n",
      " 24%|██▍       | 161/666 [16:01<30:56,  3.68s/it]03/05/2024 04:38:58 PM - HTTP Request: POST https://api.openai.com/v1/chat/completions \"HTTP/1.1 200 OK\"\n",
      " 24%|██▍       | 162/666 [16:10<45:20,  5.40s/it]03/05/2024 04:39:12 PM - HTTP Request: POST https://api.openai.com/v1/chat/completions \"HTTP/1.1 200 OK\"\n",
      " 24%|██▍       | 163/666 [16:24<1:07:17,  8.03s/it]03/05/2024 04:39:13 PM - HTTP Request: POST https://api.openai.com/v1/chat/completions \"HTTP/1.1 200 OK\"\n",
      "03/05/2024 04:39:14 PM - HTTP Request: POST https://api.openai.com/v1/chat/completions \"HTTP/1.1 200 OK\"\n",
      " 25%|██▍       | 164/666 [16:26<51:31,  6.16s/it]  03/05/2024 04:39:15 PM - HTTP Request: POST https://api.openai.com/v1/chat/completions \"HTTP/1.1 200 OK\"\n",
      " 25%|██▍       | 165/666 [16:27<38:36,  4.62s/it]"
     ]
    },
    {
     "name": "stdout",
     "output_type": "stream",
     "text": [
      "Saved in DB 165 of 666\n"
     ]
    },
    {
     "name": "stderr",
     "output_type": "stream",
     "text": [
      "03/05/2024 04:39:16 PM - HTTP Request: POST https://api.openai.com/v1/chat/completions \"HTTP/1.1 200 OK\"\n",
      "03/05/2024 04:39:17 PM - HTTP Request: POST https://api.openai.com/v1/chat/completions \"HTTP/1.1 200 OK\"\n",
      " 25%|██▍       | 166/666 [16:30<33:14,  3.99s/it]03/05/2024 04:39:31 PM - HTTP Request: POST https://api.openai.com/v1/chat/completions \"HTTP/1.1 200 OK\"\n",
      " 25%|██▌       | 167/666 [16:43<57:01,  6.86s/it]03/05/2024 04:39:32 PM - HTTP Request: POST https://api.openai.com/v1/chat/completions \"HTTP/1.1 200 OK\"\n",
      "03/05/2024 04:39:34 PM - HTTP Request: POST https://api.openai.com/v1/chat/completions \"HTTP/1.1 200 OK\"\n",
      " 25%|██▌       | 168/666 [16:46<46:56,  5.66s/it]03/05/2024 04:39:36 PM - HTTP Request: POST https://api.openai.com/v1/chat/completions \"HTTP/1.1 200 OK\"\n",
      "03/05/2024 04:39:40 PM - HTTP Request: POST https://api.openai.com/v1/chat/completions \"HTTP/1.1 200 OK\"\n",
      "03/05/2024 04:39:42 PM - HTTP Request: POST https://api.openai.com/v1/chat/completions \"HTTP/1.1 200 OK\"\n",
      " 25%|██▌       | 169/666 [16:54<53:19,  6.44s/it]"
     ]
    },
    {
     "name": "stdout",
     "output_type": "stream",
     "text": [
      "Model error:\n",
      "1 validation error for ArticleSentiment\n",
      "sentiments.0.citations\n",
      "  Value error, Either both a score and citations are present            or neither are. [type=value_error, input_value=[{'quote': 'Cheguei ao ma...e dizia', 'score': 0.4}], input_type=list]\n",
      "    For further information visit https://errors.pydantic.dev/2.5/v/value_error\n"
     ]
    },
    {
     "name": "stderr",
     "output_type": "stream",
     "text": [
      "03/05/2024 04:39:48 PM - HTTP Request: POST https://api.openai.com/v1/chat/completions \"HTTP/1.1 200 OK\"\n",
      " 26%|██▌       | 170/666 [17:01<53:07,  6.43s/it]"
     ]
    },
    {
     "name": "stdout",
     "output_type": "stream",
     "text": [
      "Saved in DB 170 of 666\n"
     ]
    },
    {
     "name": "stderr",
     "output_type": "stream",
     "text": [
      "03/05/2024 04:39:50 PM - HTTP Request: POST https://api.openai.com/v1/chat/completions \"HTTP/1.1 200 OK\"\n",
      " 26%|██▌       | 171/666 [17:02<40:02,  4.85s/it]03/05/2024 04:39:51 PM - HTTP Request: POST https://api.openai.com/v1/chat/completions \"HTTP/1.1 200 OK\"\n",
      " 26%|██▌       | 172/666 [17:04<32:27,  3.94s/it]03/05/2024 04:39:52 PM - HTTP Request: POST https://api.openai.com/v1/chat/completions \"HTTP/1.1 200 OK\"\n",
      " 26%|██▌       | 173/666 [17:05<24:52,  3.03s/it]03/05/2024 04:39:53 PM - HTTP Request: POST https://api.openai.com/v1/chat/completions \"HTTP/1.1 200 OK\"\n",
      " 26%|██▌       | 174/666 [17:06<20:18,  2.48s/it]03/05/2024 04:39:57 PM - HTTP Request: POST https://api.openai.com/v1/chat/completions \"HTTP/1.1 200 OK\"\n",
      " 26%|██▋       | 175/666 [17:10<23:05,  2.82s/it]"
     ]
    },
    {
     "name": "stdout",
     "output_type": "stream",
     "text": [
      "Saved in DB 175 of 666\n"
     ]
    },
    {
     "name": "stderr",
     "output_type": "stream",
     "text": [
      "03/05/2024 04:40:04 PM - HTTP Request: POST https://api.openai.com/v1/chat/completions \"HTTP/1.1 200 OK\"\n",
      " 26%|██▋       | 176/666 [17:16<32:39,  4.00s/it]03/05/2024 04:40:07 PM - HTTP Request: POST https://api.openai.com/v1/chat/completions \"HTTP/1.1 200 OK\"\n",
      " 27%|██▋       | 177/666 [17:19<29:38,  3.64s/it]03/05/2024 04:40:21 PM - HTTP Request: POST https://api.openai.com/v1/chat/completions \"HTTP/1.1 200 OK\"\n",
      " 27%|██▋       | 178/666 [17:33<55:23,  6.81s/it]03/05/2024 04:40:28 PM - HTTP Request: POST https://api.openai.com/v1/chat/completions \"HTTP/1.1 200 OK\"\n",
      " 27%|██▋       | 179/666 [17:40<55:32,  6.84s/it]03/05/2024 04:40:29 PM - HTTP Request: POST https://api.openai.com/v1/chat/completions \"HTTP/1.1 200 OK\"\n",
      "03/05/2024 04:40:31 PM - HTTP Request: POST https://api.openai.com/v1/chat/completions \"HTTP/1.1 200 OK\"\n",
      " 27%|██▋       | 180/666 [17:43<45:35,  5.63s/it]"
     ]
    },
    {
     "name": "stdout",
     "output_type": "stream",
     "text": [
      "Saved in DB 180 of 666\n"
     ]
    },
    {
     "name": "stderr",
     "output_type": "stream",
     "text": [
      "03/05/2024 04:40:34 PM - HTTP Request: POST https://api.openai.com/v1/chat/completions \"HTTP/1.1 200 OK\"\n",
      "03/05/2024 04:40:39 PM - HTTP Request: POST https://api.openai.com/v1/chat/completions \"HTTP/1.1 200 OK\"\n",
      " 27%|██▋       | 181/666 [17:51<51:18,  6.35s/it]03/05/2024 04:40:41 PM - HTTP Request: POST https://api.openai.com/v1/chat/completions \"HTTP/1.1 200 OK\"\n",
      " 27%|██▋       | 182/666 [17:53<41:15,  5.11s/it]03/05/2024 04:40:42 PM - HTTP Request: POST https://api.openai.com/v1/chat/completions \"HTTP/1.1 200 OK\"\n",
      "03/05/2024 04:40:43 PM - HTTP Request: POST https://api.openai.com/v1/chat/completions \"HTTP/1.1 200 OK\"\n",
      " 27%|██▋       | 183/666 [17:55<33:18,  4.14s/it]03/05/2024 04:40:44 PM - HTTP Request: POST https://api.openai.com/v1/chat/completions \"HTTP/1.1 200 OK\"\n",
      " 28%|██▊       | 184/666 [17:56<25:40,  3.20s/it]03/05/2024 04:40:46 PM - HTTP Request: POST https://api.openai.com/v1/chat/completions \"HTTP/1.1 200 OK\"\n",
      " 28%|██▊       | 185/666 [17:59<23:50,  2.97s/it]"
     ]
    },
    {
     "name": "stdout",
     "output_type": "stream",
     "text": [
      "Saved in DB 185 of 666\n"
     ]
    },
    {
     "name": "stderr",
     "output_type": "stream",
     "text": [
      "03/05/2024 04:40:51 PM - HTTP Request: POST https://api.openai.com/v1/chat/completions \"HTTP/1.1 200 OK\"\n",
      " 28%|██▊       | 186/666 [18:03<27:30,  3.44s/it]03/05/2024 04:40:57 PM - HTTP Request: POST https://api.openai.com/v1/chat/completions \"HTTP/1.1 200 OK\"\n",
      " 28%|██▊       | 187/666 [18:10<35:23,  4.43s/it]03/05/2024 04:41:00 PM - HTTP Request: POST https://api.openai.com/v1/chat/completions \"HTTP/1.1 200 OK\"\n",
      " 28%|██▊       | 188/666 [18:12<30:19,  3.81s/it]03/05/2024 04:41:00 PM - HTTP Request: POST https://api.openai.com/v1/chat/completions \"HTTP/1.1 200 OK\"\n",
      " 28%|██▊       | 189/666 [18:13<22:57,  2.89s/it]03/05/2024 04:41:07 PM - HTTP Request: POST https://api.openai.com/v1/chat/completions \"HTTP/1.1 200 OK\"\n",
      "03/05/2024 04:41:12 PM - HTTP Request: POST https://api.openai.com/v1/chat/completions \"HTTP/1.1 200 OK\"\n",
      "03/05/2024 04:41:18 PM - HTTP Request: POST https://api.openai.com/v1/chat/completions \"HTTP/1.1 200 OK\"\n",
      " 29%|██▊       | 190/666 [18:31<57:59,  7.31s/it]"
     ]
    },
    {
     "name": "stdout",
     "output_type": "stream",
     "text": [
      "Model error:\n",
      "1 validation error for ArticleSentiment\n",
      "sentiments.2.name\n",
      "  Value error, Citation `Rui Rocha` not found in article_n_meta [type=value_error, input_value='Rui Rocha', input_type=str]\n",
      "    For further information visit https://errors.pydantic.dev/2.5/v/value_error\n",
      "Saved in DB 190 of 666\n"
     ]
    },
    {
     "name": "stderr",
     "output_type": "stream",
     "text": [
      "03/05/2024 04:41:29 PM - HTTP Request: POST https://api.openai.com/v1/chat/completions \"HTTP/1.1 200 OK\"\n",
      " 29%|██▊       | 191/666 [18:41<1:05:09,  8.23s/it]03/05/2024 04:41:34 PM - HTTP Request: POST https://api.openai.com/v1/chat/completions \"HTTP/1.1 200 OK\"\n",
      "03/05/2024 04:41:39 PM - HTTP Request: POST https://api.openai.com/v1/chat/completions \"HTTP/1.1 200 OK\"\n",
      "03/05/2024 04:41:44 PM - HTTP Request: POST https://api.openai.com/v1/chat/completions \"HTTP/1.1 200 OK\"\n",
      " 29%|██▉       | 192/666 [18:56<1:22:11, 10.40s/it]"
     ]
    },
    {
     "name": "stdout",
     "output_type": "stream",
     "text": [
      "Model error:\n",
      "1 validation error for ArticleSentiment\n",
      "sentiments.1.citations\n",
      "  Field required [type=missing, input_value={'name': 'Luís Montenegro', 'score': 0}, input_type=dict]\n",
      "    For further information visit https://errors.pydantic.dev/2.5/v/missing\n"
     ]
    },
    {
     "name": "stderr",
     "output_type": "stream",
     "text": [
      "03/05/2024 04:41:47 PM - HTTP Request: POST https://api.openai.com/v1/chat/completions \"HTTP/1.1 200 OK\"\n",
      " 29%|██▉       | 193/666 [19:00<1:05:10,  8.27s/it]03/05/2024 04:41:50 PM - HTTP Request: POST https://api.openai.com/v1/chat/completions \"HTTP/1.1 200 OK\"\n",
      " 29%|██▉       | 194/666 [19:02<51:39,  6.57s/it]  03/05/2024 04:41:51 PM - HTTP Request: POST https://api.openai.com/v1/chat/completions \"HTTP/1.1 200 OK\"\n",
      " 29%|██▉       | 195/666 [19:03<38:41,  4.93s/it]"
     ]
    },
    {
     "name": "stdout",
     "output_type": "stream",
     "text": [
      "Saved in DB 195 of 666\n"
     ]
    },
    {
     "name": "stderr",
     "output_type": "stream",
     "text": [
      "03/05/2024 04:42:00 PM - HTTP Request: POST https://api.openai.com/v1/chat/completions \"HTTP/1.1 200 OK\"\n",
      " 29%|██▉       | 196/666 [19:12<47:20,  6.04s/it]03/05/2024 04:43:08 PM - HTTP Request: POST https://api.openai.com/v1/chat/completions \"HTTP/1.1 200 OK\"\n",
      "03/05/2024 04:43:12 PM - HTTP Request: POST https://api.openai.com/v1/chat/completions \"HTTP/1.1 200 OK\"\n",
      "03/05/2024 04:43:14 PM - HTTP Request: POST https://api.openai.com/v1/chat/completions \"HTTP/1.1 200 OK\"\n",
      " 30%|██▉       | 197/666 [20:27<3:28:33, 26.68s/it]03/05/2024 04:43:16 PM - HTTP Request: POST https://api.openai.com/v1/chat/completions \"HTTP/1.1 200 OK\"\n",
      "03/05/2024 04:43:17 PM - HTTP Request: POST https://api.openai.com/v1/chat/completions \"HTTP/1.1 200 OK\"\n",
      " 30%|██▉       | 198/666 [20:29<2:31:25, 19.41s/it]03/05/2024 04:43:19 PM - HTTP Request: POST https://api.openai.com/v1/chat/completions \"HTTP/1.1 200 OK\"\n",
      "03/05/2024 04:43:21 PM - HTTP Request: POST https://api.openai.com/v1/chat/completions \"HTTP/1.1 200 OK\"\n",
      "03/05/2024 04:43:22 PM - HTTP Request: POST https://api.openai.com/v1/chat/completions \"HTTP/1.1 200 OK\"\n",
      " 30%|██▉       | 199/666 [20:35<1:58:48, 15.26s/it]"
     ]
    },
    {
     "name": "stdout",
     "output_type": "stream",
     "text": [
      "Model error:\n",
      "1 validation error for ArticleSentiment\n",
      "sentiments.0.citations\n",
      "  Value error, Either both a score and citations are present            or neither are. [type=value_error, input_value=[{'quote': \"André Ventur...ítica'\", 'score': 0.7}], input_type=list]\n",
      "    For further information visit https://errors.pydantic.dev/2.5/v/value_error\n"
     ]
    },
    {
     "name": "stderr",
     "output_type": "stream",
     "text": [
      "03/05/2024 04:43:30 PM - HTTP Request: POST https://api.openai.com/v1/chat/completions \"HTTP/1.1 200 OK\"\n",
      "03/05/2024 04:43:36 PM - HTTP Request: POST https://api.openai.com/v1/chat/completions \"HTTP/1.1 200 OK\"\n",
      " 30%|███       | 200/666 [20:48<1:53:51, 14.66s/it]"
     ]
    },
    {
     "name": "stdout",
     "output_type": "stream",
     "text": [
      "Saved in DB 200 of 666\n"
     ]
    },
    {
     "name": "stderr",
     "output_type": "stream",
     "text": [
      "03/05/2024 04:43:38 PM - HTTP Request: POST https://api.openai.com/v1/chat/completions \"HTTP/1.1 200 OK\"\n",
      " 30%|███       | 201/666 [20:50<1:24:07, 10.85s/it]03/05/2024 04:43:44 PM - HTTP Request: POST https://api.openai.com/v1/chat/completions \"HTTP/1.1 200 OK\"\n",
      " 30%|███       | 202/666 [20:57<1:14:08,  9.59s/it]03/05/2024 04:43:46 PM - HTTP Request: POST https://api.openai.com/v1/chat/completions \"HTTP/1.1 200 OK\"\n",
      " 30%|███       | 203/666 [20:58<54:52,  7.11s/it]  03/05/2024 04:43:48 PM - HTTP Request: POST https://api.openai.com/v1/chat/completions \"HTTP/1.1 200 OK\"\n",
      "03/05/2024 04:43:49 PM - HTTP Request: POST https://api.openai.com/v1/chat/completions \"HTTP/1.1 200 OK\"\n",
      " 31%|███       | 204/666 [21:01<45:46,  5.94s/it]03/05/2024 04:43:50 PM - HTTP Request: POST https://api.openai.com/v1/chat/completions \"HTTP/1.1 200 OK\"\n",
      " 31%|███       | 205/666 [21:02<34:11,  4.45s/it]"
     ]
    },
    {
     "name": "stdout",
     "output_type": "stream",
     "text": [
      "Saved in DB 205 of 666\n"
     ]
    },
    {
     "name": "stderr",
     "output_type": "stream",
     "text": [
      "03/05/2024 04:43:56 PM - HTTP Request: POST https://api.openai.com/v1/chat/completions \"HTTP/1.1 200 OK\"\n",
      " 31%|███       | 206/666 [21:09<38:40,  5.04s/it]03/05/2024 04:43:58 PM - HTTP Request: POST https://api.openai.com/v1/chat/completions \"HTTP/1.1 200 OK\"\n",
      " 31%|███       | 207/666 [21:10<30:48,  4.03s/it]03/05/2024 04:44:03 PM - HTTP Request: POST https://api.openai.com/v1/chat/completions \"HTTP/1.1 200 OK\"\n",
      "03/05/2024 04:44:09 PM - HTTP Request: POST https://api.openai.com/v1/chat/completions \"HTTP/1.1 200 OK\"\n",
      " 31%|███       | 208/666 [21:21<46:30,  6.09s/it]03/05/2024 04:44:11 PM - HTTP Request: POST https://api.openai.com/v1/chat/completions \"HTTP/1.1 200 OK\"\n",
      "03/05/2024 04:44:12 PM - HTTP Request: POST https://api.openai.com/v1/chat/completions \"HTTP/1.1 200 OK\"\n",
      " 31%|███▏      | 209/666 [21:25<40:08,  5.27s/it]03/05/2024 04:44:14 PM - HTTP Request: POST https://api.openai.com/v1/chat/completions \"HTTP/1.1 200 OK\"\n",
      " 32%|███▏      | 210/666 [21:27<32:51,  4.32s/it]"
     ]
    },
    {
     "name": "stdout",
     "output_type": "stream",
     "text": [
      "Saved in DB 210 of 666\n"
     ]
    },
    {
     "name": "stderr",
     "output_type": "stream",
     "text": [
      "03/05/2024 04:44:17 PM - HTTP Request: POST https://api.openai.com/v1/chat/completions \"HTTP/1.1 200 OK\"\n",
      " 32%|███▏      | 211/666 [21:30<29:20,  3.87s/it]03/05/2024 04:44:21 PM - HTTP Request: POST https://api.openai.com/v1/chat/completions \"HTTP/1.1 200 OK\"\n",
      " 32%|███▏      | 212/666 [21:34<29:32,  3.90s/it]03/05/2024 04:44:23 PM - HTTP Request: POST https://api.openai.com/v1/chat/completions \"HTTP/1.1 200 OK\"\n",
      "03/05/2024 04:44:23 PM - HTTP Request: POST https://api.openai.com/v1/chat/completions \"HTTP/1.1 200 OK\"\n",
      " 32%|███▏      | 213/666 [21:36<25:58,  3.44s/it]03/05/2024 04:44:25 PM - HTTP Request: POST https://api.openai.com/v1/chat/completions \"HTTP/1.1 200 OK\"\n",
      " 32%|███▏      | 214/666 [21:38<22:00,  2.92s/it]03/05/2024 04:44:28 PM - HTTP Request: POST https://api.openai.com/v1/chat/completions \"HTTP/1.1 200 OK\"\n",
      " 32%|███▏      | 215/666 [21:40<21:07,  2.81s/it]"
     ]
    },
    {
     "name": "stdout",
     "output_type": "stream",
     "text": [
      "Saved in DB 215 of 666\n"
     ]
    },
    {
     "name": "stderr",
     "output_type": "stream",
     "text": [
      "03/05/2024 04:44:30 PM - HTTP Request: POST https://api.openai.com/v1/chat/completions \"HTTP/1.1 200 OK\"\n",
      " 32%|███▏      | 216/666 [21:42<19:24,  2.59s/it]03/05/2024 04:44:31 PM - HTTP Request: POST https://api.openai.com/v1/chat/completions \"HTTP/1.1 200 OK\"\n",
      "03/05/2024 04:44:32 PM - HTTP Request: POST https://api.openai.com/v1/chat/completions \"HTTP/1.1 200 OK\"\n",
      " 33%|███▎      | 217/666 [21:44<18:22,  2.45s/it]03/05/2024 04:44:35 PM - HTTP Request: POST https://api.openai.com/v1/chat/completions \"HTTP/1.1 200 OK\"\n",
      " 33%|███▎      | 218/666 [21:47<19:38,  2.63s/it]03/05/2024 04:44:39 PM - HTTP Request: POST https://api.openai.com/v1/chat/completions \"HTTP/1.1 200 OK\"\n",
      " 33%|███▎      | 219/666 [21:51<22:21,  3.00s/it]03/05/2024 04:44:40 PM - HTTP Request: POST https://api.openai.com/v1/chat/completions \"HTTP/1.1 200 OK\"\n",
      " 33%|███▎      | 220/666 [21:53<19:08,  2.57s/it]"
     ]
    },
    {
     "name": "stdout",
     "output_type": "stream",
     "text": [
      "Saved in DB 220 of 666\n"
     ]
    },
    {
     "name": "stderr",
     "output_type": "stream",
     "text": [
      "03/05/2024 04:44:47 PM - HTTP Request: POST https://api.openai.com/v1/chat/completions \"HTTP/1.1 200 OK\"\n",
      "03/05/2024 04:44:52 PM - HTTP Request: POST https://api.openai.com/v1/chat/completions \"HTTP/1.1 200 OK\"\n",
      "03/05/2024 04:44:58 PM - HTTP Request: POST https://api.openai.com/v1/chat/completions \"HTTP/1.1 200 OK\"\n",
      " 33%|███▎      | 221/666 [22:11<53:17,  7.18s/it]"
     ]
    },
    {
     "name": "stdout",
     "output_type": "stream",
     "text": [
      "Model error:\n",
      "1 validation error for ArticleSentiment\n",
      "sentiments.1.citations\n",
      "  Value error, Either both a score and citations are present            or neither are. [type=value_error, input_value=[], input_type=list]\n",
      "    For further information visit https://errors.pydantic.dev/2.5/v/value_error\n"
     ]
    },
    {
     "name": "stderr",
     "output_type": "stream",
     "text": [
      "03/05/2024 04:45:00 PM - HTTP Request: POST https://api.openai.com/v1/chat/completions \"HTTP/1.1 200 OK\"\n",
      " 33%|███▎      | 222/666 [22:12<40:48,  5.51s/it]03/05/2024 04:45:01 PM - HTTP Request: POST https://api.openai.com/v1/chat/completions \"HTTP/1.1 200 OK\"\n",
      " 33%|███▎      | 223/666 [22:14<30:54,  4.19s/it]03/05/2024 04:45:08 PM - HTTP Request: POST https://api.openai.com/v1/chat/completions \"HTTP/1.1 200 OK\"\n",
      "03/05/2024 04:45:14 PM - HTTP Request: POST https://api.openai.com/v1/chat/completions \"HTTP/1.1 200 OK\"\n",
      "03/05/2024 04:45:20 PM - HTTP Request: POST https://api.openai.com/v1/chat/completions \"HTTP/1.1 200 OK\"\n",
      " 34%|███▎      | 224/666 [22:33<1:04:13,  8.72s/it]"
     ]
    },
    {
     "name": "stdout",
     "output_type": "stream",
     "text": [
      "Model error:\n",
      "1 validation error for ArticleSentiment\n",
      "sentiments.1.citations.0.score\n",
      "  Input should be a valid number [type=float_type, input_value=None, input_type=NoneType]\n",
      "    For further information visit https://errors.pydantic.dev/2.5/v/float_type\n"
     ]
    },
    {
     "name": "stderr",
     "output_type": "stream",
     "text": [
      "03/05/2024 04:45:22 PM - HTTP Request: POST https://api.openai.com/v1/chat/completions \"HTTP/1.1 200 OK\"\n",
      "03/05/2024 04:45:23 PM - HTTP Request: POST https://api.openai.com/v1/chat/completions \"HTTP/1.1 200 OK\"\n",
      " 34%|███▍      | 225/666 [22:36<50:57,  6.93s/it]  "
     ]
    },
    {
     "name": "stdout",
     "output_type": "stream",
     "text": [
      "Saved in DB 225 of 666\n"
     ]
    },
    {
     "name": "stderr",
     "output_type": "stream",
     "text": [
      "03/05/2024 04:45:34 PM - HTTP Request: POST https://api.openai.com/v1/chat/completions \"HTTP/1.1 200 OK\"\n",
      " 34%|███▍      | 226/666 [22:47<1:00:11,  8.21s/it]03/05/2024 04:45:36 PM - HTTP Request: POST https://api.openai.com/v1/chat/completions \"HTTP/1.1 200 OK\"\n",
      " 34%|███▍      | 227/666 [22:48<44:53,  6.13s/it]  03/05/2024 04:45:42 PM - HTTP Request: POST https://api.openai.com/v1/chat/completions \"HTTP/1.1 200 OK\"\n",
      " 34%|███▍      | 228/666 [22:55<46:22,  6.35s/it]03/05/2024 04:45:44 PM - HTTP Request: POST https://api.openai.com/v1/chat/completions \"HTTP/1.1 200 OK\"\n",
      " 34%|███▍      | 229/666 [22:57<36:11,  4.97s/it]03/05/2024 04:45:45 PM - HTTP Request: POST https://api.openai.com/v1/chat/completions \"HTTP/1.1 200 OK\"\n",
      " 35%|███▍      | 230/666 [22:58<27:19,  3.76s/it]"
     ]
    },
    {
     "name": "stdout",
     "output_type": "stream",
     "text": [
      "Saved in DB 230 of 666\n"
     ]
    },
    {
     "name": "stderr",
     "output_type": "stream",
     "text": [
      "03/05/2024 04:45:47 PM - HTTP Request: POST https://api.openai.com/v1/chat/completions \"HTTP/1.1 200 OK\"\n",
      " 35%|███▍      | 231/666 [22:59<22:17,  3.07s/it]03/05/2024 04:45:49 PM - HTTP Request: POST https://api.openai.com/v1/chat/completions \"HTTP/1.1 200 OK\"\n",
      " 35%|███▍      | 232/666 [23:02<21:02,  2.91s/it]03/05/2024 04:45:51 PM - HTTP Request: POST https://api.openai.com/v1/chat/completions \"HTTP/1.1 200 OK\"\n",
      " 35%|███▍      | 233/666 [23:03<17:51,  2.48s/it]03/05/2024 04:45:52 PM - HTTP Request: POST https://api.openai.com/v1/chat/completions \"HTTP/1.1 200 OK\"\n",
      " 35%|███▌      | 234/666 [23:05<15:54,  2.21s/it]03/05/2024 04:45:55 PM - HTTP Request: POST https://api.openai.com/v1/chat/completions \"HTTP/1.1 200 OK\"\n",
      " 35%|███▌      | 235/666 [23:07<16:51,  2.35s/it]"
     ]
    },
    {
     "name": "stdout",
     "output_type": "stream",
     "text": [
      "Saved in DB 235 of 666\n"
     ]
    },
    {
     "name": "stderr",
     "output_type": "stream",
     "text": [
      "03/05/2024 04:45:57 PM - HTTP Request: POST https://api.openai.com/v1/chat/completions \"HTTP/1.1 200 OK\"\n",
      " 35%|███▌      | 236/666 [23:09<15:36,  2.18s/it]03/05/2024 04:46:00 PM - HTTP Request: POST https://api.openai.com/v1/chat/completions \"HTTP/1.1 200 OK\"\n",
      " 36%|███▌      | 237/666 [23:12<18:04,  2.53s/it]03/05/2024 04:46:03 PM - HTTP Request: POST https://api.openai.com/v1/chat/completions \"HTTP/1.1 200 OK\"\n",
      " 36%|███▌      | 238/666 [23:16<20:00,  2.80s/it]03/05/2024 04:46:06 PM - HTTP Request: POST https://api.openai.com/v1/chat/completions \"HTTP/1.1 200 OK\"\n",
      " 36%|███▌      | 239/666 [23:19<19:33,  2.75s/it]03/05/2024 04:46:07 PM - HTTP Request: POST https://api.openai.com/v1/chat/completions \"HTTP/1.1 200 OK\"\n",
      " 36%|███▌      | 240/666 [23:20<16:28,  2.32s/it]"
     ]
    },
    {
     "name": "stdout",
     "output_type": "stream",
     "text": [
      "Saved in DB 240 of 666\n"
     ]
    },
    {
     "name": "stderr",
     "output_type": "stream",
     "text": [
      "03/05/2024 04:46:09 PM - HTTP Request: POST https://api.openai.com/v1/chat/completions \"HTTP/1.1 200 OK\"\n",
      " 36%|███▌      | 241/666 [23:21<14:03,  1.99s/it]03/05/2024 04:46:32 PM - HTTP Request: POST https://api.openai.com/v1/chat/completions \"HTTP/1.1 200 OK\"\n",
      "03/05/2024 04:46:56 PM - HTTP Request: POST https://api.openai.com/v1/chat/completions \"HTTP/1.1 200 OK\"\n",
      "03/05/2024 04:47:22 PM - HTTP Request: POST https://api.openai.com/v1/chat/completions \"HTTP/1.1 200 OK\"\n",
      " 36%|███▋      | 242/666 [24:34<2:44:30, 23.28s/it]"
     ]
    },
    {
     "name": "stdout",
     "output_type": "stream",
     "text": [
      "Model error:\n",
      "5 validation errors for ArticleSentiment\n",
      "sentiments.0.citations\n",
      "  Value error, Either both a score and citations are present            or neither are. [type=value_error, input_value=[], input_type=list]\n",
      "    For further information visit https://errors.pydantic.dev/2.5/v/value_error\n",
      "sentiments.2.citations.0.quote\n",
      "  Value error, Citation `Rui Tavares did not commit to specific numbers on the budgetary impact of the Livre program, but guaranteed that the figures range 'between tens and hundreds of millions of euros' and not the 'thousands of millions of euros' of the IL program.` not found in article_n_meta, match_ratio: 53.0 [type=value_error, input_value=\"Rui Tavares did not comm...ros' of the IL program.\", input_type=str]\n",
      "    For further information visit https://errors.pydantic.dev/2.5/v/value_error\n",
      "sentiments.2.citations.1.quote\n",
      "  Value error, Citation `Tavares also argued that while public debt should be reduced, 'because it saves on interest', it is 'necessary to make public investment', which 'has been lacking in recent years'. 'What surplus we have, which is the result of our sacrifice, cannot only go to public debt, because public investment is lacking,' Tavares states.` not found in article_n_meta, match_ratio: 47.0 [type=value_error, input_value=\"Tavares also argued that...cking,' Tavares states.\", input_type=str]\n",
      "    For further information visit https://errors.pydantic.dev/2.5/v/value_error\n",
      "sentiments.2.citations.2.quote\n",
      "  Value error, Citation `'With information asymmetry, there is no fair competition', said Rui Tavares, recalling that private entities 'know everything about the SNS, while the SNS knows nothing about the private sector,' not even regarding the salaries of doctors who work in the private sector. 'The SNS is fighting with blindfolds and hands tied behind its back,' he added, acknowledging that the SNS needs improvement.` not found in article_n_meta, match_ratio: 46.0 [type=value_error, input_value=\"'With information asymme... SNS needs improvement.\", input_type=str]\n",
      "    For further information visit https://errors.pydantic.dev/2.5/v/value_error\n",
      "sentiments.3.citations.3.quote\n",
      "  Value error, Citation `Regarding housing, Leek proposes 'an IMT surcharge for those who have never contributed to the Portuguese Treasury', aimed at the 'Help for Home Program', which consists of 'individual co-ownership with 'non-speculative prices'.` not found in article_n_meta, match_ratio: 46.0 [type=value_error, input_value=\"Regarding housing, Leek ...on-speculative prices'.\", input_type=str]\n",
      "    For further information visit https://errors.pydantic.dev/2.5/v/value_error\n"
     ]
    },
    {
     "name": "stderr",
     "output_type": "stream",
     "text": [
      "03/05/2024 04:47:24 PM - HTTP Request: POST https://api.openai.com/v1/chat/completions \"HTTP/1.1 200 OK\"\n",
      "03/05/2024 04:47:25 PM - HTTP Request: POST https://api.openai.com/v1/chat/completions \"HTTP/1.1 200 OK\"\n",
      " 36%|███▋      | 243/666 [24:38<2:02:59, 17.45s/it]03/05/2024 04:47:28 PM - HTTP Request: POST https://api.openai.com/v1/chat/completions \"HTTP/1.1 200 OK\"\n",
      " 37%|███▋      | 244/666 [24:41<1:32:10, 13.11s/it]03/05/2024 04:47:30 PM - HTTP Request: POST https://api.openai.com/v1/chat/completions \"HTTP/1.1 200 OK\"\n",
      "03/05/2024 04:47:32 PM - HTTP Request: POST https://api.openai.com/v1/chat/completions \"HTTP/1.1 200 OK\"\n",
      "03/05/2024 04:47:33 PM - HTTP Request: POST https://api.openai.com/v1/chat/completions \"HTTP/1.1 200 OK\"\n",
      " 37%|███▋      | 245/666 [24:46<1:14:18, 10.59s/it]"
     ]
    },
    {
     "name": "stdout",
     "output_type": "stream",
     "text": [
      "Model error:\n",
      "1 validation error for ArticleSentiment\n",
      "sentiments.0.citations\n",
      "  Value error, Either both a score and citations are present            or neither are. [type=value_error, input_value=[], input_type=list]\n",
      "    For further information visit https://errors.pydantic.dev/2.5/v/value_error\n",
      "Saved in DB 245 of 666\n"
     ]
    },
    {
     "name": "stderr",
     "output_type": "stream",
     "text": [
      "03/05/2024 04:47:36 PM - HTTP Request: POST https://api.openai.com/v1/chat/completions \"HTTP/1.1 200 OK\"\n",
      " 37%|███▋      | 246/666 [24:49<58:19,  8.33s/it]  03/05/2024 04:47:37 PM - HTTP Request: POST https://api.openai.com/v1/chat/completions \"HTTP/1.1 200 OK\"\n",
      "03/05/2024 04:47:39 PM - HTTP Request: POST https://api.openai.com/v1/chat/completions \"HTTP/1.1 200 OK\"\n",
      " 37%|███▋      | 247/666 [24:51<46:04,  6.60s/it]03/05/2024 04:47:54 PM - HTTP Request: POST https://api.openai.com/v1/chat/completions \"HTTP/1.1 200 OK\"\n",
      " 37%|███▋      | 248/666 [25:06<1:03:34,  9.13s/it]03/05/2024 04:47:56 PM - HTTP Request: POST https://api.openai.com/v1/chat/completions \"HTTP/1.1 200 OK\"\n",
      " 37%|███▋      | 249/666 [25:08<48:28,  6.97s/it]  03/05/2024 04:48:03 PM - HTTP Request: POST https://api.openai.com/v1/chat/completions \"HTTP/1.1 200 OK\"\n",
      "03/05/2024 04:48:13 PM - HTTP Request: POST https://api.openai.com/v1/chat/completions \"HTTP/1.1 200 OK\"\n",
      "03/05/2024 04:48:23 PM - HTTP Request: POST https://api.openai.com/v1/chat/completions \"HTTP/1.1 200 OK\"\n",
      " 38%|███▊      | 250/666 [25:35<1:30:38, 13.07s/it]"
     ]
    },
    {
     "name": "stdout",
     "output_type": "stream",
     "text": [
      "Model error:\n",
      "1 validation error for ArticleSentiment\n",
      "sentiments.1.citations.0.quote\n",
      "  String should have at least 3 characters [type=string_too_short, input_value='', input_type=str]\n",
      "    For further information visit https://errors.pydantic.dev/2.5/v/string_too_short\n",
      "Saved in DB 250 of 666\n"
     ]
    },
    {
     "name": "stderr",
     "output_type": "stream",
     "text": [
      "03/05/2024 04:48:24 PM - HTTP Request: POST https://api.openai.com/v1/chat/completions \"HTTP/1.1 200 OK\"\n",
      " 38%|███▊      | 251/666 [25:37<1:05:34,  9.48s/it]03/05/2024 04:48:25 PM - HTTP Request: POST https://api.openai.com/v1/chat/completions \"HTTP/1.1 200 OK\"\n",
      " 38%|███▊      | 252/666 [25:38<48:18,  7.00s/it]  03/05/2024 04:48:35 PM - HTTP Request: POST https://api.openai.com/v1/chat/completions \"HTTP/1.1 200 OK\"\n",
      "03/05/2024 04:48:41 PM - HTTP Request: POST https://api.openai.com/v1/chat/completions \"HTTP/1.1 200 OK\"\n",
      "03/05/2024 04:48:48 PM - HTTP Request: POST https://api.openai.com/v1/chat/completions \"HTTP/1.1 200 OK\"\n",
      " 38%|███▊      | 253/666 [26:00<1:19:53, 11.61s/it]03/05/2024 04:48:49 PM - HTTP Request: POST https://api.openai.com/v1/chat/completions \"HTTP/1.1 200 OK\"\n",
      " 38%|███▊      | 254/666 [26:01<58:33,  8.53s/it]  03/05/2024 04:48:58 PM - HTTP Request: POST https://api.openai.com/v1/chat/completions \"HTTP/1.1 200 OK\"\n",
      " 38%|███▊      | 255/666 [26:10<59:11,  8.64s/it]"
     ]
    },
    {
     "name": "stdout",
     "output_type": "stream",
     "text": [
      "Saved in DB 255 of 666\n"
     ]
    },
    {
     "name": "stderr",
     "output_type": "stream",
     "text": [
      "03/05/2024 04:49:00 PM - HTTP Request: POST https://api.openai.com/v1/chat/completions \"HTTP/1.1 200 OK\"\n",
      "03/05/2024 04:49:03 PM - HTTP Request: POST https://api.openai.com/v1/chat/completions \"HTTP/1.1 200 OK\"\n",
      "03/05/2024 04:49:06 PM - HTTP Request: POST https://api.openai.com/v1/chat/completions \"HTTP/1.1 200 OK\"\n",
      " 38%|███▊      | 256/666 [26:18<57:26,  8.41s/it]"
     ]
    },
    {
     "name": "stdout",
     "output_type": "stream",
     "text": [
      "Model error:\n",
      "1 validation error for ArticleSentiment\n",
      "sentiments.1.citations.0.quote\n",
      "  Value error, Citation `Nothing found in the text` not found in article_n_meta, match_ratio: 44.0 [type=value_error, input_value='Nothing found in the text', input_type=str]\n",
      "    For further information visit https://errors.pydantic.dev/2.5/v/value_error\n"
     ]
    },
    {
     "name": "stderr",
     "output_type": "stream",
     "text": [
      "03/05/2024 04:49:09 PM - HTTP Request: POST https://api.openai.com/v1/chat/completions \"HTTP/1.1 200 OK\"\n",
      "03/05/2024 04:49:10 PM - HTTP Request: POST https://api.openai.com/v1/chat/completions \"HTTP/1.1 200 OK\"\n",
      " 39%|███▊      | 257/666 [26:23<49:05,  7.20s/it]03/05/2024 04:49:16 PM - HTTP Request: POST https://api.openai.com/v1/chat/completions \"HTTP/1.1 200 OK\"\n",
      " 39%|███▊      | 258/666 [26:28<45:17,  6.66s/it]03/05/2024 04:49:17 PM - HTTP Request: POST https://api.openai.com/v1/chat/completions \"HTTP/1.1 200 OK\"\n",
      " 39%|███▉      | 259/666 [26:30<34:50,  5.14s/it]03/05/2024 04:49:22 PM - HTTP Request: POST https://api.openai.com/v1/chat/completions \"HTTP/1.1 200 OK\"\n",
      " 39%|███▉      | 260/666 [26:35<34:53,  5.16s/it]"
     ]
    },
    {
     "name": "stdout",
     "output_type": "stream",
     "text": [
      "Saved in DB 260 of 666\n"
     ]
    },
    {
     "name": "stderr",
     "output_type": "stream",
     "text": [
      "03/05/2024 04:49:28 PM - HTTP Request: POST https://api.openai.com/v1/chat/completions \"HTTP/1.1 200 OK\"\n",
      " 39%|███▉      | 261/666 [26:40<35:21,  5.24s/it]03/05/2024 04:49:29 PM - HTTP Request: POST https://api.openai.com/v1/chat/completions \"HTTP/1.1 200 OK\"\n",
      " 39%|███▉      | 262/666 [26:42<27:37,  4.10s/it]03/05/2024 04:49:30 PM - HTTP Request: POST https://api.openai.com/v1/chat/completions \"HTTP/1.1 200 OK\"\n",
      " 39%|███▉      | 263/666 [26:43<21:35,  3.21s/it]03/05/2024 04:49:36 PM - HTTP Request: POST https://api.openai.com/v1/chat/completions \"HTTP/1.1 200 OK\"\n",
      "03/05/2024 04:49:41 PM - HTTP Request: POST https://api.openai.com/v1/chat/completions \"HTTP/1.1 200 OK\"\n",
      "03/05/2024 04:49:45 PM - HTTP Request: POST https://api.openai.com/v1/chat/completions \"HTTP/1.1 200 OK\"\n",
      " 40%|███▉      | 264/666 [26:58<45:03,  6.72s/it]"
     ]
    },
    {
     "name": "stdout",
     "output_type": "stream",
     "text": [
      "Model error:\n",
      "2 validation errors for ArticleSentiment\n",
      "sentiments.0.citations\n",
      "  Value error, Either both a score and citations are present            or neither are. [type=value_error, input_value=[], input_type=list]\n",
      "    For further information visit https://errors.pydantic.dev/2.5/v/value_error\n",
      "sentiments.2.citations\n",
      "  Value error, Either both a score and citations are present            or neither are. [type=value_error, input_value=[], input_type=list]\n",
      "    For further information visit https://errors.pydantic.dev/2.5/v/value_error\n"
     ]
    },
    {
     "name": "stderr",
     "output_type": "stream",
     "text": [
      "03/05/2024 04:49:49 PM - HTTP Request: POST https://api.openai.com/v1/chat/completions \"HTTP/1.1 200 OK\"\n",
      " 40%|███▉      | 265/666 [27:02<39:29,  5.91s/it]"
     ]
    },
    {
     "name": "stdout",
     "output_type": "stream",
     "text": [
      "Saved in DB 265 of 666\n"
     ]
    },
    {
     "name": "stderr",
     "output_type": "stream",
     "text": [
      "03/05/2024 04:49:54 PM - HTTP Request: POST https://api.openai.com/v1/chat/completions \"HTTP/1.1 200 OK\"\n",
      " 40%|███▉      | 266/666 [27:07<37:45,  5.66s/it]03/05/2024 04:49:57 PM - HTTP Request: POST https://api.openai.com/v1/chat/completions \"HTTP/1.1 200 OK\"\n",
      " 40%|████      | 267/666 [27:09<30:49,  4.64s/it]03/05/2024 04:49:58 PM - HTTP Request: POST https://api.openai.com/v1/chat/completions \"HTTP/1.1 200 OK\"\n",
      " 40%|████      | 268/666 [27:11<24:27,  3.69s/it]03/05/2024 04:50:05 PM - HTTP Request: POST https://api.openai.com/v1/chat/completions \"HTTP/1.1 200 OK\"\n",
      "03/05/2024 04:50:11 PM - HTTP Request: POST https://api.openai.com/v1/chat/completions \"HTTP/1.1 200 OK\"\n",
      " 40%|████      | 269/666 [27:23<41:57,  6.34s/it]03/05/2024 04:50:20 PM - HTTP Request: POST https://api.openai.com/v1/chat/completions \"HTTP/1.1 200 OK\"\n",
      "03/05/2024 04:50:29 PM - HTTP Request: POST https://api.openai.com/v1/chat/completions \"HTTP/1.1 200 OK\"\n",
      "03/05/2024 04:50:39 PM - HTTP Request: POST https://api.openai.com/v1/chat/completions \"HTTP/1.1 200 OK\"\n",
      " 41%|████      | 270/666 [27:52<1:25:40, 12.98s/it]"
     ]
    },
    {
     "name": "stdout",
     "output_type": "stream",
     "text": [
      "Model error:\n",
      "1 validation error for ArticleSentiment\n",
      "sentiments.0.citations\n",
      "  Value error, Either both a score and citations are present            or neither are. [type=value_error, input_value=[{'quote': 'O presidente ...cluded.', 'score': 0.6}], input_type=list]\n",
      "    For further information visit https://errors.pydantic.dev/2.5/v/value_error\n",
      "Saved in DB 270 of 666\n"
     ]
    },
    {
     "name": "stderr",
     "output_type": "stream",
     "text": [
      "03/05/2024 04:50:41 PM - HTTP Request: POST https://api.openai.com/v1/chat/completions \"HTTP/1.1 200 OK\"\n",
      " 41%|████      | 271/666 [27:54<1:04:14,  9.76s/it]03/05/2024 04:50:44 PM - HTTP Request: POST https://api.openai.com/v1/chat/completions \"HTTP/1.1 200 OK\"\n",
      " 41%|████      | 272/666 [27:56<49:15,  7.50s/it]  03/05/2024 04:50:45 PM - HTTP Request: POST https://api.openai.com/v1/chat/completions \"HTTP/1.1 200 OK\"\n",
      " 41%|████      | 273/666 [27:57<36:46,  5.61s/it]03/05/2024 04:50:53 PM - HTTP Request: POST https://api.openai.com/v1/chat/completions \"HTTP/1.1 200 OK\"\n",
      " 41%|████      | 274/666 [28:05<41:09,  6.30s/it]03/05/2024 04:50:54 PM - HTTP Request: POST https://api.openai.com/v1/chat/completions \"HTTP/1.1 200 OK\"\n",
      "03/05/2024 04:50:56 PM - HTTP Request: POST https://api.openai.com/v1/chat/completions \"HTTP/1.1 200 OK\"\n",
      " 41%|████▏     | 275/666 [28:08<35:03,  5.38s/it]"
     ]
    },
    {
     "name": "stdout",
     "output_type": "stream",
     "text": [
      "Saved in DB 275 of 666\n"
     ]
    },
    {
     "name": "stderr",
     "output_type": "stream",
     "text": [
      "03/05/2024 04:50:58 PM - HTTP Request: POST https://api.openai.com/v1/chat/completions \"HTTP/1.1 200 OK\"\n",
      " 41%|████▏     | 276/666 [28:10<27:57,  4.30s/it]03/05/2024 04:51:00 PM - HTTP Request: POST https://api.openai.com/v1/chat/completions \"HTTP/1.1 200 OK\"\n",
      " 42%|████▏     | 277/666 [28:13<24:32,  3.79s/it]03/05/2024 04:51:02 PM - HTTP Request: POST https://api.openai.com/v1/chat/completions \"HTTP/1.1 200 OK\"\n",
      " 42%|████▏     | 278/666 [28:15<20:42,  3.20s/it]03/05/2024 04:51:04 PM - HTTP Request: POST https://api.openai.com/v1/chat/completions \"HTTP/1.1 200 OK\"\n",
      " 42%|████▏     | 279/666 [28:16<17:55,  2.78s/it]03/05/2024 04:51:10 PM - HTTP Request: POST https://api.openai.com/v1/chat/completions \"HTTP/1.1 200 OK\"\n",
      " 42%|████▏     | 280/666 [28:23<24:59,  3.89s/it]"
     ]
    },
    {
     "name": "stdout",
     "output_type": "stream",
     "text": [
      "Saved in DB 280 of 666\n"
     ]
    },
    {
     "name": "stderr",
     "output_type": "stream",
     "text": [
      "03/05/2024 04:51:12 PM - HTTP Request: POST https://api.openai.com/v1/chat/completions \"HTTP/1.1 200 OK\"\n",
      " 42%|████▏     | 281/666 [28:25<21:32,  3.36s/it]03/05/2024 04:51:14 PM - HTTP Request: POST https://api.openai.com/v1/chat/completions \"HTTP/1.1 200 OK\"\n",
      " 42%|████▏     | 282/666 [28:27<18:42,  2.92s/it]03/05/2024 04:51:19 PM - HTTP Request: POST https://api.openai.com/v1/chat/completions \"HTTP/1.1 200 OK\"\n",
      " 42%|████▏     | 283/666 [28:32<22:01,  3.45s/it]03/05/2024 04:51:21 PM - HTTP Request: POST https://api.openai.com/v1/chat/completions \"HTTP/1.1 200 OK\"\n",
      " 43%|████▎     | 284/666 [28:33<18:14,  2.86s/it]03/05/2024 04:51:24 PM - HTTP Request: POST https://api.openai.com/v1/chat/completions \"HTTP/1.1 200 OK\"\n",
      "03/05/2024 04:51:27 PM - HTTP Request: POST https://api.openai.com/v1/chat/completions \"HTTP/1.1 200 OK\"\n",
      " 43%|████▎     | 285/666 [28:39<24:22,  3.84s/it]"
     ]
    },
    {
     "name": "stdout",
     "output_type": "stream",
     "text": [
      "Saved in DB 285 of 666\n"
     ]
    },
    {
     "name": "stderr",
     "output_type": "stream",
     "text": [
      "03/05/2024 04:51:31 PM - HTTP Request: POST https://api.openai.com/v1/chat/completions \"HTTP/1.1 200 OK\"\n",
      " 43%|████▎     | 286/666 [28:44<25:42,  4.06s/it]03/05/2024 04:51:33 PM - HTTP Request: POST https://api.openai.com/v1/chat/completions \"HTTP/1.1 200 OK\"\n",
      " 43%|████▎     | 287/666 [28:45<20:46,  3.29s/it]03/05/2024 04:51:37 PM - HTTP Request: POST https://api.openai.com/v1/chat/completions \"HTTP/1.1 200 OK\"\n",
      " 43%|████▎     | 288/666 [28:50<23:05,  3.67s/it]03/05/2024 04:51:43 PM - HTTP Request: POST https://api.openai.com/v1/chat/completions \"HTTP/1.1 200 OK\"\n",
      " 43%|████▎     | 289/666 [28:56<27:03,  4.31s/it]03/05/2024 04:51:45 PM - HTTP Request: POST https://api.openai.com/v1/chat/completions \"HTTP/1.1 200 OK\"\n",
      " 44%|████▎     | 290/666 [28:57<22:27,  3.58s/it]"
     ]
    },
    {
     "name": "stdout",
     "output_type": "stream",
     "text": [
      "Saved in DB 290 of 666\n"
     ]
    },
    {
     "name": "stderr",
     "output_type": "stream",
     "text": [
      "03/05/2024 04:51:47 PM - HTTP Request: POST https://api.openai.com/v1/chat/completions \"HTTP/1.1 200 OK\"\n",
      " 44%|████▎     | 291/666 [28:59<19:14,  3.08s/it]03/05/2024 04:51:53 PM - HTTP Request: POST https://api.openai.com/v1/chat/completions \"HTTP/1.1 200 OK\"\n",
      " 44%|████▍     | 292/666 [29:05<24:19,  3.90s/it]03/05/2024 04:51:55 PM - HTTP Request: POST https://api.openai.com/v1/chat/completions \"HTTP/1.1 200 OK\"\n",
      " 44%|████▍     | 293/666 [29:08<21:24,  3.44s/it]03/05/2024 04:51:59 PM - HTTP Request: POST https://api.openai.com/v1/chat/completions \"HTTP/1.1 200 OK\"\n",
      " 44%|████▍     | 294/666 [29:12<22:38,  3.65s/it]03/05/2024 04:52:00 PM - HTTP Request: POST https://api.openai.com/v1/chat/completions \"HTTP/1.1 200 OK\"\n",
      " 44%|████▍     | 295/666 [29:13<18:04,  2.92s/it]"
     ]
    },
    {
     "name": "stdout",
     "output_type": "stream",
     "text": [
      "Saved in DB 295 of 666\n"
     ]
    },
    {
     "name": "stderr",
     "output_type": "stream",
     "text": [
      "03/05/2024 04:52:04 PM - HTTP Request: POST https://api.openai.com/v1/chat/completions \"HTTP/1.1 200 OK\"\n",
      " 44%|████▍     | 296/666 [29:16<19:12,  3.12s/it]03/05/2024 04:52:05 PM - HTTP Request: POST https://api.openai.com/v1/chat/completions \"HTTP/1.1 200 OK\"\n",
      " 45%|████▍     | 297/666 [29:18<15:58,  2.60s/it]03/05/2024 04:52:07 PM - HTTP Request: POST https://api.openai.com/v1/chat/completions \"HTTP/1.1 200 OK\"\n",
      "03/05/2024 04:52:08 PM - HTTP Request: POST https://api.openai.com/v1/chat/completions \"HTTP/1.1 200 OK\"\n",
      " 45%|████▍     | 298/666 [29:20<15:19,  2.50s/it]03/05/2024 04:52:10 PM - HTTP Request: POST https://api.openai.com/v1/chat/completions \"HTTP/1.1 200 OK\"\n",
      " 45%|████▍     | 299/666 [29:23<15:28,  2.53s/it]03/05/2024 04:52:11 PM - HTTP Request: POST https://api.openai.com/v1/chat/completions \"HTTP/1.1 200 OK\"\n",
      " 45%|████▌     | 300/666 [29:24<12:59,  2.13s/it]"
     ]
    },
    {
     "name": "stdout",
     "output_type": "stream",
     "text": [
      "Saved in DB 300 of 666\n"
     ]
    },
    {
     "name": "stderr",
     "output_type": "stream",
     "text": [
      "03/05/2024 04:52:18 PM - HTTP Request: POST https://api.openai.com/v1/chat/completions \"HTTP/1.1 200 OK\"\n",
      " 45%|████▌     | 301/666 [29:30<20:57,  3.45s/it]03/05/2024 04:52:23 PM - HTTP Request: POST https://api.openai.com/v1/chat/completions \"HTTP/1.1 200 OK\"\n",
      " 45%|████▌     | 302/666 [29:36<24:24,  4.02s/it]03/05/2024 04:52:29 PM - HTTP Request: POST https://api.openai.com/v1/chat/completions \"HTTP/1.1 200 OK\"\n",
      "03/05/2024 04:52:34 PM - HTTP Request: POST https://api.openai.com/v1/chat/completions \"HTTP/1.1 200 OK\"\n",
      "03/05/2024 04:52:42 PM - HTTP Request: POST https://api.openai.com/v1/chat/completions \"HTTP/1.1 200 OK\"\n",
      " 45%|████▌     | 303/666 [29:54<50:44,  8.39s/it]03/05/2024 04:52:46 PM - HTTP Request: POST https://api.openai.com/v1/chat/completions \"HTTP/1.1 200 OK\"\n",
      " 46%|████▌     | 304/666 [29:58<42:02,  6.97s/it]03/05/2024 04:52:48 PM - HTTP Request: POST https://api.openai.com/v1/chat/completions \"HTTP/1.1 200 OK\"\n",
      " 46%|████▌     | 305/666 [30:00<33:32,  5.57s/it]"
     ]
    },
    {
     "name": "stdout",
     "output_type": "stream",
     "text": [
      "Saved in DB 305 of 666\n"
     ]
    },
    {
     "name": "stderr",
     "output_type": "stream",
     "text": [
      "03/05/2024 04:52:55 PM - HTTP Request: POST https://api.openai.com/v1/chat/completions \"HTTP/1.1 200 OK\"\n",
      " 46%|████▌     | 306/666 [30:07<36:06,  6.02s/it]03/05/2024 04:52:57 PM - HTTP Request: POST https://api.openai.com/v1/chat/completions \"HTTP/1.1 200 OK\"\n",
      " 46%|████▌     | 307/666 [30:09<28:24,  4.75s/it]03/05/2024 04:53:01 PM - HTTP Request: POST https://api.openai.com/v1/chat/completions \"HTTP/1.1 200 OK\"\n",
      " 46%|████▌     | 308/666 [30:13<27:15,  4.57s/it]03/05/2024 04:53:21 PM - HTTP Request: POST https://api.openai.com/v1/chat/completions \"HTTP/1.1 200 OK\"\n",
      "03/05/2024 04:53:35 PM - HTTP Request: POST https://api.openai.com/v1/chat/completions \"HTTP/1.1 200 OK\"\n",
      " 46%|████▋     | 309/666 [30:48<1:20:42, 13.56s/it]03/05/2024 04:53:40 PM - HTTP Request: POST https://api.openai.com/v1/chat/completions \"HTTP/1.1 200 OK\"\n",
      "03/05/2024 04:53:45 PM - HTTP Request: POST https://api.openai.com/v1/chat/completions \"HTTP/1.1 200 OK\"\n",
      " 47%|████▋     | 310/666 [30:58<1:13:54, 12.46s/it]"
     ]
    },
    {
     "name": "stdout",
     "output_type": "stream",
     "text": [
      "Saved in DB 310 of 666\n"
     ]
    },
    {
     "name": "stderr",
     "output_type": "stream",
     "text": [
      "03/05/2024 04:53:47 PM - HTTP Request: POST https://api.openai.com/v1/chat/completions \"HTTP/1.1 200 OK\"\n",
      "03/05/2024 04:53:47 PM - HTTP Request: POST https://api.openai.com/v1/chat/completions \"HTTP/1.1 200 OK\"\n",
      " 47%|████▋     | 311/666 [31:00<55:23,  9.36s/it]  03/05/2024 04:53:49 PM - HTTP Request: POST https://api.openai.com/v1/chat/completions \"HTTP/1.1 200 OK\"\n",
      "03/05/2024 04:53:50 PM - HTTP Request: POST https://api.openai.com/v1/chat/completions \"HTTP/1.1 200 OK\"\n",
      " 47%|████▋     | 312/666 [31:02<42:14,  7.16s/it]03/05/2024 04:53:51 PM - HTTP Request: POST https://api.openai.com/v1/chat/completions \"HTTP/1.1 200 OK\"\n",
      "03/05/2024 04:53:52 PM - HTTP Request: POST https://api.openai.com/v1/chat/completions \"HTTP/1.1 200 OK\"\n",
      " 47%|████▋     | 313/666 [31:04<33:55,  5.77s/it]03/05/2024 04:53:58 PM - HTTP Request: POST https://api.openai.com/v1/chat/completions \"HTTP/1.1 200 OK\"\n",
      " 47%|████▋     | 314/666 [31:10<33:22,  5.69s/it]03/05/2024 04:54:02 PM - HTTP Request: POST https://api.openai.com/v1/chat/completions \"HTTP/1.1 200 OK\"\n",
      " 47%|████▋     | 315/666 [31:14<31:13,  5.34s/it]"
     ]
    },
    {
     "name": "stdout",
     "output_type": "stream",
     "text": [
      "Saved in DB 315 of 666\n"
     ]
    },
    {
     "name": "stderr",
     "output_type": "stream",
     "text": [
      "03/05/2024 04:54:08 PM - HTTP Request: POST https://api.openai.com/v1/chat/completions \"HTTP/1.1 200 OK\"\n",
      " 47%|████▋     | 316/666 [31:20<31:25,  5.39s/it]03/05/2024 04:54:30 PM - HTTP Request: POST https://api.openai.com/v1/chat/completions \"HTTP/1.1 200 OK\"\n",
      " 48%|████▊     | 317/666 [31:43<1:01:33, 10.58s/it]03/05/2024 04:54:47 PM - HTTP Request: POST https://api.openai.com/v1/chat/completions \"HTTP/1.1 200 OK\"\n",
      " 48%|████▊     | 318/666 [31:59<1:11:39, 12.36s/it]03/05/2024 04:54:48 PM - HTTP Request: POST https://api.openai.com/v1/chat/completions \"HTTP/1.1 200 OK\"\n",
      " 48%|████▊     | 319/666 [32:01<53:01,  9.17s/it]  03/05/2024 04:56:15 PM - HTTP Request: POST https://api.openai.com/v1/chat/completions \"HTTP/1.1 200 OK\"\n",
      "03/05/2024 04:56:20 PM - HTTP Request: POST https://api.openai.com/v1/chat/completions \"HTTP/1.1 200 OK\"\n",
      " 48%|████▊     | 320/666 [33:32<3:14:37, 33.75s/it]"
     ]
    },
    {
     "name": "stdout",
     "output_type": "stream",
     "text": [
      "Saved in DB 320 of 666\n"
     ]
    },
    {
     "name": "stderr",
     "output_type": "stream",
     "text": [
      "03/05/2024 04:56:28 PM - HTTP Request: POST https://api.openai.com/v1/chat/completions \"HTTP/1.1 200 OK\"\n",
      " 48%|████▊     | 321/666 [33:40<2:30:22, 26.15s/it]03/05/2024 04:56:30 PM - HTTP Request: POST https://api.openai.com/v1/chat/completions \"HTTP/1.1 200 OK\"\n",
      "03/05/2024 04:56:31 PM - HTTP Request: POST https://api.openai.com/v1/chat/completions \"HTTP/1.1 200 OK\"\n",
      "03/05/2024 04:56:34 PM - HTTP Request: POST https://api.openai.com/v1/chat/completions \"HTTP/1.1 200 OK\"\n",
      " 48%|████▊     | 322/666 [33:46<1:54:41, 20.00s/it]"
     ]
    },
    {
     "name": "stdout",
     "output_type": "stream",
     "text": [
      "Model error:\n",
      "2 validation errors for ArticleSentiment\n",
      "sentiments.0.citations.0.score\n",
      "  Field required [type=missing, input_value={'quote': 'no exclui o Bloco de uma solu'}, input_type=dict]\n",
      "    For further information visit https://errors.pydantic.dev/2.5/v/missing\n",
      "sentiments.1.citations\n",
      "  Value error, Either both a score and citations are present            or neither are. [type=value_error, input_value=[{'quote': 'Marcar uma so...bsoluta', 'score': 0.7}], input_type=list]\n",
      "    For further information visit https://errors.pydantic.dev/2.5/v/value_error\n"
     ]
    },
    {
     "name": "stderr",
     "output_type": "stream",
     "text": [
      "03/05/2024 04:56:35 PM - HTTP Request: POST https://api.openai.com/v1/chat/completions \"HTTP/1.1 200 OK\"\n",
      " 48%|████▊     | 323/666 [33:48<1:22:47, 14.48s/it]03/05/2024 04:56:41 PM - HTTP Request: POST https://api.openai.com/v1/chat/completions \"HTTP/1.1 200 OK\"\n",
      " 49%|████▊     | 324/666 [33:53<1:06:57, 11.75s/it]03/05/2024 04:56:47 PM - HTTP Request: POST https://api.openai.com/v1/chat/completions \"HTTP/1.1 200 OK\"\n",
      " 49%|████▉     | 325/666 [34:00<58:24, 10.28s/it]  "
     ]
    },
    {
     "name": "stdout",
     "output_type": "stream",
     "text": [
      "Saved in DB 325 of 666\n"
     ]
    },
    {
     "name": "stderr",
     "output_type": "stream",
     "text": [
      "03/05/2024 04:56:53 PM - HTTP Request: POST https://api.openai.com/v1/chat/completions \"HTTP/1.1 200 OK\"\n",
      "03/05/2024 04:56:58 PM - HTTP Request: POST https://api.openai.com/v1/chat/completions \"HTTP/1.1 200 OK\"\n",
      " 49%|████▉     | 326/666 [34:11<58:54, 10.40s/it]03/05/2024 04:57:03 PM - HTTP Request: POST https://api.openai.com/v1/chat/completions \"HTTP/1.1 200 OK\"\n",
      " 49%|████▉     | 327/666 [34:15<48:48,  8.64s/it]03/05/2024 04:57:05 PM - HTTP Request: POST https://api.openai.com/v1/chat/completions \"HTTP/1.1 200 OK\"\n",
      " 49%|████▉     | 328/666 [34:17<38:03,  6.76s/it]03/05/2024 04:57:10 PM - HTTP Request: POST https://api.openai.com/v1/chat/completions \"HTTP/1.1 200 OK\"\n",
      "03/05/2024 04:57:14 PM - HTTP Request: POST https://api.openai.com/v1/chat/completions \"HTTP/1.1 200 OK\"\n",
      " 49%|████▉     | 329/666 [34:27<42:24,  7.55s/it]03/05/2024 04:57:16 PM - HTTP Request: POST https://api.openai.com/v1/chat/completions \"HTTP/1.1 200 OK\"\n",
      " 50%|████▉     | 330/666 [34:28<31:52,  5.69s/it]"
     ]
    },
    {
     "name": "stdout",
     "output_type": "stream",
     "text": [
      "Saved in DB 330 of 666\n"
     ]
    },
    {
     "name": "stderr",
     "output_type": "stream",
     "text": [
      "03/05/2024 04:57:17 PM - HTTP Request: POST https://api.openai.com/v1/chat/completions \"HTTP/1.1 200 OK\"\n",
      " 50%|████▉     | 331/666 [34:29<23:58,  4.29s/it]03/05/2024 04:57:28 PM - HTTP Request: POST https://api.openai.com/v1/chat/completions \"HTTP/1.1 200 OK\"\n",
      " 50%|████▉     | 332/666 [34:40<34:50,  6.26s/it]03/05/2024 04:57:29 PM - HTTP Request: POST https://api.openai.com/v1/chat/completions \"HTTP/1.1 200 OK\"\n",
      " 50%|█████     | 333/666 [34:41<25:56,  4.67s/it]03/05/2024 04:57:30 PM - HTTP Request: POST https://api.openai.com/v1/chat/completions \"HTTP/1.1 200 OK\"\n",
      "03/05/2024 04:57:31 PM - HTTP Request: POST https://api.openai.com/v1/chat/completions \"HTTP/1.1 200 OK\"\n",
      " 50%|█████     | 334/666 [34:44<22:40,  4.10s/it]03/05/2024 04:57:37 PM - HTTP Request: POST https://api.openai.com/v1/chat/completions \"HTTP/1.1 200 OK\"\n",
      "03/05/2024 04:57:43 PM - HTTP Request: POST https://api.openai.com/v1/chat/completions \"HTTP/1.1 200 OK\"\n",
      " 50%|█████     | 335/666 [34:56<35:51,  6.50s/it]"
     ]
    },
    {
     "name": "stdout",
     "output_type": "stream",
     "text": [
      "Saved in DB 335 of 666\n"
     ]
    },
    {
     "name": "stderr",
     "output_type": "stream",
     "text": [
      "03/05/2024 04:57:48 PM - HTTP Request: POST https://api.openai.com/v1/chat/completions \"HTTP/1.1 200 OK\"\n",
      " 50%|█████     | 336/666 [35:01<32:33,  5.92s/it]03/05/2024 04:57:59 PM - HTTP Request: POST https://api.openai.com/v1/chat/completions \"HTTP/1.1 200 OK\"\n",
      " 51%|█████     | 337/666 [35:11<40:21,  7.36s/it]03/05/2024 04:58:01 PM - HTTP Request: POST https://api.openai.com/v1/chat/completions \"HTTP/1.1 200 OK\"\n",
      "03/05/2024 04:58:03 PM - HTTP Request: POST https://api.openai.com/v1/chat/completions \"HTTP/1.1 200 OK\"\n",
      "03/05/2024 04:58:06 PM - HTTP Request: POST https://api.openai.com/v1/chat/completions \"HTTP/1.1 200 OK\"\n",
      " 51%|█████     | 338/666 [35:18<39:25,  7.21s/it]"
     ]
    },
    {
     "name": "stdout",
     "output_type": "stream",
     "text": [
      "Model error:\n",
      "1 validation error for ArticleSentiment\n",
      "sentiments.0.citations\n",
      "  Value error, Either both a score and citations are present            or neither are. [type=value_error, input_value=[], input_type=list]\n",
      "    For further information visit https://errors.pydantic.dev/2.5/v/value_error\n"
     ]
    },
    {
     "name": "stderr",
     "output_type": "stream",
     "text": [
      "03/05/2024 04:58:08 PM - HTTP Request: POST https://api.openai.com/v1/chat/completions \"HTTP/1.1 200 OK\"\n",
      " 51%|█████     | 339/666 [35:21<31:57,  5.86s/it]03/05/2024 04:58:11 PM - HTTP Request: POST https://api.openai.com/v1/chat/completions \"HTTP/1.1 200 OK\"\n",
      " 51%|█████     | 340/666 [35:24<27:19,  5.03s/it]"
     ]
    },
    {
     "name": "stdout",
     "output_type": "stream",
     "text": [
      "Saved in DB 340 of 666\n"
     ]
    },
    {
     "name": "stderr",
     "output_type": "stream",
     "text": [
      "03/05/2024 04:58:14 PM - HTTP Request: POST https://api.openai.com/v1/chat/completions \"HTTP/1.1 200 OK\"\n",
      " 51%|█████     | 341/666 [35:27<23:56,  4.42s/it]03/05/2024 04:58:18 PM - HTTP Request: POST https://api.openai.com/v1/chat/completions \"HTTP/1.1 200 OK\"\n",
      " 51%|█████▏    | 342/666 [35:31<23:05,  4.28s/it]03/05/2024 04:58:23 PM - HTTP Request: POST https://api.openai.com/v1/chat/completions \"HTTP/1.1 200 OK\"\n",
      "03/05/2024 04:58:29 PM - HTTP Request: POST https://api.openai.com/v1/chat/completions \"HTTP/1.1 200 OK\"\n",
      " 52%|█████▏    | 343/666 [35:41<33:00,  6.13s/it]03/05/2024 04:58:30 PM - HTTP Request: POST https://api.openai.com/v1/chat/completions \"HTTP/1.1 200 OK\"\n",
      " 52%|█████▏    | 344/666 [35:43<25:11,  4.69s/it]03/05/2024 04:58:35 PM - HTTP Request: POST https://api.openai.com/v1/chat/completions \"HTTP/1.1 200 OK\"\n",
      " 52%|█████▏    | 345/666 [35:48<25:38,  4.79s/it]"
     ]
    },
    {
     "name": "stdout",
     "output_type": "stream",
     "text": [
      "Saved in DB 345 of 666\n"
     ]
    },
    {
     "name": "stderr",
     "output_type": "stream",
     "text": [
      "03/05/2024 04:58:37 PM - HTTP Request: POST https://api.openai.com/v1/chat/completions \"HTTP/1.1 200 OK\"\n",
      " 52%|█████▏    | 346/666 [35:50<21:26,  4.02s/it]03/05/2024 04:58:40 PM - HTTP Request: POST https://api.openai.com/v1/chat/completions \"HTTP/1.1 200 OK\"\n",
      " 52%|█████▏    | 347/666 [35:52<18:25,  3.47s/it]03/05/2024 04:58:45 PM - HTTP Request: POST https://api.openai.com/v1/chat/completions \"HTTP/1.1 200 OK\"\n",
      " 52%|█████▏    | 348/666 [35:58<21:42,  4.10s/it]03/05/2024 04:58:54 PM - HTTP Request: POST https://api.openai.com/v1/chat/completions \"HTTP/1.1 200 OK\"\n",
      " 52%|█████▏    | 349/666 [36:06<28:38,  5.42s/it]03/05/2024 04:58:55 PM - HTTP Request: POST https://api.openai.com/v1/chat/completions \"HTTP/1.1 200 OK\"\n",
      " 53%|█████▎    | 350/666 [36:08<22:20,  4.24s/it]"
     ]
    },
    {
     "name": "stdout",
     "output_type": "stream",
     "text": [
      "Saved in DB 350 of 666\n"
     ]
    },
    {
     "name": "stderr",
     "output_type": "stream",
     "text": [
      "03/05/2024 04:59:02 PM - HTTP Request: POST https://api.openai.com/v1/chat/completions \"HTTP/1.1 200 OK\"\n",
      "03/05/2024 04:59:08 PM - HTTP Request: POST https://api.openai.com/v1/chat/completions \"HTTP/1.1 200 OK\"\n",
      "03/05/2024 04:59:14 PM - HTTP Request: POST https://api.openai.com/v1/chat/completions \"HTTP/1.1 200 OK\"\n",
      " 53%|█████▎    | 351/666 [36:26<44:45,  8.52s/it]03/05/2024 04:59:14 PM - HTTP Request: POST https://api.openai.com/v1/chat/completions \"HTTP/1.1 200 OK\"\n",
      "03/05/2024 04:59:15 PM - HTTP Request: POST https://api.openai.com/v1/chat/completions \"HTTP/1.1 200 OK\"\n",
      " 53%|█████▎    | 352/666 [36:28<33:55,  6.48s/it]03/05/2024 04:59:17 PM - HTTP Request: POST https://api.openai.com/v1/chat/completions \"HTTP/1.1 200 OK\"\n",
      "03/05/2024 04:59:18 PM - HTTP Request: POST https://api.openai.com/v1/chat/completions \"HTTP/1.1 200 OK\"\n",
      " 53%|█████▎    | 353/666 [36:30<27:06,  5.20s/it]03/05/2024 04:59:23 PM - HTTP Request: POST https://api.openai.com/v1/chat/completions \"HTTP/1.1 200 OK\"\n",
      " 53%|█████▎    | 354/666 [36:35<27:19,  5.26s/it]03/05/2024 04:59:30 PM - HTTP Request: POST https://api.openai.com/v1/chat/completions \"HTTP/1.1 200 OK\"\n",
      " 53%|█████▎    | 355/666 [36:43<30:27,  5.88s/it]"
     ]
    },
    {
     "name": "stdout",
     "output_type": "stream",
     "text": [
      "Saved in DB 355 of 666\n"
     ]
    },
    {
     "name": "stderr",
     "output_type": "stream",
     "text": [
      "03/05/2024 04:59:32 PM - HTTP Request: POST https://api.openai.com/v1/chat/completions \"HTTP/1.1 200 OK\"\n",
      "03/05/2024 04:59:33 PM - HTTP Request: POST https://api.openai.com/v1/chat/completions \"HTTP/1.1 200 OK\"\n",
      " 53%|█████▎    | 356/666 [36:45<25:14,  4.88s/it]03/05/2024 04:59:36 PM - HTTP Request: POST https://api.openai.com/v1/chat/completions \"HTTP/1.1 200 OK\"\n",
      "03/05/2024 04:59:39 PM - HTTP Request: POST https://api.openai.com/v1/chat/completions \"HTTP/1.1 200 OK\"\n",
      " 54%|█████▎    | 357/666 [36:51<26:52,  5.22s/it]03/05/2024 04:59:44 PM - HTTP Request: POST https://api.openai.com/v1/chat/completions \"HTTP/1.1 200 OK\"\n",
      " 54%|█████▍    | 358/666 [36:56<26:05,  5.08s/it]03/05/2024 04:59:46 PM - HTTP Request: POST https://api.openai.com/v1/chat/completions \"HTTP/1.1 200 OK\"\n",
      "03/05/2024 04:59:50 PM - HTTP Request: POST https://api.openai.com/v1/chat/completions \"HTTP/1.1 200 OK\"\n",
      "03/05/2024 04:59:53 PM - HTTP Request: POST https://api.openai.com/v1/chat/completions \"HTTP/1.1 200 OK\"\n",
      " 54%|█████▍    | 359/666 [37:06<33:00,  6.45s/it]"
     ]
    },
    {
     "name": "stdout",
     "output_type": "stream",
     "text": [
      "Model error:\n",
      "2 validation errors for ArticleSentiment\n",
      "sentiments.1.citations\n",
      "  Value error, Either both a score and citations are present            or neither are. [type=value_error, input_value=[{'quote': \"Mariana Mort...': 'Mariana Mortágua'}], input_type=list]\n",
      "    For further information visit https://errors.pydantic.dev/2.5/v/value_error\n",
      "sentiments.2.citations\n",
      "  Value error, Either both a score and citations are present            or neither are. [type=value_error, input_value=[{'quote': 'Compreendemos...o Chega', 'score': 0.7}], input_type=list]\n",
      "    For further information visit https://errors.pydantic.dev/2.5/v/value_error\n"
     ]
    },
    {
     "name": "stderr",
     "output_type": "stream",
     "text": [
      "03/05/2024 04:59:59 PM - HTTP Request: POST https://api.openai.com/v1/chat/completions \"HTTP/1.1 200 OK\"\n",
      " 54%|█████▍    | 360/666 [37:12<32:12,  6.32s/it]"
     ]
    },
    {
     "name": "stdout",
     "output_type": "stream",
     "text": [
      "Saved in DB 360 of 666\n"
     ]
    },
    {
     "name": "stderr",
     "output_type": "stream",
     "text": [
      "03/05/2024 05:00:01 PM - HTTP Request: POST https://api.openai.com/v1/chat/completions \"HTTP/1.1 200 OK\"\n",
      " 54%|█████▍    | 361/666 [37:13<24:18,  4.78s/it]03/05/2024 05:00:01 PM - HTTP Request: POST https://api.openai.com/v1/chat/completions \"HTTP/1.1 200 OK\"\n",
      " 54%|█████▍    | 362/666 [37:14<18:21,  3.62s/it]03/05/2024 05:00:03 PM - HTTP Request: POST https://api.openai.com/v1/chat/completions \"HTTP/1.1 200 OK\"\n",
      " 55%|█████▍    | 363/666 [37:15<14:38,  2.90s/it]03/05/2024 05:00:05 PM - HTTP Request: POST https://api.openai.com/v1/chat/completions \"HTTP/1.1 200 OK\"\n",
      " 55%|█████▍    | 364/666 [37:17<13:09,  2.62s/it]03/05/2024 05:00:06 PM - HTTP Request: POST https://api.openai.com/v1/chat/completions \"HTTP/1.1 200 OK\"\n",
      "03/05/2024 05:00:08 PM - HTTP Request: POST https://api.openai.com/v1/chat/completions \"HTTP/1.1 200 OK\"\n",
      " 55%|█████▍    | 365/666 [37:20<13:59,  2.79s/it]"
     ]
    },
    {
     "name": "stdout",
     "output_type": "stream",
     "text": [
      "Saved in DB 365 of 666\n"
     ]
    },
    {
     "name": "stderr",
     "output_type": "stream",
     "text": [
      "03/05/2024 05:00:14 PM - HTTP Request: POST https://api.openai.com/v1/chat/completions \"HTTP/1.1 200 OK\"\n",
      " 55%|█████▍    | 366/666 [37:26<18:32,  3.71s/it]03/05/2024 05:00:15 PM - HTTP Request: POST https://api.openai.com/v1/chat/completions \"HTTP/1.1 200 OK\"\n",
      "03/05/2024 05:00:16 PM - HTTP Request: POST https://api.openai.com/v1/chat/completions \"HTTP/1.1 200 OK\"\n",
      " 55%|█████▌    | 367/666 [37:28<16:29,  3.31s/it]03/05/2024 05:00:20 PM - HTTP Request: POST https://api.openai.com/v1/chat/completions \"HTTP/1.1 200 OK\"\n",
      "03/05/2024 05:00:24 PM - HTTP Request: POST https://api.openai.com/v1/chat/completions \"HTTP/1.1 200 OK\"\n",
      "03/05/2024 05:00:28 PM - HTTP Request: POST https://api.openai.com/v1/chat/completions \"HTTP/1.1 200 OK\"\n",
      " 55%|█████▌    | 368/666 [37:40<28:46,  5.79s/it]"
     ]
    },
    {
     "name": "stdout",
     "output_type": "stream",
     "text": [
      "Model error:\n",
      "1 validation error for ArticleSentiment\n",
      "sentiments.0.citations\n",
      "  Value error, Either both a score and citations are present            or neither are. [type=value_error, input_value=[{'quote': 'Há muita gen...entimos', 'score': 0.6}], input_type=list]\n",
      "    For further information visit https://errors.pydantic.dev/2.5/v/value_error\n"
     ]
    },
    {
     "name": "stderr",
     "output_type": "stream",
     "text": [
      "03/05/2024 05:00:29 PM - HTTP Request: POST https://api.openai.com/v1/chat/completions \"HTTP/1.1 200 OK\"\n",
      " 55%|█████▌    | 369/666 [37:41<21:28,  4.34s/it]03/05/2024 05:00:30 PM - HTTP Request: POST https://api.openai.com/v1/chat/completions \"HTTP/1.1 200 OK\"\n",
      " 56%|█████▌    | 370/666 [37:42<16:24,  3.33s/it]"
     ]
    },
    {
     "name": "stdout",
     "output_type": "stream",
     "text": [
      "Saved in DB 370 of 666\n"
     ]
    },
    {
     "name": "stderr",
     "output_type": "stream",
     "text": [
      "03/05/2024 05:00:31 PM - HTTP Request: POST https://api.openai.com/v1/chat/completions \"HTTP/1.1 200 OK\"\n",
      " 56%|█████▌    | 371/666 [37:43<13:18,  2.71s/it]03/05/2024 05:00:32 PM - HTTP Request: POST https://api.openai.com/v1/chat/completions \"HTTP/1.1 200 OK\"\n",
      " 56%|█████▌    | 372/666 [37:44<10:45,  2.20s/it]03/05/2024 05:00:34 PM - HTTP Request: POST https://api.openai.com/v1/chat/completions \"HTTP/1.1 200 OK\"\n",
      "03/05/2024 05:00:36 PM - HTTP Request: POST https://api.openai.com/v1/chat/completions \"HTTP/1.1 200 OK\"\n",
      "03/05/2024 05:00:38 PM - HTTP Request: POST https://api.openai.com/v1/chat/completions \"HTTP/1.1 200 OK\"\n",
      " 56%|█████▌    | 373/666 [37:50<15:56,  3.27s/it]"
     ]
    },
    {
     "name": "stdout",
     "output_type": "stream",
     "text": [
      "Model error:\n",
      "1 validation error for ArticleSentiment\n",
      "sentiments.1.name\n",
      "  Value error, Citation `Rui Rocha` not found in article_n_meta [type=value_error, input_value='Rui Rocha', input_type=str]\n",
      "    For further information visit https://errors.pydantic.dev/2.5/v/value_error\n"
     ]
    },
    {
     "name": "stderr",
     "output_type": "stream",
     "text": [
      "03/05/2024 05:00:41 PM - HTTP Request: POST https://api.openai.com/v1/chat/completions \"HTTP/1.1 200 OK\"\n",
      "03/05/2024 05:00:45 PM - HTTP Request: POST https://api.openai.com/v1/chat/completions \"HTTP/1.1 200 OK\"\n",
      " 56%|█████▌    | 374/666 [37:57<21:56,  4.51s/it]03/05/2024 05:00:46 PM - HTTP Request: POST https://api.openai.com/v1/chat/completions \"HTTP/1.1 200 OK\"\n",
      " 56%|█████▋    | 375/666 [37:59<17:21,  3.58s/it]"
     ]
    },
    {
     "name": "stdout",
     "output_type": "stream",
     "text": [
      "Saved in DB 375 of 666\n"
     ]
    },
    {
     "name": "stderr",
     "output_type": "stream",
     "text": [
      "03/05/2024 05:00:48 PM - HTTP Request: POST https://api.openai.com/v1/chat/completions \"HTTP/1.1 200 OK\"\n",
      "03/05/2024 05:00:50 PM - HTTP Request: POST https://api.openai.com/v1/chat/completions \"HTTP/1.1 200 OK\"\n",
      "03/05/2024 05:00:52 PM - HTTP Request: POST https://api.openai.com/v1/chat/completions \"HTTP/1.1 200 OK\"\n",
      " 56%|█████▋    | 376/666 [38:05<20:35,  4.26s/it]03/05/2024 05:00:54 PM - HTTP Request: POST https://api.openai.com/v1/chat/completions \"HTTP/1.1 200 OK\"\n",
      "03/05/2024 05:00:55 PM - HTTP Request: POST https://api.openai.com/v1/chat/completions \"HTTP/1.1 200 OK\"\n",
      " 57%|█████▋    | 377/666 [38:07<18:22,  3.81s/it]03/05/2024 05:00:59 PM - HTTP Request: POST https://api.openai.com/v1/chat/completions \"HTTP/1.1 200 OK\"\n",
      "03/05/2024 05:01:04 PM - HTTP Request: POST https://api.openai.com/v1/chat/completions \"HTTP/1.1 200 OK\"\n",
      "03/05/2024 05:01:09 PM - HTTP Request: POST https://api.openai.com/v1/chat/completions \"HTTP/1.1 200 OK\"\n",
      " 57%|█████▋    | 378/666 [38:22<33:41,  7.02s/it]"
     ]
    },
    {
     "name": "stdout",
     "output_type": "stream",
     "text": [
      "Model error:\n",
      "1 validation error for ArticleSentiment\n",
      "sentiments.0.citations\n",
      "  Value error, Either both a score and citations are present            or neither are. [type=value_error, input_value=[], input_type=list]\n",
      "    For further information visit https://errors.pydantic.dev/2.5/v/value_error\n"
     ]
    },
    {
     "name": "stderr",
     "output_type": "stream",
     "text": [
      "03/05/2024 05:01:13 PM - HTTP Request: POST https://api.openai.com/v1/chat/completions \"HTTP/1.1 200 OK\"\n",
      "03/05/2024 05:01:14 PM - HTTP Request: POST https://api.openai.com/v1/chat/completions \"HTTP/1.1 200 OK\"\n",
      "03/05/2024 05:01:16 PM - HTTP Request: POST https://api.openai.com/v1/chat/completions \"HTTP/1.1 200 OK\"\n",
      " 57%|█████▋    | 379/666 [38:29<33:06,  6.92s/it]"
     ]
    },
    {
     "name": "stdout",
     "output_type": "stream",
     "text": [
      "Model error:\n",
      "1 validation error for ArticleSentiment\n",
      "sentiments.2.name\n",
      "  Value error, Citation `Rui Rocha` not found in article_n_meta [type=value_error, input_value='Rui Rocha', input_type=str]\n",
      "    For further information visit https://errors.pydantic.dev/2.5/v/value_error\n"
     ]
    },
    {
     "name": "stderr",
     "output_type": "stream",
     "text": [
      "03/05/2024 05:01:18 PM - HTTP Request: POST https://api.openai.com/v1/chat/completions \"HTTP/1.1 200 OK\"\n",
      " 57%|█████▋    | 380/666 [38:30<25:45,  5.40s/it]"
     ]
    },
    {
     "name": "stdout",
     "output_type": "stream",
     "text": [
      "Saved in DB 380 of 666\n"
     ]
    },
    {
     "name": "stderr",
     "output_type": "stream",
     "text": [
      "03/05/2024 05:01:24 PM - HTTP Request: POST https://api.openai.com/v1/chat/completions \"HTTP/1.1 200 OK\"\n",
      "03/05/2024 05:01:30 PM - HTTP Request: POST https://api.openai.com/v1/chat/completions \"HTTP/1.1 200 OK\"\n",
      "03/05/2024 05:01:37 PM - HTTP Request: POST https://api.openai.com/v1/chat/completions \"HTTP/1.1 200 OK\"\n",
      " 57%|█████▋    | 381/666 [38:49<44:26,  9.36s/it]"
     ]
    },
    {
     "name": "stdout",
     "output_type": "stream",
     "text": [
      "Model error:\n",
      "1 validation error for ArticleSentiment\n",
      "sentiments.0.citations.4.score\n",
      "  Field required [type=missing, input_value={'quote': 'Tanto malabari... como do diabo da cruz'}, input_type=dict]\n",
      "    For further information visit https://errors.pydantic.dev/2.5/v/missing\n"
     ]
    },
    {
     "name": "stderr",
     "output_type": "stream",
     "text": [
      "03/05/2024 05:01:40 PM - HTTP Request: POST https://api.openai.com/v1/chat/completions \"HTTP/1.1 200 OK\"\n",
      " 57%|█████▋    | 382/666 [38:53<36:23,  7.69s/it]03/05/2024 05:01:45 PM - HTTP Request: POST https://api.openai.com/v1/chat/completions \"HTTP/1.1 200 OK\"\n",
      " 58%|█████▊    | 383/666 [38:57<31:51,  6.76s/it]03/05/2024 05:01:47 PM - HTTP Request: POST https://api.openai.com/v1/chat/completions \"HTTP/1.1 200 OK\"\n",
      " 58%|█████▊    | 384/666 [39:00<25:14,  5.37s/it]03/05/2024 05:01:49 PM - HTTP Request: POST https://api.openai.com/v1/chat/completions \"HTTP/1.1 200 OK\"\n",
      "03/05/2024 05:01:50 PM - HTTP Request: POST https://api.openai.com/v1/chat/completions \"HTTP/1.1 200 OK\"\n",
      " 58%|█████▊    | 385/666 [39:02<21:36,  4.62s/it]"
     ]
    },
    {
     "name": "stdout",
     "output_type": "stream",
     "text": [
      "Saved in DB 385 of 666\n"
     ]
    },
    {
     "name": "stderr",
     "output_type": "stream",
     "text": [
      "03/05/2024 05:01:51 PM - HTTP Request: POST https://api.openai.com/v1/chat/completions \"HTTP/1.1 200 OK\"\n",
      " 58%|█████▊    | 386/666 [39:03<16:29,  3.53s/it]03/05/2024 05:01:54 PM - HTTP Request: POST https://api.openai.com/v1/chat/completions \"HTTP/1.1 200 OK\"\n",
      " 58%|█████▊    | 387/666 [39:07<15:47,  3.40s/it]03/05/2024 05:01:58 PM - HTTP Request: POST https://api.openai.com/v1/chat/completions \"HTTP/1.1 200 OK\"\n",
      " 58%|█████▊    | 388/666 [39:10<15:51,  3.42s/it]03/05/2024 05:02:04 PM - HTTP Request: POST https://api.openai.com/v1/chat/completions \"HTTP/1.1 200 OK\"\n",
      " 58%|█████▊    | 389/666 [39:16<19:43,  4.27s/it]03/05/2024 05:02:06 PM - HTTP Request: POST https://api.openai.com/v1/chat/completions \"HTTP/1.1 200 OK\"\n",
      " 59%|█████▊    | 390/666 [39:19<16:52,  3.67s/it]"
     ]
    },
    {
     "name": "stdout",
     "output_type": "stream",
     "text": [
      "Saved in DB 390 of 666\n"
     ]
    },
    {
     "name": "stderr",
     "output_type": "stream",
     "text": [
      "03/05/2024 05:02:15 PM - HTTP Request: POST https://api.openai.com/v1/chat/completions \"HTTP/1.1 200 OK\"\n",
      " 59%|█████▊    | 391/666 [39:28<24:22,  5.32s/it]03/05/2024 05:02:18 PM - HTTP Request: POST https://api.openai.com/v1/chat/completions \"HTTP/1.1 200 OK\"\n",
      "03/05/2024 05:02:21 PM - HTTP Request: POST https://api.openai.com/v1/chat/completions \"HTTP/1.1 200 OK\"\n",
      "03/05/2024 05:02:25 PM - HTTP Request: POST https://api.openai.com/v1/chat/completions \"HTTP/1.1 200 OK\"\n",
      " 59%|█████▉    | 392/666 [39:37<30:07,  6.60s/it]"
     ]
    },
    {
     "name": "stdout",
     "output_type": "stream",
     "text": [
      "Model error:\n",
      "1 validation error for ArticleSentiment\n",
      "sentiments.0.citations\n",
      "  Value error, Either both a score and citations are present            or neither are. [type=value_error, input_value=[{'quote': 'Paulo Raimund...o Chega', 'score': 0.9}], input_type=list]\n",
      "    For further information visit https://errors.pydantic.dev/2.5/v/value_error\n"
     ]
    },
    {
     "name": "stderr",
     "output_type": "stream",
     "text": [
      "03/05/2024 05:02:36 PM - HTTP Request: POST https://api.openai.com/v1/chat/completions \"HTTP/1.1 200 OK\"\n",
      "03/05/2024 05:02:49 PM - HTTP Request: POST https://api.openai.com/v1/chat/completions \"HTTP/1.1 200 OK\"\n",
      " 59%|█████▉    | 393/666 [40:02<54:17, 11.93s/it]03/05/2024 05:02:53 PM - HTTP Request: POST https://api.openai.com/v1/chat/completions \"HTTP/1.1 200 OK\"\n",
      " 59%|█████▉    | 394/666 [40:05<43:06,  9.51s/it]03/05/2024 05:02:58 PM - HTTP Request: POST https://api.openai.com/v1/chat/completions \"HTTP/1.1 200 OK\"\n",
      "03/05/2024 05:03:03 PM - HTTP Request: POST https://api.openai.com/v1/chat/completions \"HTTP/1.1 200 OK\"\n",
      "03/05/2024 05:03:08 PM - HTTP Request: POST https://api.openai.com/v1/chat/completions \"HTTP/1.1 200 OK\"\n",
      " 59%|█████▉    | 395/666 [40:20<50:13, 11.12s/it]"
     ]
    },
    {
     "name": "stdout",
     "output_type": "stream",
     "text": [
      "Model error:\n",
      "1 validation error for ArticleSentiment\n",
      "sentiments.1.citations\n",
      "  Value error, Either both a score and citations are present            or neither are. [type=value_error, input_value=[], input_type=list]\n",
      "    For further information visit https://errors.pydantic.dev/2.5/v/value_error\n",
      "Saved in DB 395 of 666\n"
     ]
    },
    {
     "name": "stderr",
     "output_type": "stream",
     "text": [
      "03/05/2024 05:03:09 PM - HTTP Request: POST https://api.openai.com/v1/chat/completions \"HTTP/1.1 200 OK\"\n",
      " 59%|█████▉    | 396/666 [40:22<37:01,  8.23s/it]03/05/2024 05:03:11 PM - HTTP Request: POST https://api.openai.com/v1/chat/completions \"HTTP/1.1 200 OK\"\n",
      "03/05/2024 05:03:12 PM - HTTP Request: POST https://api.openai.com/v1/chat/completions \"HTTP/1.1 200 OK\"\n",
      " 60%|█████▉    | 397/666 [40:25<29:51,  6.66s/it]03/05/2024 05:03:20 PM - HTTP Request: POST https://api.openai.com/v1/chat/completions \"HTTP/1.1 200 OK\"\n",
      " 60%|█████▉    | 398/666 [40:33<31:23,  7.03s/it]03/05/2024 05:03:24 PM - HTTP Request: POST https://api.openai.com/v1/chat/completions \"HTTP/1.1 200 OK\"\n",
      "03/05/2024 05:03:28 PM - HTTP Request: POST https://api.openai.com/v1/chat/completions \"HTTP/1.1 200 OK\"\n",
      "03/05/2024 05:03:31 PM - HTTP Request: POST https://api.openai.com/v1/chat/completions \"HTTP/1.1 200 OK\"\n",
      " 60%|█████▉    | 399/666 [40:44<36:46,  8.26s/it]"
     ]
    },
    {
     "name": "stdout",
     "output_type": "stream",
     "text": [
      "Model error:\n",
      "1 validation error for ArticleSentiment\n",
      "sentiments.0.citations\n",
      "  Value error, Either both a score and citations are present            or neither are. [type=value_error, input_value=[{'quote': 'É preciso qu...elogios\", 'score': 0.8}], input_type=list]\n",
      "    For further information visit https://errors.pydantic.dev/2.5/v/value_error\n"
     ]
    },
    {
     "name": "stderr",
     "output_type": "stream",
     "text": [
      "03/05/2024 05:03:33 PM - HTTP Request: POST https://api.openai.com/v1/chat/completions \"HTTP/1.1 200 OK\"\n",
      "03/05/2024 05:03:35 PM - HTTP Request: POST https://api.openai.com/v1/chat/completions \"HTTP/1.1 200 OK\"\n",
      " 60%|██████    | 400/666 [40:47<30:08,  6.80s/it]"
     ]
    },
    {
     "name": "stdout",
     "output_type": "stream",
     "text": [
      "Saved in DB 400 of 666\n"
     ]
    },
    {
     "name": "stderr",
     "output_type": "stream",
     "text": [
      "03/05/2024 05:03:46 PM - HTTP Request: POST https://api.openai.com/v1/chat/completions \"HTTP/1.1 200 OK\"\n",
      " 60%|██████    | 401/666 [40:59<36:10,  8.19s/it]03/05/2024 05:03:47 PM - HTTP Request: POST https://api.openai.com/v1/chat/completions \"HTTP/1.1 200 OK\"\n",
      " 60%|██████    | 402/666 [41:00<26:50,  6.10s/it]03/05/2024 05:03:54 PM - HTTP Request: POST https://api.openai.com/v1/chat/completions \"HTTP/1.1 200 OK\"\n",
      "03/05/2024 05:04:01 PM - HTTP Request: POST https://api.openai.com/v1/chat/completions \"HTTP/1.1 200 OK\"\n",
      " 61%|██████    | 403/666 [41:13<35:49,  8.17s/it]03/05/2024 05:04:03 PM - HTTP Request: POST https://api.openai.com/v1/chat/completions \"HTTP/1.1 200 OK\"\n",
      " 61%|██████    | 404/666 [41:15<28:08,  6.44s/it]03/05/2024 05:04:08 PM - HTTP Request: POST https://api.openai.com/v1/chat/completions \"HTTP/1.1 200 OK\"\n",
      " 61%|██████    | 405/666 [41:21<26:36,  6.12s/it]"
     ]
    },
    {
     "name": "stdout",
     "output_type": "stream",
     "text": [
      "Saved in DB 405 of 666\n"
     ]
    },
    {
     "name": "stderr",
     "output_type": "stream",
     "text": [
      "03/05/2024 05:04:13 PM - HTTP Request: POST https://api.openai.com/v1/chat/completions \"HTTP/1.1 200 OK\"\n",
      " 61%|██████    | 406/666 [41:26<25:16,  5.83s/it]03/05/2024 05:04:17 PM - HTTP Request: POST https://api.openai.com/v1/chat/completions \"HTTP/1.1 200 OK\"\n",
      " 61%|██████    | 407/666 [41:29<22:00,  5.10s/it]03/05/2024 05:04:21 PM - HTTP Request: POST https://api.openai.com/v1/chat/completions \"HTTP/1.1 200 OK\"\n",
      "03/05/2024 05:04:25 PM - HTTP Request: POST https://api.openai.com/v1/chat/completions \"HTTP/1.1 200 OK\"\n",
      "03/05/2024 05:04:30 PM - HTTP Request: POST https://api.openai.com/v1/chat/completions \"HTTP/1.1 200 OK\"\n",
      " 61%|██████▏   | 408/666 [41:43<32:40,  7.60s/it]"
     ]
    },
    {
     "name": "stdout",
     "output_type": "stream",
     "text": [
      "Model error:\n",
      "1 validation error for ArticleSentiment\n",
      "sentiments.2.name\n",
      "  Value error, Citation `Rui Rocha` not found in article_n_meta [type=value_error, input_value='Rui Rocha', input_type=str]\n",
      "    For further information visit https://errors.pydantic.dev/2.5/v/value_error\n"
     ]
    },
    {
     "name": "stderr",
     "output_type": "stream",
     "text": [
      "03/05/2024 05:04:31 PM - HTTP Request: POST https://api.openai.com/v1/chat/completions \"HTTP/1.1 200 OK\"\n",
      " 61%|██████▏   | 409/666 [41:44<24:20,  5.68s/it]03/05/2024 05:04:35 PM - HTTP Request: POST https://api.openai.com/v1/chat/completions \"HTTP/1.1 200 OK\"\n",
      "03/05/2024 05:04:37 PM - HTTP Request: POST https://api.openai.com/v1/chat/completions \"HTTP/1.1 200 OK\"\n",
      " 62%|██████▏   | 410/666 [41:49<23:28,  5.50s/it]"
     ]
    },
    {
     "name": "stdout",
     "output_type": "stream",
     "text": [
      "Saved in DB 410 of 666\n"
     ]
    },
    {
     "name": "stderr",
     "output_type": "stream",
     "text": [
      "03/05/2024 05:04:40 PM - HTTP Request: POST https://api.openai.com/v1/chat/completions \"HTTP/1.1 200 OK\"\n",
      " 62%|██████▏   | 411/666 [41:53<21:06,  4.97s/it]03/05/2024 05:04:43 PM - HTTP Request: POST https://api.openai.com/v1/chat/completions \"HTTP/1.1 200 OK\"\n",
      " 62%|██████▏   | 412/666 [41:56<18:44,  4.43s/it]03/05/2024 05:04:45 PM - HTTP Request: POST https://api.openai.com/v1/chat/completions \"HTTP/1.1 200 OK\"\n",
      "03/05/2024 05:04:46 PM - HTTP Request: POST https://api.openai.com/v1/chat/completions \"HTTP/1.1 200 OK\"\n",
      "03/05/2024 05:04:47 PM - HTTP Request: POST https://api.openai.com/v1/chat/completions \"HTTP/1.1 200 OK\"\n",
      " 62%|██████▏   | 413/666 [42:00<18:07,  4.30s/it]03/05/2024 05:04:50 PM - HTTP Request: POST https://api.openai.com/v1/chat/completions \"HTTP/1.1 200 OK\"\n",
      "03/05/2024 05:04:51 PM - HTTP Request: POST https://api.openai.com/v1/chat/completions \"HTTP/1.1 200 OK\"\n",
      "03/05/2024 05:04:52 PM - HTTP Request: POST https://api.openai.com/v1/chat/completions \"HTTP/1.1 200 OK\"\n",
      " 62%|██████▏   | 414/666 [42:05<18:49,  4.48s/it]03/05/2024 05:04:57 PM - HTTP Request: POST https://api.openai.com/v1/chat/completions \"HTTP/1.1 200 OK\"\n",
      " 62%|██████▏   | 415/666 [42:10<19:26,  4.65s/it]"
     ]
    },
    {
     "name": "stdout",
     "output_type": "stream",
     "text": [
      "Saved in DB 415 of 666\n"
     ]
    },
    {
     "name": "stderr",
     "output_type": "stream",
     "text": [
      "03/05/2024 05:04:59 PM - HTTP Request: POST https://api.openai.com/v1/chat/completions \"HTTP/1.1 200 OK\"\n",
      " 62%|██████▏   | 416/666 [42:11<15:02,  3.61s/it]03/05/2024 05:05:02 PM - HTTP Request: POST https://api.openai.com/v1/chat/completions \"HTTP/1.1 200 OK\"\n",
      " 63%|██████▎   | 417/666 [42:14<14:48,  3.57s/it]03/05/2024 05:05:09 PM - HTTP Request: POST https://api.openai.com/v1/chat/completions \"HTTP/1.1 200 OK\"\n",
      "03/05/2024 05:05:17 PM - HTTP Request: POST https://api.openai.com/v1/chat/completions \"HTTP/1.1 200 OK\"\n",
      "03/05/2024 05:05:22 PM - HTTP Request: POST https://api.openai.com/v1/chat/completions \"HTTP/1.1 200 OK\"\n",
      " 63%|██████▎   | 418/666 [42:35<35:16,  8.53s/it]"
     ]
    },
    {
     "name": "stdout",
     "output_type": "stream",
     "text": [
      "Model error:\n",
      "2 validation errors for ArticleSentiment\n",
      "sentiments.0.citations\n",
      "  Value error, Either both a score and citations are present            or neither are. [type=value_error, input_value=[], input_type=list]\n",
      "    For further information visit https://errors.pydantic.dev/2.5/v/value_error\n",
      "sentiments.1.citations.2.quote\n",
      "  Value error, Citation `Persistindo nas críticas, it's clear at the PS congress that the orientations of Brussels are to be obediently followed and that the accurate accounts are to continue affecting the lives of millions` not found in article_n_meta, match_ratio: 55.0 [type=value_error, input_value=\"Persistindo nas crítica...g the lives of millions\", input_type=str]\n",
      "    For further information visit https://errors.pydantic.dev/2.5/v/value_error\n"
     ]
    },
    {
     "name": "stderr",
     "output_type": "stream",
     "text": [
      "03/05/2024 05:05:23 PM - HTTP Request: POST https://api.openai.com/v1/chat/completions \"HTTP/1.1 200 OK\"\n",
      " 63%|██████▎   | 419/666 [42:36<26:34,  6.45s/it]03/05/2024 05:05:26 PM - HTTP Request: POST https://api.openai.com/v1/chat/completions \"HTTP/1.1 200 OK\"\n",
      " 63%|██████▎   | 420/666 [42:38<20:48,  5.07s/it]"
     ]
    },
    {
     "name": "stdout",
     "output_type": "stream",
     "text": [
      "Saved in DB 420 of 666\n"
     ]
    },
    {
     "name": "stderr",
     "output_type": "stream",
     "text": [
      "03/05/2024 05:05:27 PM - HTTP Request: POST https://api.openai.com/v1/chat/completions \"HTTP/1.1 200 OK\"\n",
      "03/05/2024 05:05:28 PM - HTTP Request: POST https://api.openai.com/v1/chat/completions \"HTTP/1.1 200 OK\"\n",
      "03/05/2024 05:05:30 PM - HTTP Request: POST https://api.openai.com/v1/chat/completions \"HTTP/1.1 200 OK\"\n",
      " 63%|██████▎   | 421/666 [42:42<19:23,  4.75s/it]03/05/2024 05:05:31 PM - HTTP Request: POST https://api.openai.com/v1/chat/completions \"HTTP/1.1 200 OK\"\n",
      " 63%|██████▎   | 422/666 [42:43<15:05,  3.71s/it]03/05/2024 05:05:32 PM - HTTP Request: POST https://api.openai.com/v1/chat/completions \"HTTP/1.1 200 OK\"\n",
      " 64%|██████▎   | 423/666 [42:45<11:58,  2.96s/it]03/05/2024 05:05:35 PM - HTTP Request: POST https://api.openai.com/v1/chat/completions \"HTTP/1.1 200 OK\"\n",
      " 64%|██████▎   | 424/666 [42:48<12:19,  3.06s/it]03/05/2024 05:05:37 PM - HTTP Request: POST https://api.openai.com/v1/chat/completions \"HTTP/1.1 200 OK\"\n",
      " 64%|██████▍   | 425/666 [42:49<10:25,  2.59s/it]"
     ]
    },
    {
     "name": "stdout",
     "output_type": "stream",
     "text": [
      "Saved in DB 425 of 666\n"
     ]
    },
    {
     "name": "stderr",
     "output_type": "stream",
     "text": [
      "03/05/2024 05:05:44 PM - HTTP Request: POST https://api.openai.com/v1/chat/completions \"HTTP/1.1 200 OK\"\n",
      " 64%|██████▍   | 426/666 [42:57<15:53,  3.97s/it]03/05/2024 05:05:46 PM - HTTP Request: POST https://api.openai.com/v1/chat/completions \"HTTP/1.1 200 OK\"\n",
      " 64%|██████▍   | 427/666 [42:58<12:50,  3.22s/it]03/05/2024 05:05:47 PM - HTTP Request: POST https://api.openai.com/v1/chat/completions \"HTTP/1.1 200 OK\"\n",
      " 64%|██████▍   | 428/666 [42:59<10:06,  2.55s/it]03/05/2024 05:05:49 PM - HTTP Request: POST https://api.openai.com/v1/chat/completions \"HTTP/1.1 200 OK\"\n",
      "03/05/2024 05:05:50 PM - HTTP Request: POST https://api.openai.com/v1/chat/completions \"HTTP/1.1 200 OK\"\n",
      " 64%|██████▍   | 429/666 [43:03<11:25,  2.89s/it]03/05/2024 05:05:54 PM - HTTP Request: POST https://api.openai.com/v1/chat/completions \"HTTP/1.1 200 OK\"\n",
      " 65%|██████▍   | 430/666 [43:06<12:15,  3.12s/it]"
     ]
    },
    {
     "name": "stdout",
     "output_type": "stream",
     "text": [
      "Saved in DB 430 of 666\n"
     ]
    },
    {
     "name": "stderr",
     "output_type": "stream",
     "text": [
      "03/05/2024 05:05:57 PM - HTTP Request: POST https://api.openai.com/v1/chat/completions \"HTTP/1.1 200 OK\"\n",
      " 65%|██████▍   | 431/666 [43:09<12:02,  3.07s/it]03/05/2024 05:05:58 PM - HTTP Request: POST https://api.openai.com/v1/chat/completions \"HTTP/1.1 200 OK\"\n",
      " 65%|██████▍   | 432/666 [43:10<09:35,  2.46s/it]03/05/2024 05:06:02 PM - HTTP Request: POST https://api.openai.com/v1/chat/completions \"HTTP/1.1 200 OK\"\n",
      " 65%|██████▌   | 433/666 [43:14<11:30,  2.96s/it]03/05/2024 05:06:04 PM - HTTP Request: POST https://api.openai.com/v1/chat/completions \"HTTP/1.1 200 OK\"\n",
      " 65%|██████▌   | 434/666 [43:16<10:08,  2.62s/it]03/05/2024 05:06:05 PM - HTTP Request: POST https://api.openai.com/v1/chat/completions \"HTTP/1.1 200 OK\"\n",
      "03/05/2024 05:06:06 PM - HTTP Request: POST https://api.openai.com/v1/chat/completions \"HTTP/1.1 200 OK\"\n",
      " 65%|██████▌   | 435/666 [43:18<09:36,  2.49s/it]"
     ]
    },
    {
     "name": "stdout",
     "output_type": "stream",
     "text": [
      "Saved in DB 435 of 666\n"
     ]
    },
    {
     "name": "stderr",
     "output_type": "stream",
     "text": [
      "03/05/2024 05:06:12 PM - HTTP Request: POST https://api.openai.com/v1/chat/completions \"HTTP/1.1 200 OK\"\n",
      "03/05/2024 05:06:18 PM - HTTP Request: POST https://api.openai.com/v1/chat/completions \"HTTP/1.1 200 OK\"\n",
      "03/05/2024 05:06:23 PM - HTTP Request: POST https://api.openai.com/v1/chat/completions \"HTTP/1.1 200 OK\"\n",
      " 65%|██████▌   | 436/666 [43:36<26:27,  6.90s/it]"
     ]
    },
    {
     "name": "stdout",
     "output_type": "stream",
     "text": [
      "Model error:\n",
      "1 validation error for ArticleSentiment\n",
      "sentiments.0.citations\n",
      "  Value error, Either both a score and citations are present            or neither are. [type=value_error, input_value=[], input_type=list]\n",
      "    For further information visit https://errors.pydantic.dev/2.5/v/value_error\n"
     ]
    },
    {
     "name": "stderr",
     "output_type": "stream",
     "text": [
      "03/05/2024 05:06:25 PM - HTTP Request: POST https://api.openai.com/v1/chat/completions \"HTTP/1.1 200 OK\"\n",
      "03/05/2024 05:06:27 PM - HTTP Request: POST https://api.openai.com/v1/chat/completions \"HTTP/1.1 200 OK\"\n",
      " 66%|██████▌   | 437/666 [43:39<22:40,  5.94s/it]03/05/2024 05:06:29 PM - HTTP Request: POST https://api.openai.com/v1/chat/completions \"HTTP/1.1 200 OK\"\n",
      " 66%|██████▌   | 438/666 [43:41<17:53,  4.71s/it]03/05/2024 05:06:30 PM - HTTP Request: POST https://api.openai.com/v1/chat/completions \"HTTP/1.1 200 OK\"\n",
      " 66%|██████▌   | 439/666 [43:42<13:48,  3.65s/it]03/05/2024 05:06:32 PM - HTTP Request: POST https://api.openai.com/v1/chat/completions \"HTTP/1.1 200 OK\"\n",
      "03/05/2024 05:06:33 PM - HTTP Request: POST https://api.openai.com/v1/chat/completions \"HTTP/1.1 200 OK\"\n",
      " 66%|██████▌   | 440/666 [43:45<13:10,  3.50s/it]"
     ]
    },
    {
     "name": "stdout",
     "output_type": "stream",
     "text": [
      "Saved in DB 440 of 666\n"
     ]
    },
    {
     "name": "stderr",
     "output_type": "stream",
     "text": [
      "03/05/2024 05:06:41 PM - HTTP Request: POST https://api.openai.com/v1/chat/completions \"HTTP/1.1 200 OK\"\n",
      " 66%|██████▌   | 441/666 [43:54<18:17,  4.88s/it]03/05/2024 05:06:43 PM - HTTP Request: POST https://api.openai.com/v1/chat/completions \"HTTP/1.1 200 OK\"\n",
      "03/05/2024 05:06:44 PM - HTTP Request: POST https://api.openai.com/v1/chat/completions \"HTTP/1.1 200 OK\"\n",
      " 66%|██████▋   | 442/666 [43:56<15:27,  4.14s/it]03/05/2024 05:06:45 PM - HTTP Request: POST https://api.openai.com/v1/chat/completions \"HTTP/1.1 200 OK\"\n",
      " 67%|██████▋   | 443/666 [43:57<12:16,  3.30s/it]03/05/2024 05:06:47 PM - HTTP Request: POST https://api.openai.com/v1/chat/completions \"HTTP/1.1 200 OK\"\n",
      " 67%|██████▋   | 444/666 [43:59<10:44,  2.90s/it]03/05/2024 05:06:51 PM - HTTP Request: POST https://api.openai.com/v1/chat/completions \"HTTP/1.1 200 OK\"\n",
      "03/05/2024 05:06:54 PM - HTTP Request: POST https://api.openai.com/v1/chat/completions \"HTTP/1.1 200 OK\"\n",
      "03/05/2024 05:06:59 PM - HTTP Request: POST https://api.openai.com/v1/chat/completions \"HTTP/1.1 200 OK\"\n",
      " 67%|██████▋   | 445/666 [44:12<21:11,  5.75s/it]"
     ]
    },
    {
     "name": "stdout",
     "output_type": "stream",
     "text": [
      "Model error:\n",
      "1 validation error for ArticleSentiment\n",
      "sentiments.1.citations\n",
      "  Value error, Either both a score and citations are present            or neither are. [type=value_error, input_value=[], input_type=list]\n",
      "    For further information visit https://errors.pydantic.dev/2.5/v/value_error\n",
      "Saved in DB 445 of 666\n"
     ]
    },
    {
     "name": "stderr",
     "output_type": "stream",
     "text": [
      "03/05/2024 05:07:01 PM - HTTP Request: POST https://api.openai.com/v1/chat/completions \"HTTP/1.1 200 OK\"\n",
      " 67%|██████▋   | 446/666 [44:13<16:17,  4.44s/it]03/05/2024 05:07:13 PM - HTTP Request: POST https://api.openai.com/v1/chat/completions \"HTTP/1.1 200 OK\"\n",
      "03/05/2024 05:07:27 PM - HTTP Request: POST https://api.openai.com/v1/chat/completions \"HTTP/1.1 200 OK\"\n",
      "03/05/2024 05:07:37 PM - HTTP Request: POST https://api.openai.com/v1/chat/completions \"HTTP/1.1 200 OK\"\n",
      " 67%|██████▋   | 447/666 [44:50<51:23, 14.08s/it]"
     ]
    },
    {
     "name": "stdout",
     "output_type": "stream",
     "text": [
      "Model error:\n",
      "7 validation errors for ArticleSentiment\n",
      "sentiments.0.citations\n",
      "  Value error, Either both a score and citations are present            or neither are. [type=value_error, input_value=[{'quote': \"O presidente ...março'\", 'score': 0.8}], input_type=list]\n",
      "    For further information visit https://errors.pydantic.dev/2.5/v/value_error\n",
      "sentiments.1.citations.1.quote\n",
      "  Value error, Citation `Inês de Sousa Real said that PAN is 'available to ensure stability for there to be a budget for the Autonomous Region of Madeira', and 'has no fear of early elections'` not found in article_n_meta, match_ratio: 51.0 [type=value_error, input_value=\"Inês de Sousa Real said...ear of early elections'\", input_type=str]\n",
      "    For further information visit https://errors.pydantic.dev/2.5/v/value_error\n",
      "sentiments.1.citations.2.quote\n",
      "  Value error, Citation `The PAN spokesperson accused Chega of wanting to 'reach power at all costs' and 'be the government', considering that if this happens 'it endangers social rights'` not found in article_n_meta, match_ratio: 50.0 [type=value_error, input_value=\"The PAN spokesperson acc...ndangers social rights'\", input_type=str]\n",
      "    For further information visit https://errors.pydantic.dev/2.5/v/value_error\n",
      "sentiments.1.citations.3.quote\n",
      "  Value error, Citation `The PAN leader also said that in the last legislature, 'Chega voted more alongside the PS than the PAN'` not found in article_n_meta, match_ratio: 55.0 [type=value_error, input_value=\"The PAN leader also said...de the PS than the PAN'\", input_type=str]\n",
      "    For further information visit https://errors.pydantic.dev/2.5/v/value_error\n",
      "sentiments.1.citations.4.quote\n",
      "  Value error, Citation `The PAN's only deputy also accused Chega of incoherence 'that so much comes to proclaim issues of justice and morality, but then has people in its lists who have been charged'` not found in article_n_meta, match_ratio: 53.0 [type=value_error, input_value=\"The PAN's only deputy al... who have been charged'\", input_type=str]\n",
      "    For further information visit https://errors.pydantic.dev/2.5/v/value_error\n",
      "sentiments.1.citations.5.quote\n",
      "  Value error, Citation `When it comes to measures that both parties defend for the next legislature, the PAN also defended an increase in taxes for oil companies, pointing out that 'the m...` not found in article_n_meta, match_ratio: 50.07831325301205 [type=value_error, input_value=\"When it comes to measure...ting out that 'the m...\", input_type=str]\n",
      "    For further information visit https://errors.pydantic.dev/2.5/v/value_error\n",
      "sentiments.1.citations.5.score\n",
      "  Field required [type=missing, input_value={'quote': \"When it comes ...ing out that 'the m...\"}, input_type=dict]\n",
      "    For further information visit https://errors.pydantic.dev/2.5/v/missing\n"
     ]
    },
    {
     "name": "stderr",
     "output_type": "stream",
     "text": [
      "03/05/2024 05:07:38 PM - HTTP Request: POST https://api.openai.com/v1/chat/completions \"HTTP/1.1 200 OK\"\n",
      " 67%|██████▋   | 448/666 [44:50<36:40, 10.09s/it]03/05/2024 05:07:39 PM - HTTP Request: POST https://api.openai.com/v1/chat/completions \"HTTP/1.1 200 OK\"\n",
      " 67%|██████▋   | 449/666 [44:52<26:50,  7.42s/it]03/05/2024 05:07:41 PM - HTTP Request: POST https://api.openai.com/v1/chat/completions \"HTTP/1.1 200 OK\"\n",
      " 68%|██████▊   | 450/666 [44:53<20:05,  5.58s/it]"
     ]
    },
    {
     "name": "stdout",
     "output_type": "stream",
     "text": [
      "Saved in DB 450 of 666\n"
     ]
    },
    {
     "name": "stderr",
     "output_type": "stream",
     "text": [
      "03/05/2024 05:07:48 PM - HTTP Request: POST https://api.openai.com/v1/chat/completions \"HTTP/1.1 200 OK\"\n",
      " 68%|██████▊   | 451/666 [45:01<22:08,  6.18s/it]03/05/2024 05:07:50 PM - HTTP Request: POST https://api.openai.com/v1/chat/completions \"HTTP/1.1 200 OK\"\n",
      "03/05/2024 05:07:52 PM - HTTP Request: POST https://api.openai.com/v1/chat/completions \"HTTP/1.1 200 OK\"\n",
      "03/05/2024 05:07:54 PM - HTTP Request: POST https://api.openai.com/v1/chat/completions \"HTTP/1.1 200 OK\"\n",
      " 68%|██████▊   | 452/666 [45:07<22:07,  6.20s/it]03/05/2024 05:07:57 PM - HTTP Request: POST https://api.openai.com/v1/chat/completions \"HTTP/1.1 200 OK\"\n",
      " 68%|██████▊   | 453/666 [45:10<18:27,  5.20s/it]03/05/2024 05:08:09 PM - HTTP Request: POST https://api.openai.com/v1/chat/completions \"HTTP/1.1 200 OK\"\n",
      "03/05/2024 05:08:22 PM - HTTP Request: POST https://api.openai.com/v1/chat/completions \"HTTP/1.1 200 OK\"\n",
      "03/05/2024 05:08:32 PM - HTTP Request: POST https://api.openai.com/v1/chat/completions \"HTTP/1.1 200 OK\"\n",
      " 68%|██████▊   | 454/666 [45:44<49:21, 13.97s/it]"
     ]
    },
    {
     "name": "stdout",
     "output_type": "stream",
     "text": [
      "Model error:\n",
      "1 validation error for ArticleSentiment\n",
      "sentiments.1.citations\n",
      "  Value error, Either both a score and citations are present            or neither are. [type=value_error, input_value=[], input_type=list]\n",
      "    For further information visit https://errors.pydantic.dev/2.5/v/value_error\n"
     ]
    },
    {
     "name": "stderr",
     "output_type": "stream",
     "text": [
      "03/05/2024 05:08:34 PM - HTTP Request: POST https://api.openai.com/v1/chat/completions \"HTTP/1.1 200 OK\"\n",
      "03/05/2024 05:08:36 PM - HTTP Request: POST https://api.openai.com/v1/chat/completions \"HTTP/1.1 200 OK\"\n",
      "03/05/2024 05:08:38 PM - HTTP Request: POST https://api.openai.com/v1/chat/completions \"HTTP/1.1 200 OK\"\n",
      " 68%|██████▊   | 455/666 [45:50<41:04, 11.68s/it]"
     ]
    },
    {
     "name": "stdout",
     "output_type": "stream",
     "text": [
      "Model error:\n",
      "1 validation error for ArticleSentiment\n",
      "sentiments.0.citations\n",
      "  Value error, Either both a score and citations are present            or neither are. [type=value_error, input_value=[{'quote': 'Pedro Nuno Sa...feito\".', 'score': 0.5}], input_type=list]\n",
      "    For further information visit https://errors.pydantic.dev/2.5/v/value_error\n",
      "Saved in DB 455 of 666\n"
     ]
    },
    {
     "name": "stderr",
     "output_type": "stream",
     "text": [
      "03/05/2024 05:08:41 PM - HTTP Request: POST https://api.openai.com/v1/chat/completions \"HTTP/1.1 200 OK\"\n",
      " 68%|██████▊   | 456/666 [45:54<32:17,  9.22s/it]03/05/2024 05:08:43 PM - HTTP Request: POST https://api.openai.com/v1/chat/completions \"HTTP/1.1 200 OK\"\n",
      "03/05/2024 05:08:45 PM - HTTP Request: POST https://api.openai.com/v1/chat/completions \"HTTP/1.1 200 OK\"\n",
      "03/05/2024 05:08:47 PM - HTTP Request: POST https://api.openai.com/v1/chat/completions \"HTTP/1.1 200 OK\"\n",
      " 69%|██████▊   | 457/666 [45:59<27:54,  8.01s/it]"
     ]
    },
    {
     "name": "stdout",
     "output_type": "stream",
     "text": [
      "Model error:\n",
      "1 validation error for ArticleSentiment\n",
      "sentiments.0.citations\n",
      "  Value error, Either both a score and citations are present            or neither are. [type=value_error, input_value=[{'quote': 'Cheguei ao ma...e dizia', 'score': 0.0}], input_type=list]\n",
      "    For further information visit https://errors.pydantic.dev/2.5/v/value_error\n"
     ]
    },
    {
     "name": "stderr",
     "output_type": "stream",
     "text": [
      "03/05/2024 05:08:48 PM - HTTP Request: POST https://api.openai.com/v1/chat/completions \"HTTP/1.1 200 OK\"\n",
      "03/05/2024 05:08:49 PM - HTTP Request: POST https://api.openai.com/v1/chat/completions \"HTTP/1.1 200 OK\"\n",
      " 69%|██████▉   | 458/666 [46:01<21:54,  6.32s/it]03/05/2024 05:08:50 PM - HTTP Request: POST https://api.openai.com/v1/chat/completions \"HTTP/1.1 200 OK\"\n",
      "03/05/2024 05:08:51 PM - HTTP Request: POST https://api.openai.com/v1/chat/completions \"HTTP/1.1 200 OK\"\n",
      " 69%|██████▉   | 459/666 [46:04<17:35,  5.10s/it]03/05/2024 05:08:58 PM - HTTP Request: POST https://api.openai.com/v1/chat/completions \"HTTP/1.1 200 OK\"\n",
      " 69%|██████▉   | 460/666 [46:11<19:32,  5.69s/it]"
     ]
    },
    {
     "name": "stdout",
     "output_type": "stream",
     "text": [
      "Saved in DB 460 of 666\n"
     ]
    },
    {
     "name": "stderr",
     "output_type": "stream",
     "text": [
      "03/05/2024 05:09:00 PM - HTTP Request: POST https://api.openai.com/v1/chat/completions \"HTTP/1.1 200 OK\"\n",
      " 69%|██████▉   | 461/666 [46:13<15:30,  4.54s/it]03/05/2024 05:09:01 PM - HTTP Request: POST https://api.openai.com/v1/chat/completions \"HTTP/1.1 200 OK\"\n",
      " 69%|██████▉   | 462/666 [46:14<11:52,  3.49s/it]03/05/2024 05:09:03 PM - HTTP Request: POST https://api.openai.com/v1/chat/completions \"HTTP/1.1 200 OK\"\n",
      "03/05/2024 05:09:04 PM - HTTP Request: POST https://api.openai.com/v1/chat/completions \"HTTP/1.1 200 OK\"\n",
      " 70%|██████▉   | 463/666 [46:16<10:57,  3.24s/it]03/05/2024 05:09:07 PM - HTTP Request: POST https://api.openai.com/v1/chat/completions \"HTTP/1.1 200 OK\"\n",
      " 70%|██████▉   | 464/666 [46:19<10:36,  3.15s/it]03/05/2024 05:09:10 PM - HTTP Request: POST https://api.openai.com/v1/chat/completions \"HTTP/1.1 200 OK\"\n",
      "03/05/2024 05:09:13 PM - HTTP Request: POST https://api.openai.com/v1/chat/completions \"HTTP/1.1 200 OK\"\n",
      " 70%|██████▉   | 465/666 [46:25<13:15,  3.96s/it]"
     ]
    },
    {
     "name": "stdout",
     "output_type": "stream",
     "text": [
      "Saved in DB 465 of 666\n"
     ]
    },
    {
     "name": "stderr",
     "output_type": "stream",
     "text": [
      "03/05/2024 05:09:14 PM - HTTP Request: POST https://api.openai.com/v1/chat/completions \"HTTP/1.1 200 OK\"\n",
      "03/05/2024 05:09:16 PM - HTTP Request: POST https://api.openai.com/v1/chat/completions \"HTTP/1.1 200 OK\"\n",
      " 70%|██████▉   | 466/666 [46:28<12:18,  3.69s/it]03/05/2024 05:09:17 PM - HTTP Request: POST https://api.openai.com/v1/chat/completions \"HTTP/1.1 200 OK\"\n",
      " 70%|███████   | 467/666 [46:29<09:25,  2.84s/it]03/05/2024 05:09:20 PM - HTTP Request: POST https://api.openai.com/v1/chat/completions \"HTTP/1.1 200 OK\"\n",
      " 70%|███████   | 468/666 [46:32<09:33,  2.89s/it]03/05/2024 05:09:23 PM - HTTP Request: POST https://api.openai.com/v1/chat/completions \"HTTP/1.1 200 OK\"\n",
      " 70%|███████   | 469/666 [46:35<09:32,  2.91s/it]03/05/2024 05:09:24 PM - HTTP Request: POST https://api.openai.com/v1/chat/completions \"HTTP/1.1 200 OK\"\n",
      " 71%|███████   | 470/666 [46:37<08:29,  2.60s/it]"
     ]
    },
    {
     "name": "stdout",
     "output_type": "stream",
     "text": [
      "Saved in DB 470 of 666\n"
     ]
    },
    {
     "name": "stderr",
     "output_type": "stream",
     "text": [
      "03/05/2024 05:09:26 PM - HTTP Request: POST https://api.openai.com/v1/chat/completions \"HTTP/1.1 200 OK\"\n",
      " 71%|███████   | 471/666 [46:39<07:54,  2.43s/it]03/05/2024 05:09:28 PM - HTTP Request: POST https://api.openai.com/v1/chat/completions \"HTTP/1.1 200 OK\"\n",
      " 71%|███████   | 472/666 [46:40<06:41,  2.07s/it]03/05/2024 05:09:30 PM - HTTP Request: POST https://api.openai.com/v1/chat/completions \"HTTP/1.1 200 OK\"\n",
      " 71%|███████   | 473/666 [46:42<06:48,  2.12s/it]03/05/2024 05:09:32 PM - HTTP Request: POST https://api.openai.com/v1/chat/completions \"HTTP/1.1 200 OK\"\n",
      " 71%|███████   | 474/666 [46:44<06:24,  2.00s/it]03/05/2024 05:09:33 PM - HTTP Request: POST https://api.openai.com/v1/chat/completions \"HTTP/1.1 200 OK\"\n",
      " 71%|███████▏  | 475/666 [46:45<05:19,  1.67s/it]"
     ]
    },
    {
     "name": "stdout",
     "output_type": "stream",
     "text": [
      "Saved in DB 475 of 666\n"
     ]
    },
    {
     "name": "stderr",
     "output_type": "stream",
     "text": [
      "03/05/2024 05:09:36 PM - HTTP Request: POST https://api.openai.com/v1/chat/completions \"HTTP/1.1 200 OK\"\n",
      " 71%|███████▏  | 476/666 [46:49<07:04,  2.23s/it]03/05/2024 05:09:37 PM - HTTP Request: POST https://api.openai.com/v1/chat/completions \"HTTP/1.1 200 OK\"\n",
      " 72%|███████▏  | 477/666 [46:50<06:00,  1.91s/it]03/05/2024 05:09:41 PM - HTTP Request: POST https://api.openai.com/v1/chat/completions \"HTTP/1.1 200 OK\"\n",
      "03/05/2024 05:09:44 PM - HTTP Request: POST https://api.openai.com/v1/chat/completions \"HTTP/1.1 200 OK\"\n",
      "03/05/2024 05:09:46 PM - HTTP Request: POST https://api.openai.com/v1/chat/completions \"HTTP/1.1 200 OK\"\n",
      " 72%|███████▏  | 478/666 [46:59<12:28,  3.98s/it]"
     ]
    },
    {
     "name": "stdout",
     "output_type": "stream",
     "text": [
      "Model error:\n",
      "1 validation error for ArticleSentiment\n",
      "sentiments.0.citations\n",
      "  Value error, Either both a score and citations are present            or neither are. [type=value_error, input_value=[], input_type=list]\n",
      "    For further information visit https://errors.pydantic.dev/2.5/v/value_error\n"
     ]
    },
    {
     "name": "stderr",
     "output_type": "stream",
     "text": [
      "03/05/2024 05:09:50 PM - HTTP Request: POST https://api.openai.com/v1/chat/completions \"HTTP/1.1 200 OK\"\n",
      "03/05/2024 05:09:53 PM - HTTP Request: POST https://api.openai.com/v1/chat/completions \"HTTP/1.1 200 OK\"\n",
      "03/05/2024 05:09:56 PM - HTTP Request: POST https://api.openai.com/v1/chat/completions \"HTTP/1.1 200 OK\"\n",
      " 72%|███████▏  | 479/666 [47:08<17:30,  5.62s/it]"
     ]
    },
    {
     "name": "stdout",
     "output_type": "stream",
     "text": [
      "Model error:\n",
      "2 validation errors for ArticleSentiment\n",
      "sentiments.0.citations\n",
      "  Value error, Either both a score and citations are present            or neither are. [type=value_error, input_value=[], input_type=list]\n",
      "    For further information visit https://errors.pydantic.dev/2.5/v/value_error\n",
      "sentiments.1.citations\n",
      "  Value error, Either both a score and citations are present            or neither are. [type=value_error, input_value=[{'quote': 'A líder do P...ticos.\", 'score': 0.2}], input_type=list]\n",
      "    For further information visit https://errors.pydantic.dev/2.5/v/value_error\n"
     ]
    },
    {
     "name": "stderr",
     "output_type": "stream",
     "text": [
      "03/05/2024 05:10:01 PM - HTTP Request: POST https://api.openai.com/v1/chat/completions \"HTTP/1.1 200 OK\"\n",
      " 72%|███████▏  | 480/666 [47:14<17:42,  5.71s/it]"
     ]
    },
    {
     "name": "stdout",
     "output_type": "stream",
     "text": [
      "Saved in DB 480 of 666\n"
     ]
    },
    {
     "name": "stderr",
     "output_type": "stream",
     "text": [
      "03/05/2024 05:10:03 PM - HTTP Request: POST https://api.openai.com/v1/chat/completions \"HTTP/1.1 200 OK\"\n",
      "03/05/2024 05:10:05 PM - HTTP Request: POST https://api.openai.com/v1/chat/completions \"HTTP/1.1 200 OK\"\n",
      "03/05/2024 05:10:07 PM - HTTP Request: POST https://api.openai.com/v1/chat/completions \"HTTP/1.1 200 OK\"\n",
      " 72%|███████▏  | 481/666 [47:19<17:28,  5.67s/it]"
     ]
    },
    {
     "name": "stdout",
     "output_type": "stream",
     "text": [
      "Model error:\n",
      "1 validation error for ArticleSentiment\n",
      "sentiments.3.name\n",
      "  Value error, Citation `Rui Rocha` not found in article_n_meta [type=value_error, input_value='Rui Rocha', input_type=str]\n",
      "    For further information visit https://errors.pydantic.dev/2.5/v/value_error\n"
     ]
    },
    {
     "name": "stderr",
     "output_type": "stream",
     "text": [
      "03/05/2024 05:10:08 PM - HTTP Request: POST https://api.openai.com/v1/chat/completions \"HTTP/1.1 200 OK\"\n",
      " 72%|███████▏  | 482/666 [47:20<13:07,  4.28s/it]03/05/2024 05:10:11 PM - HTTP Request: POST https://api.openai.com/v1/chat/completions \"HTTP/1.1 200 OK\"\n",
      "03/05/2024 05:10:12 PM - HTTP Request: POST https://api.openai.com/v1/chat/completions \"HTTP/1.1 200 OK\"\n",
      "03/05/2024 05:10:13 PM - HTTP Request: POST https://api.openai.com/v1/chat/completions \"HTTP/1.1 200 OK\"\n",
      " 73%|███████▎  | 483/666 [47:25<13:15,  4.35s/it]"
     ]
    },
    {
     "name": "stdout",
     "output_type": "stream",
     "text": [
      "Model error:\n",
      "1 validation error for ArticleSentiment\n",
      "sentiments.0.citations\n",
      "  Value error, Either both a score and citations are present            or neither are. [type=value_error, input_value=[], input_type=list]\n",
      "    For further information visit https://errors.pydantic.dev/2.5/v/value_error\n"
     ]
    },
    {
     "name": "stderr",
     "output_type": "stream",
     "text": [
      "03/05/2024 05:10:14 PM - HTTP Request: POST https://api.openai.com/v1/chat/completions \"HTTP/1.1 200 OK\"\n",
      " 73%|███████▎  | 484/666 [47:26<10:19,  3.41s/it]03/05/2024 05:10:16 PM - HTTP Request: POST https://api.openai.com/v1/chat/completions \"HTTP/1.1 200 OK\"\n",
      " 73%|███████▎  | 485/666 [47:28<09:15,  3.07s/it]"
     ]
    },
    {
     "name": "stdout",
     "output_type": "stream",
     "text": [
      "Saved in DB 485 of 666\n"
     ]
    },
    {
     "name": "stderr",
     "output_type": "stream",
     "text": [
      "03/05/2024 05:10:23 PM - HTTP Request: POST https://api.openai.com/v1/chat/completions \"HTTP/1.1 200 OK\"\n",
      "03/05/2024 05:10:31 PM - HTTP Request: POST https://api.openai.com/v1/chat/completions \"HTTP/1.1 200 OK\"\n",
      "03/05/2024 05:10:38 PM - HTTP Request: POST https://api.openai.com/v1/chat/completions \"HTTP/1.1 200 OK\"\n",
      " 73%|███████▎  | 486/666 [47:50<26:10,  8.72s/it]"
     ]
    },
    {
     "name": "stdout",
     "output_type": "stream",
     "text": [
      "Model error:\n",
      "1 validation error for ArticleSentiment\n",
      "sentiments.0.citations\n",
      "  Value error, Either both a score and citations are present            or neither are. [type=value_error, input_value=[{'quote': 'Sabemos que o...ouradas', 'score': 0.9}], input_type=list]\n",
      "    For further information visit https://errors.pydantic.dev/2.5/v/value_error\n"
     ]
    },
    {
     "name": "stderr",
     "output_type": "stream",
     "text": [
      "03/05/2024 05:10:42 PM - HTTP Request: POST https://api.openai.com/v1/chat/completions \"HTTP/1.1 200 OK\"\n",
      " 73%|███████▎  | 487/666 [47:55<21:56,  7.35s/it]03/05/2024 05:10:43 PM - HTTP Request: POST https://api.openai.com/v1/chat/completions \"HTTP/1.1 200 OK\"\n",
      " 73%|███████▎  | 488/666 [47:56<16:07,  5.44s/it]03/05/2024 05:10:49 PM - HTTP Request: POST https://api.openai.com/v1/chat/completions \"HTTP/1.1 200 OK\"\n",
      " 73%|███████▎  | 489/666 [48:01<16:02,  5.44s/it]03/05/2024 05:10:56 PM - HTTP Request: POST https://api.openai.com/v1/chat/completions \"HTTP/1.1 200 OK\"\n",
      " 74%|███████▎  | 490/666 [48:09<18:08,  6.18s/it]"
     ]
    },
    {
     "name": "stdout",
     "output_type": "stream",
     "text": [
      "Saved in DB 490 of 666\n"
     ]
    },
    {
     "name": "stderr",
     "output_type": "stream",
     "text": [
      "03/05/2024 05:10:57 PM - HTTP Request: POST https://api.openai.com/v1/chat/completions \"HTTP/1.1 200 OK\"\n",
      " 74%|███████▎  | 491/666 [48:10<13:17,  4.56s/it]03/05/2024 05:10:59 PM - HTTP Request: POST https://api.openai.com/v1/chat/completions \"HTTP/1.1 200 OK\"\n",
      "03/05/2024 05:11:01 PM - HTTP Request: POST https://api.openai.com/v1/chat/completions \"HTTP/1.1 200 OK\"\n",
      "03/05/2024 05:11:02 PM - HTTP Request: POST https://api.openai.com/v1/chat/completions \"HTTP/1.1 200 OK\"\n",
      " 74%|███████▍  | 492/666 [48:15<13:35,  4.68s/it]03/05/2024 05:11:03 PM - HTTP Request: POST https://api.openai.com/v1/chat/completions \"HTTP/1.1 200 OK\"\n",
      " 74%|███████▍  | 493/666 [48:16<10:28,  3.63s/it]03/05/2024 05:11:05 PM - HTTP Request: POST https://api.openai.com/v1/chat/completions \"HTTP/1.1 200 OK\"\n",
      " 74%|███████▍  | 494/666 [48:18<08:48,  3.07s/it]03/05/2024 05:11:10 PM - HTTP Request: POST https://api.openai.com/v1/chat/completions \"HTTP/1.1 200 OK\"\n",
      " 74%|███████▍  | 495/666 [48:23<10:42,  3.75s/it]"
     ]
    },
    {
     "name": "stdout",
     "output_type": "stream",
     "text": [
      "Saved in DB 495 of 666\n"
     ]
    },
    {
     "name": "stderr",
     "output_type": "stream",
     "text": [
      "03/05/2024 05:11:12 PM - HTTP Request: POST https://api.openai.com/v1/chat/completions \"HTTP/1.1 200 OK\"\n",
      "03/05/2024 05:11:14 PM - HTTP Request: POST https://api.openai.com/v1/chat/completions \"HTTP/1.1 200 OK\"\n",
      " 74%|███████▍  | 496/666 [48:26<10:21,  3.66s/it]03/05/2024 05:11:18 PM - HTTP Request: POST https://api.openai.com/v1/chat/completions \"HTTP/1.1 200 OK\"\n",
      " 75%|███████▍  | 497/666 [48:30<10:25,  3.70s/it]03/05/2024 05:11:19 PM - HTTP Request: POST https://api.openai.com/v1/chat/completions \"HTTP/1.1 200 OK\"\n",
      " 75%|███████▍  | 498/666 [48:31<08:05,  2.89s/it]03/05/2024 05:11:24 PM - HTTP Request: POST https://api.openai.com/v1/chat/completions \"HTTP/1.1 200 OK\"\n",
      "03/05/2024 05:11:28 PM - HTTP Request: POST https://api.openai.com/v1/chat/completions \"HTTP/1.1 200 OK\"\n",
      "03/05/2024 05:11:33 PM - HTTP Request: POST https://api.openai.com/v1/chat/completions \"HTTP/1.1 200 OK\"\n",
      " 75%|███████▍  | 499/666 [48:45<17:33,  6.31s/it]"
     ]
    },
    {
     "name": "stdout",
     "output_type": "stream",
     "text": [
      "Model error:\n",
      "1 validation error for ArticleSentiment\n",
      "sentiments.3.name\n",
      "  Value error, Citation `Rui Rocha` not found in article_n_meta [type=value_error, input_value='Rui Rocha', input_type=str]\n",
      "    For further information visit https://errors.pydantic.dev/2.5/v/value_error\n"
     ]
    },
    {
     "name": "stderr",
     "output_type": "stream",
     "text": [
      "03/05/2024 05:11:43 PM - HTTP Request: POST https://api.openai.com/v1/chat/completions \"HTTP/1.1 200 OK\"\n",
      " 75%|███████▌  | 500/666 [48:55<20:12,  7.30s/it]"
     ]
    },
    {
     "name": "stdout",
     "output_type": "stream",
     "text": [
      "Saved in DB 500 of 666\n"
     ]
    },
    {
     "name": "stderr",
     "output_type": "stream",
     "text": [
      "03/05/2024 05:11:46 PM - HTTP Request: POST https://api.openai.com/v1/chat/completions \"HTTP/1.1 200 OK\"\n",
      " 75%|███████▌  | 501/666 [48:59<17:14,  6.27s/it]03/05/2024 05:11:48 PM - HTTP Request: POST https://api.openai.com/v1/chat/completions \"HTTP/1.1 200 OK\"\n",
      " 75%|███████▌  | 502/666 [49:01<13:19,  4.87s/it]03/05/2024 05:11:53 PM - HTTP Request: POST https://api.openai.com/v1/chat/completions \"HTTP/1.1 200 OK\"\n",
      " 76%|███████▌  | 503/666 [49:05<12:56,  4.76s/it]03/05/2024 05:11:55 PM - HTTP Request: POST https://api.openai.com/v1/chat/completions \"HTTP/1.1 200 OK\"\n",
      " 76%|███████▌  | 504/666 [49:07<10:45,  3.98s/it]03/05/2024 05:11:57 PM - HTTP Request: POST https://api.openai.com/v1/chat/completions \"HTTP/1.1 200 OK\"\n",
      " 76%|███████▌  | 505/666 [49:09<09:11,  3.42s/it]"
     ]
    },
    {
     "name": "stdout",
     "output_type": "stream",
     "text": [
      "Saved in DB 505 of 666\n"
     ]
    },
    {
     "name": "stderr",
     "output_type": "stream",
     "text": [
      "03/05/2024 05:12:01 PM - HTTP Request: POST https://api.openai.com/v1/chat/completions \"HTTP/1.1 200 OK\"\n",
      " 76%|███████▌  | 506/666 [49:14<09:55,  3.72s/it]03/05/2024 05:12:03 PM - HTTP Request: POST https://api.openai.com/v1/chat/completions \"HTTP/1.1 200 OK\"\n",
      " 76%|███████▌  | 507/666 [49:15<07:52,  2.97s/it]03/05/2024 05:12:12 PM - HTTP Request: POST https://api.openai.com/v1/chat/completions \"HTTP/1.1 200 OK\"\n",
      " 76%|███████▋  | 508/666 [49:25<13:05,  4.97s/it]03/05/2024 05:12:13 PM - HTTP Request: POST https://api.openai.com/v1/chat/completions \"HTTP/1.1 200 OK\"\n",
      " 76%|███████▋  | 509/666 [49:26<09:49,  3.75s/it]03/05/2024 05:12:15 PM - HTTP Request: POST https://api.openai.com/v1/chat/completions \"HTTP/1.1 200 OK\"\n",
      " 77%|███████▋  | 510/666 [49:27<08:13,  3.16s/it]"
     ]
    },
    {
     "name": "stdout",
     "output_type": "stream",
     "text": [
      "Saved in DB 510 of 666\n"
     ]
    },
    {
     "name": "stderr",
     "output_type": "stream",
     "text": [
      "03/05/2024 05:12:17 PM - HTTP Request: POST https://api.openai.com/v1/chat/completions \"HTTP/1.1 200 OK\"\n",
      " 77%|███████▋  | 511/666 [49:29<07:08,  2.76s/it]03/05/2024 05:12:19 PM - HTTP Request: POST https://api.openai.com/v1/chat/completions \"HTTP/1.1 200 OK\"\n",
      " 77%|███████▋  | 512/666 [49:32<07:02,  2.74s/it]03/05/2024 05:12:22 PM - HTTP Request: POST https://api.openai.com/v1/chat/completions \"HTTP/1.1 200 OK\"\n",
      " 77%|███████▋  | 513/666 [49:35<07:00,  2.75s/it]03/05/2024 05:12:28 PM - HTTP Request: POST https://api.openai.com/v1/chat/completions \"HTTP/1.1 200 OK\"\n",
      " 77%|███████▋  | 514/666 [49:41<09:35,  3.79s/it]03/05/2024 05:12:31 PM - HTTP Request: POST https://api.openai.com/v1/chat/completions \"HTTP/1.1 200 OK\"\n",
      " 77%|███████▋  | 515/666 [49:43<08:38,  3.43s/it]"
     ]
    },
    {
     "name": "stdout",
     "output_type": "stream",
     "text": [
      "Saved in DB 515 of 666\n"
     ]
    },
    {
     "name": "stderr",
     "output_type": "stream",
     "text": [
      "03/05/2024 05:12:34 PM - HTTP Request: POST https://api.openai.com/v1/chat/completions \"HTTP/1.1 200 OK\"\n",
      " 77%|███████▋  | 516/666 [49:46<08:07,  3.25s/it]03/05/2024 05:12:36 PM - HTTP Request: POST https://api.openai.com/v1/chat/completions \"HTTP/1.1 200 OK\"\n",
      " 78%|███████▊  | 517/666 [49:48<07:18,  2.94s/it]03/05/2024 05:12:39 PM - HTTP Request: POST https://api.openai.com/v1/chat/completions \"HTTP/1.1 200 OK\"\n",
      " 78%|███████▊  | 518/666 [49:51<07:10,  2.91s/it]03/05/2024 05:12:47 PM - HTTP Request: POST https://api.openai.com/v1/chat/completions \"HTTP/1.1 200 OK\"\n",
      "03/05/2024 05:12:52 PM - HTTP Request: POST https://api.openai.com/v1/chat/completions \"HTTP/1.1 200 OK\"\n",
      "03/05/2024 05:12:57 PM - HTTP Request: POST https://api.openai.com/v1/chat/completions \"HTTP/1.1 200 OK\"\n",
      " 78%|███████▊  | 519/666 [50:09<18:01,  7.36s/it]"
     ]
    },
    {
     "name": "stdout",
     "output_type": "stream",
     "text": [
      "Model error:\n",
      "2 validation errors for ArticleSentiment\n",
      "sentiments.1.citations\n",
      "  Value error, Either both a score and citations are present            or neither are. [type=value_error, input_value=[], input_type=list]\n",
      "    For further information visit https://errors.pydantic.dev/2.5/v/value_error\n",
      "sentiments.2.citations\n",
      "  Value error, Either both a score and citations are present            or neither are. [type=value_error, input_value=[], input_type=list]\n",
      "    For further information visit https://errors.pydantic.dev/2.5/v/value_error\n"
     ]
    },
    {
     "name": "stderr",
     "output_type": "stream",
     "text": [
      "03/05/2024 05:13:00 PM - HTTP Request: POST https://api.openai.com/v1/chat/completions \"HTTP/1.1 200 OK\"\n",
      " 78%|███████▊  | 520/666 [50:12<14:49,  6.10s/it]"
     ]
    },
    {
     "name": "stdout",
     "output_type": "stream",
     "text": [
      "Saved in DB 520 of 666\n"
     ]
    },
    {
     "name": "stderr",
     "output_type": "stream",
     "text": [
      "03/05/2024 05:13:02 PM - HTTP Request: POST https://api.openai.com/v1/chat/completions \"HTTP/1.1 200 OK\"\n",
      " 78%|███████▊  | 521/666 [50:14<11:37,  4.81s/it]03/05/2024 05:13:07 PM - HTTP Request: POST https://api.openai.com/v1/chat/completions \"HTTP/1.1 200 OK\"\n",
      "03/05/2024 05:13:12 PM - HTTP Request: POST https://api.openai.com/v1/chat/completions \"HTTP/1.1 200 OK\"\n",
      "03/05/2024 05:13:17 PM - HTTP Request: POST https://api.openai.com/v1/chat/completions \"HTTP/1.1 200 OK\"\n",
      " 78%|███████▊  | 522/666 [50:30<19:23,  8.08s/it]"
     ]
    },
    {
     "name": "stdout",
     "output_type": "stream",
     "text": [
      "Model error:\n",
      "1 validation error for ArticleSentiment\n",
      "sentiments.1.citations.0.score\n",
      "  Field required [type=missing, input_value={'quote': 'Quem assistiu ...ter ganhos políticos.'}, input_type=dict]\n",
      "    For further information visit https://errors.pydantic.dev/2.5/v/missing\n"
     ]
    },
    {
     "name": "stderr",
     "output_type": "stream",
     "text": [
      "03/05/2024 05:13:23 PM - HTTP Request: POST https://api.openai.com/v1/chat/completions \"HTTP/1.1 200 OK\"\n",
      "03/05/2024 05:13:32 PM - HTTP Request: POST https://api.openai.com/v1/chat/completions \"HTTP/1.1 200 OK\"\n",
      " 79%|███████▊  | 523/666 [50:45<24:18, 10.20s/it]03/05/2024 05:13:34 PM - HTTP Request: POST https://api.openai.com/v1/chat/completions \"HTTP/1.1 200 OK\"\n",
      "03/05/2024 05:13:35 PM - HTTP Request: POST https://api.openai.com/v1/chat/completions \"HTTP/1.1 200 OK\"\n",
      " 79%|███████▊  | 524/666 [50:48<18:56,  8.00s/it]03/05/2024 05:13:36 PM - HTTP Request: POST https://api.openai.com/v1/chat/completions \"HTTP/1.1 200 OK\"\n",
      "03/05/2024 05:13:43 PM - HTTP Request: POST https://api.openai.com/v1/chat/completions \"HTTP/1.1 200 OK\"\n",
      "03/05/2024 05:13:44 PM - HTTP Request: POST https://api.openai.com/v1/chat/completions \"HTTP/1.1 200 OK\"\n",
      " 79%|███████▉  | 525/666 [50:57<19:29,  8.29s/it]"
     ]
    },
    {
     "name": "stdout",
     "output_type": "stream",
     "text": [
      "Model error:\n",
      "1 validation error for ArticleSentiment\n",
      "sentiments.2.name\n",
      "  Value error, Citation `Bernie` not found in article_n_meta [type=value_error, input_value='Bernie', input_type=str]\n",
      "    For further information visit https://errors.pydantic.dev/2.5/v/value_error\n",
      "Saved in DB 525 of 666\n"
     ]
    },
    {
     "name": "stderr",
     "output_type": "stream",
     "text": [
      "03/05/2024 05:13:51 PM - HTTP Request: POST https://api.openai.com/v1/chat/completions \"HTTP/1.1 200 OK\"\n",
      "03/05/2024 05:13:57 PM - HTTP Request: POST https://api.openai.com/v1/chat/completions \"HTTP/1.1 200 OK\"\n",
      "03/05/2024 05:14:03 PM - HTTP Request: POST https://api.openai.com/v1/chat/completions \"HTTP/1.1 200 OK\"\n",
      " 79%|███████▉  | 526/666 [51:16<26:54, 11.53s/it]"
     ]
    },
    {
     "name": "stdout",
     "output_type": "stream",
     "text": [
      "Model error:\n",
      "1 validation error for ArticleSentiment\n",
      "sentiments.1.citations\n",
      "  Field required [type=missing, input_value={'name': 'André Ventura', 'score': 0}, input_type=dict]\n",
      "    For further information visit https://errors.pydantic.dev/2.5/v/missing\n"
     ]
    },
    {
     "name": "stderr",
     "output_type": "stream",
     "text": [
      "03/05/2024 05:14:04 PM - HTTP Request: POST https://api.openai.com/v1/chat/completions \"HTTP/1.1 200 OK\"\n",
      " 79%|███████▉  | 527/666 [51:17<19:19,  8.34s/it]03/05/2024 05:14:09 PM - HTTP Request: POST https://api.openai.com/v1/chat/completions \"HTTP/1.1 200 OK\"\n",
      " 79%|███████▉  | 528/666 [51:21<16:40,  7.25s/it]03/05/2024 05:14:13 PM - HTTP Request: POST https://api.openai.com/v1/chat/completions \"HTTP/1.1 200 OK\"\n",
      " 79%|███████▉  | 529/666 [51:25<14:01,  6.14s/it]03/05/2024 05:14:16 PM - HTTP Request: POST https://api.openai.com/v1/chat/completions \"HTTP/1.1 200 OK\"\n",
      "03/05/2024 05:14:20 PM - HTTP Request: POST https://api.openai.com/v1/chat/completions \"HTTP/1.1 200 OK\"\n",
      "03/05/2024 05:14:24 PM - HTTP Request: POST https://api.openai.com/v1/chat/completions \"HTTP/1.1 200 OK\"\n",
      " 80%|███████▉  | 530/666 [51:36<17:33,  7.75s/it]"
     ]
    },
    {
     "name": "stdout",
     "output_type": "stream",
     "text": [
      "Model error:\n",
      "1 validation error for ArticleSentiment\n",
      "sentiments.0.citations\n",
      "  Value error, Either both a score and citations are present            or neither are. [type=value_error, input_value=[{'quote': \"Rui Rocha dev..., 'author': 'Expresso'}], input_type=list]\n",
      "    For further information visit https://errors.pydantic.dev/2.5/v/value_error\n",
      "Saved in DB 530 of 666\n"
     ]
    },
    {
     "name": "stderr",
     "output_type": "stream",
     "text": [
      "03/05/2024 05:14:28 PM - HTTP Request: POST https://api.openai.com/v1/chat/completions \"HTTP/1.1 200 OK\"\n",
      " 80%|███████▉  | 531/666 [51:40<14:36,  6.49s/it]03/05/2024 05:14:32 PM - HTTP Request: POST https://api.openai.com/v1/chat/completions \"HTTP/1.1 200 OK\"\n",
      "03/05/2024 05:14:38 PM - HTTP Request: POST https://api.openai.com/v1/chat/completions \"HTTP/1.1 200 OK\"\n",
      "03/05/2024 05:14:42 PM - HTTP Request: POST https://api.openai.com/v1/chat/completions \"HTTP/1.1 200 OK\"\n",
      " 80%|███████▉  | 532/666 [51:55<20:06,  9.00s/it]"
     ]
    },
    {
     "name": "stdout",
     "output_type": "stream",
     "text": [
      "Model error:\n",
      "2 validation errors for ArticleSentiment\n",
      "sentiments.0.citations\n",
      "  Value error, Either both a score and citations are present            or neither are. [type=value_error, input_value=[{'quote': 'Creio que Por...tégica\", 'score': 0.9}], input_type=list]\n",
      "    For further information visit https://errors.pydantic.dev/2.5/v/value_error\n",
      "sentiments.1.name\n",
      "  Value error, Citation `Some Politician` not found in article_n_meta [type=value_error, input_value='Some Politician', input_type=str]\n",
      "    For further information visit https://errors.pydantic.dev/2.5/v/value_error\n"
     ]
    },
    {
     "name": "stderr",
     "output_type": "stream",
     "text": [
      "03/05/2024 05:14:47 PM - HTTP Request: POST https://api.openai.com/v1/chat/completions \"HTTP/1.1 200 OK\"\n",
      "03/05/2024 05:14:53 PM - HTTP Request: POST https://api.openai.com/v1/chat/completions \"HTTP/1.1 200 OK\"\n",
      "03/05/2024 05:14:58 PM - HTTP Request: POST https://api.openai.com/v1/chat/completions \"HTTP/1.1 200 OK\"\n",
      " 80%|████████  | 533/666 [52:11<24:35, 11.09s/it]"
     ]
    },
    {
     "name": "stdout",
     "output_type": "stream",
     "text": [
      "Model error:\n",
      "1 validation error for ArticleSentiment\n",
      "sentiments.0.citations\n",
      "  Value error, Either both a score and citations are present            or neither are. [type=value_error, input_value=[], input_type=list]\n",
      "    For further information visit https://errors.pydantic.dev/2.5/v/value_error\n"
     ]
    },
    {
     "name": "stderr",
     "output_type": "stream",
     "text": [
      "03/05/2024 05:15:04 PM - HTTP Request: POST https://api.openai.com/v1/chat/completions \"HTTP/1.1 200 OK\"\n",
      "03/05/2024 05:15:10 PM - HTTP Request: POST https://api.openai.com/v1/chat/completions \"HTTP/1.1 200 OK\"\n",
      "03/05/2024 05:15:15 PM - HTTP Request: POST https://api.openai.com/v1/chat/completions \"HTTP/1.1 200 OK\"\n",
      " 80%|████████  | 534/666 [52:28<28:22, 12.90s/it]"
     ]
    },
    {
     "name": "stdout",
     "output_type": "stream",
     "text": [
      "Model error:\n",
      "1 validation error for ArticleSentiment\n",
      "sentiments.1.citations\n",
      "  Value error, Either both a score and citations are present            or neither are. [type=value_error, input_value=[], input_type=list]\n",
      "    For further information visit https://errors.pydantic.dev/2.5/v/value_error\n"
     ]
    },
    {
     "name": "stderr",
     "output_type": "stream",
     "text": [
      "03/05/2024 05:15:19 PM - HTTP Request: POST https://api.openai.com/v1/chat/completions \"HTTP/1.1 200 OK\"\n",
      " 80%|████████  | 535/666 [52:32<22:19, 10.22s/it]"
     ]
    },
    {
     "name": "stdout",
     "output_type": "stream",
     "text": [
      "Saved in DB 535 of 666\n"
     ]
    },
    {
     "name": "stderr",
     "output_type": "stream",
     "text": [
      "03/05/2024 05:15:25 PM - HTTP Request: POST https://api.openai.com/v1/chat/completions \"HTTP/1.1 200 OK\"\n",
      " 80%|████████  | 536/666 [52:37<19:08,  8.83s/it]03/05/2024 05:15:32 PM - HTTP Request: POST https://api.openai.com/v1/chat/completions \"HTTP/1.1 200 OK\"\n",
      " 81%|████████  | 537/666 [52:44<17:35,  8.18s/it]03/05/2024 05:15:43 PM - HTTP Request: POST https://api.openai.com/v1/chat/completions \"HTTP/1.1 200 OK\"\n",
      " 81%|████████  | 538/666 [52:55<19:22,  9.08s/it]03/05/2024 05:15:45 PM - HTTP Request: POST https://api.openai.com/v1/chat/completions \"HTTP/1.1 200 OK\"\n",
      "03/05/2024 05:15:46 PM - HTTP Request: POST https://api.openai.com/v1/chat/completions \"HTTP/1.1 200 OK\"\n",
      "03/05/2024 05:15:48 PM - HTTP Request: POST https://api.openai.com/v1/chat/completions \"HTTP/1.1 200 OK\"\n",
      " 81%|████████  | 539/666 [53:00<16:43,  7.90s/it]03/05/2024 05:15:49 PM - HTTP Request: POST https://api.openai.com/v1/chat/completions \"HTTP/1.1 200 OK\"\n",
      " 81%|████████  | 540/666 [53:02<12:20,  5.87s/it]"
     ]
    },
    {
     "name": "stdout",
     "output_type": "stream",
     "text": [
      "Saved in DB 540 of 666\n"
     ]
    },
    {
     "name": "stderr",
     "output_type": "stream",
     "text": [
      "03/05/2024 05:15:50 PM - HTTP Request: POST https://api.openai.com/v1/chat/completions \"HTTP/1.1 200 OK\"\n",
      " 81%|████████  | 541/666 [53:03<09:18,  4.46s/it]03/05/2024 05:15:56 PM - HTTP Request: POST https://api.openai.com/v1/chat/completions \"HTTP/1.1 200 OK\"\n",
      " 81%|████████▏ | 542/666 [53:09<10:06,  4.89s/it]03/05/2024 05:16:02 PM - HTTP Request: POST https://api.openai.com/v1/chat/completions \"HTTP/1.1 200 OK\"\n",
      " 82%|████████▏ | 543/666 [53:14<10:28,  5.11s/it]03/05/2024 05:16:04 PM - HTTP Request: POST https://api.openai.com/v1/chat/completions \"HTTP/1.1 200 OK\"\n",
      "03/05/2024 05:16:05 PM - HTTP Request: POST https://api.openai.com/v1/chat/completions \"HTTP/1.1 200 OK\"\n",
      " 82%|████████▏ | 544/666 [53:17<09:05,  4.47s/it]03/05/2024 05:16:07 PM - HTTP Request: POST https://api.openai.com/v1/chat/completions \"HTTP/1.1 200 OK\"\n",
      " 82%|████████▏ | 545/666 [53:19<07:36,  3.77s/it]"
     ]
    },
    {
     "name": "stdout",
     "output_type": "stream",
     "text": [
      "Saved in DB 545 of 666\n"
     ]
    },
    {
     "name": "stderr",
     "output_type": "stream",
     "text": [
      "03/05/2024 05:16:09 PM - HTTP Request: POST https://api.openai.com/v1/chat/completions \"HTTP/1.1 200 OK\"\n",
      " 82%|████████▏ | 546/666 [53:21<06:16,  3.14s/it]03/05/2024 05:16:26 PM - HTTP Request: POST https://api.openai.com/v1/chat/completions \"HTTP/1.1 200 OK\"\n",
      "03/05/2024 05:16:41 PM - HTTP Request: POST https://api.openai.com/v1/chat/completions \"HTTP/1.1 200 OK\"\n",
      "03/05/2024 05:16:54 PM - HTTP Request: POST https://api.openai.com/v1/chat/completions \"HTTP/1.1 200 OK\"\n",
      " 82%|████████▏ | 547/666 [54:06<31:12, 15.74s/it]"
     ]
    },
    {
     "name": "stdout",
     "output_type": "stream",
     "text": [
      "Model error:\n",
      "2 validation errors for ArticleSentiment\n",
      "sentiments.0.citations.9.quote\n",
      "  Value error, Citation `In the 'democratic renewal' he advocates, Rui Tavares admits the creation of a national compensation circle or the bet on systems similar to those of Denmark or Brazil, in which 'the parties run alone but declare their willingness to form a parliamentary majority and for the counting to be done together for the purpose of determining mandates'` not found in article_n_meta, match_ratio: 54.0 [type=value_error, input_value=\"In the 'democratic renew...f determining mandates'\", input_type=str]\n",
      "    For further information visit https://errors.pydantic.dev/2.5/v/value_error\n",
      "sentiments.0.citations.10.quote\n",
      "  Value error, Citation `A system that 'allows to identify, isolate and corral the extreme right, because the right will have to make a choice' and clarify, before elections, if 'that extreme right is or is not with them', he said, emphasizing that 'the people have to know'` not found in article_n_meta, match_ratio: 49.0 [type=value_error, input_value=\"A system that 'allows to...he people have to know'\", input_type=str]\n",
      "    For further information visit https://errors.pydantic.dev/2.5/v/value_error\n"
     ]
    },
    {
     "name": "stderr",
     "output_type": "stream",
     "text": [
      "03/05/2024 05:17:00 PM - HTTP Request: POST https://api.openai.com/v1/chat/completions \"HTTP/1.1 200 OK\"\n",
      "03/05/2024 05:17:08 PM - HTTP Request: POST https://api.openai.com/v1/chat/completions \"HTTP/1.1 200 OK\"\n",
      " 82%|████████▏ | 548/666 [54:21<30:14, 15.38s/it]03/05/2024 05:17:17 PM - HTTP Request: POST https://api.openai.com/v1/chat/completions \"HTTP/1.1 200 OK\"\n",
      " 82%|████████▏ | 549/666 [54:29<26:01, 13.34s/it]03/05/2024 05:17:20 PM - HTTP Request: POST https://api.openai.com/v1/chat/completions \"HTTP/1.1 200 OK\"\n",
      " 83%|████████▎ | 550/666 [54:33<19:57, 10.33s/it]"
     ]
    },
    {
     "name": "stdout",
     "output_type": "stream",
     "text": [
      "Saved in DB 550 of 666\n"
     ]
    },
    {
     "name": "stderr",
     "output_type": "stream",
     "text": [
      "03/05/2024 05:17:26 PM - HTTP Request: POST https://api.openai.com/v1/chat/completions \"HTTP/1.1 200 OK\"\n",
      "03/05/2024 05:17:32 PM - HTTP Request: POST https://api.openai.com/v1/chat/completions \"HTTP/1.1 200 OK\"\n",
      "03/05/2024 05:17:39 PM - HTTP Request: POST https://api.openai.com/v1/chat/completions \"HTTP/1.1 200 OK\"\n",
      " 83%|████████▎ | 551/666 [54:51<24:30, 12.79s/it]"
     ]
    },
    {
     "name": "stdout",
     "output_type": "stream",
     "text": [
      "Model error:\n",
      "2 validation errors for ArticleSentiment\n",
      "sentiments.0.citations\n",
      "  Value error, Either both a score and citations are present            or neither are. [type=value_error, input_value=[], input_type=list]\n",
      "    For further information visit https://errors.pydantic.dev/2.5/v/value_error\n",
      "sentiments.1.citations\n",
      "  Value error, Either both a score and citations are present            or neither are. [type=value_error, input_value=[{'quote': 'O porta-voz d...scrito.', 'score': 0.9}], input_type=list]\n",
      "    For further information visit https://errors.pydantic.dev/2.5/v/value_error\n"
     ]
    },
    {
     "name": "stderr",
     "output_type": "stream",
     "text": [
      "03/05/2024 05:17:40 PM - HTTP Request: POST https://api.openai.com/v1/chat/completions \"HTTP/1.1 200 OK\"\n",
      " 83%|████████▎ | 552/666 [54:53<17:59,  9.47s/it]03/05/2024 05:17:46 PM - HTTP Request: POST https://api.openai.com/v1/chat/completions \"HTTP/1.1 200 OK\"\n",
      " 83%|████████▎ | 553/666 [54:58<15:25,  8.19s/it]03/05/2024 05:17:47 PM - HTTP Request: POST https://api.openai.com/v1/chat/completions \"HTTP/1.1 200 OK\"\n",
      " 83%|████████▎ | 554/666 [54:59<11:24,  6.11s/it]03/05/2024 05:17:48 PM - HTTP Request: POST https://api.openai.com/v1/chat/completions \"HTTP/1.1 200 OK\"\n",
      " 83%|████████▎ | 555/666 [55:00<08:28,  4.58s/it]"
     ]
    },
    {
     "name": "stdout",
     "output_type": "stream",
     "text": [
      "Saved in DB 555 of 666\n"
     ]
    },
    {
     "name": "stderr",
     "output_type": "stream",
     "text": [
      "03/05/2024 05:17:50 PM - HTTP Request: POST https://api.openai.com/v1/chat/completions \"HTTP/1.1 200 OK\"\n",
      "03/05/2024 05:17:50 PM - HTTP Request: POST https://api.openai.com/v1/chat/completions \"HTTP/1.1 200 OK\"\n",
      " 83%|████████▎ | 556/666 [55:03<07:14,  3.95s/it]03/05/2024 05:17:54 PM - HTTP Request: POST https://api.openai.com/v1/chat/completions \"HTTP/1.1 200 OK\"\n",
      " 84%|████████▎ | 557/666 [55:06<06:58,  3.84s/it]03/05/2024 05:17:56 PM - HTTP Request: POST https://api.openai.com/v1/chat/completions \"HTTP/1.1 200 OK\"\n",
      "03/05/2024 05:17:59 PM - HTTP Request: POST https://api.openai.com/v1/chat/completions \"HTTP/1.1 200 OK\"\n",
      "03/05/2024 05:18:01 PM - HTTP Request: POST https://api.openai.com/v1/chat/completions \"HTTP/1.1 200 OK\"\n",
      " 84%|████████▍ | 558/666 [55:14<08:52,  4.93s/it]"
     ]
    },
    {
     "name": "stdout",
     "output_type": "stream",
     "text": [
      "Model error:\n",
      "2 validation errors for ArticleSentiment\n",
      "sentiments.0.citations\n",
      "  Value error, Either both a score and citations are present            or neither are. [type=value_error, input_value=[{'quote': 'Rui Rocha acu...talismo', 'score': 0.8}], input_type=list]\n",
      "    For further information visit https://errors.pydantic.dev/2.5/v/value_error\n",
      "sentiments.1.citations\n",
      "  Value error, Either both a score and citations are present            or neither are. [type=value_error, input_value=[{'quote': 'Tavares diz q...-irís\"', 'score': 0.7}], input_type=list]\n",
      "    For further information visit https://errors.pydantic.dev/2.5/v/value_error\n"
     ]
    },
    {
     "name": "stderr",
     "output_type": "stream",
     "text": [
      "03/05/2024 05:18:08 PM - HTTP Request: POST https://api.openai.com/v1/chat/completions \"HTTP/1.1 200 OK\"\n",
      " 84%|████████▍ | 559/666 [55:20<09:30,  5.33s/it]03/05/2024 05:18:17 PM - HTTP Request: POST https://api.openai.com/v1/chat/completions \"HTTP/1.1 200 OK\"\n",
      " 84%|████████▍ | 560/666 [55:30<11:32,  6.53s/it]"
     ]
    },
    {
     "name": "stdout",
     "output_type": "stream",
     "text": [
      "Saved in DB 560 of 666\n"
     ]
    },
    {
     "name": "stderr",
     "output_type": "stream",
     "text": [
      "03/05/2024 05:18:19 PM - HTTP Request: POST https://api.openai.com/v1/chat/completions \"HTTP/1.1 200 OK\"\n",
      " 84%|████████▍ | 561/666 [55:32<09:13,  5.27s/it]03/05/2024 05:18:21 PM - HTTP Request: POST https://api.openai.com/v1/chat/completions \"HTTP/1.1 200 OK\"\n",
      "03/05/2024 05:18:22 PM - HTTP Request: POST https://api.openai.com/v1/chat/completions \"HTTP/1.1 200 OK\"\n",
      " 84%|████████▍ | 562/666 [55:34<07:40,  4.42s/it]03/05/2024 05:18:24 PM - HTTP Request: POST https://api.openai.com/v1/chat/completions \"HTTP/1.1 200 OK\"\n",
      " 85%|████████▍ | 563/666 [55:36<06:12,  3.61s/it]03/05/2024 05:18:25 PM - HTTP Request: POST https://api.openai.com/v1/chat/completions \"HTTP/1.1 200 OK\"\n",
      " 85%|████████▍ | 564/666 [55:38<05:09,  3.04s/it]03/05/2024 05:18:29 PM - HTTP Request: POST https://api.openai.com/v1/chat/completions \"HTTP/1.1 200 OK\"\n",
      " 85%|████████▍ | 565/666 [55:41<05:25,  3.22s/it]"
     ]
    },
    {
     "name": "stdout",
     "output_type": "stream",
     "text": [
      "Saved in DB 565 of 666\n"
     ]
    },
    {
     "name": "stderr",
     "output_type": "stream",
     "text": [
      "03/05/2024 05:18:51 PM - HTTP Request: POST https://api.openai.com/v1/chat/completions \"HTTP/1.1 200 OK\"\n",
      "03/05/2024 05:19:19 PM - HTTP Request: POST https://api.openai.com/v1/chat/completions \"HTTP/1.1 200 OK\"\n",
      "03/05/2024 05:19:50 PM - HTTP Request: POST https://api.openai.com/v1/chat/completions \"HTTP/1.1 200 OK\"\n",
      " 85%|████████▍ | 566/666 [57:02<44:04, 26.44s/it]03/05/2024 05:19:55 PM - HTTP Request: POST https://api.openai.com/v1/chat/completions \"HTTP/1.1 200 OK\"\n",
      "03/05/2024 05:20:02 PM - HTTP Request: POST https://api.openai.com/v1/chat/completions \"HTTP/1.1 200 OK\"\n",
      "03/05/2024 05:20:07 PM - HTTP Request: POST https://api.openai.com/v1/chat/completions \"HTTP/1.1 200 OK\"\n",
      " 85%|████████▌ | 567/666 [57:20<39:21, 23.85s/it]"
     ]
    },
    {
     "name": "stdout",
     "output_type": "stream",
     "text": [
      "Model error:\n",
      "2 validation errors for ArticleSentiment\n",
      "sentiments.1.citations\n",
      "  Field required [type=missing, input_value={'name': 'Mariana Mortágua', 'score': 0}, input_type=dict]\n",
      "    For further information visit https://errors.pydantic.dev/2.5/v/missing\n",
      "sentiments.2.citations\n",
      "  Field required [type=missing, input_value={'name': 'Paulo Raimundo', 'score': 0}, input_type=dict]\n",
      "    For further information visit https://errors.pydantic.dev/2.5/v/missing\n"
     ]
    },
    {
     "name": "stderr",
     "output_type": "stream",
     "text": [
      "03/05/2024 05:20:10 PM - HTTP Request: POST https://api.openai.com/v1/chat/completions \"HTTP/1.1 200 OK\"\n",
      "03/05/2024 05:20:11 PM - HTTP Request: POST https://api.openai.com/v1/chat/completions \"HTTP/1.1 200 OK\"\n",
      " 85%|████████▌ | 568/666 [57:24<29:07, 17.83s/it]03/05/2024 05:20:13 PM - HTTP Request: POST https://api.openai.com/v1/chat/completions \"HTTP/1.1 200 OK\"\n",
      "03/05/2024 05:20:14 PM - HTTP Request: POST https://api.openai.com/v1/chat/completions \"HTTP/1.1 200 OK\"\n",
      " 85%|████████▌ | 569/666 [57:26<21:33, 13.33s/it]03/05/2024 05:20:17 PM - HTTP Request: POST https://api.openai.com/v1/chat/completions \"HTTP/1.1 200 OK\"\n",
      " 86%|████████▌ | 570/666 [57:29<16:16, 10.17s/it]"
     ]
    },
    {
     "name": "stdout",
     "output_type": "stream",
     "text": [
      "Saved in DB 570 of 666\n"
     ]
    },
    {
     "name": "stderr",
     "output_type": "stream",
     "text": [
      "03/05/2024 05:20:18 PM - HTTP Request: POST https://api.openai.com/v1/chat/completions \"HTTP/1.1 200 OK\"\n",
      " 86%|████████▌ | 571/666 [57:30<11:47,  7.45s/it]03/05/2024 05:20:19 PM - HTTP Request: POST https://api.openai.com/v1/chat/completions \"HTTP/1.1 200 OK\"\n",
      "03/05/2024 05:20:21 PM - HTTP Request: POST https://api.openai.com/v1/chat/completions \"HTTP/1.1 200 OK\"\n",
      "03/05/2024 05:20:22 PM - HTTP Request: POST https://api.openai.com/v1/chat/completions \"HTTP/1.1 200 OK\"\n",
      " 86%|████████▌ | 572/666 [57:35<10:11,  6.51s/it]03/05/2024 05:20:30 PM - HTTP Request: POST https://api.openai.com/v1/chat/completions \"HTTP/1.1 200 OK\"\n",
      " 86%|████████▌ | 573/666 [57:42<10:41,  6.90s/it]03/05/2024 05:20:31 PM - HTTP Request: POST https://api.openai.com/v1/chat/completions \"HTTP/1.1 200 OK\"\n",
      "03/05/2024 05:20:33 PM - HTTP Request: POST https://api.openai.com/v1/chat/completions \"HTTP/1.1 200 OK\"\n",
      "03/05/2024 05:20:34 PM - HTTP Request: POST https://api.openai.com/v1/chat/completions \"HTTP/1.1 200 OK\"\n",
      " 86%|████████▌ | 574/666 [57:47<09:18,  6.07s/it]03/05/2024 05:20:35 PM - HTTP Request: POST https://api.openai.com/v1/chat/completions \"HTTP/1.1 200 OK\"\n",
      " 86%|████████▋ | 575/666 [57:48<06:59,  4.60s/it]"
     ]
    },
    {
     "name": "stdout",
     "output_type": "stream",
     "text": [
      "Saved in DB 575 of 666\n"
     ]
    },
    {
     "name": "stderr",
     "output_type": "stream",
     "text": [
      "03/05/2024 05:20:39 PM - HTTP Request: POST https://api.openai.com/v1/chat/completions \"HTTP/1.1 200 OK\"\n",
      " 86%|████████▋ | 576/666 [57:51<06:29,  4.32s/it]03/05/2024 05:20:40 PM - HTTP Request: POST https://api.openai.com/v1/chat/completions \"HTTP/1.1 200 OK\"\n",
      "03/05/2024 05:20:41 PM - HTTP Request: POST https://api.openai.com/v1/chat/completions \"HTTP/1.1 200 OK\"\n",
      " 87%|████████▋ | 577/666 [57:54<05:32,  3.74s/it]03/05/2024 05:20:42 PM - HTTP Request: POST https://api.openai.com/v1/chat/completions \"HTTP/1.1 200 OK\"\n",
      "03/05/2024 05:20:44 PM - HTTP Request: POST https://api.openai.com/v1/chat/completions \"HTTP/1.1 200 OK\"\n",
      "03/05/2024 05:20:45 PM - HTTP Request: POST https://api.openai.com/v1/chat/completions \"HTTP/1.1 200 OK\"\n",
      " 87%|████████▋ | 578/666 [57:57<05:15,  3.59s/it]03/05/2024 05:20:46 PM - HTTP Request: POST https://api.openai.com/v1/chat/completions \"HTTP/1.1 200 OK\"\n",
      "03/05/2024 05:20:47 PM - HTTP Request: POST https://api.openai.com/v1/chat/completions \"HTTP/1.1 200 OK\"\n",
      " 87%|████████▋ | 579/666 [57:59<04:41,  3.23s/it]03/05/2024 05:20:49 PM - HTTP Request: POST https://api.openai.com/v1/chat/completions \"HTTP/1.1 200 OK\"\n",
      " 87%|████████▋ | 580/666 [58:01<04:06,  2.87s/it]"
     ]
    },
    {
     "name": "stdout",
     "output_type": "stream",
     "text": [
      "Saved in DB 580 of 666\n"
     ]
    },
    {
     "name": "stderr",
     "output_type": "stream",
     "text": [
      "03/05/2024 05:21:06 PM - HTTP Request: POST https://api.openai.com/v1/chat/completions \"HTTP/1.1 200 OK\"\n",
      " 87%|████████▋ | 581/666 [58:18<09:58,  7.05s/it]03/05/2024 05:21:08 PM - HTTP Request: POST https://api.openai.com/v1/chat/completions \"HTTP/1.1 200 OK\"\n",
      "03/05/2024 05:21:08 PM - HTTP Request: POST https://api.openai.com/v1/chat/completions \"HTTP/1.1 200 OK\"\n",
      " 87%|████████▋ | 582/666 [58:21<08:01,  5.73s/it]03/05/2024 05:21:10 PM - HTTP Request: POST https://api.openai.com/v1/chat/completions \"HTTP/1.1 200 OK\"\n",
      "03/05/2024 05:21:11 PM - HTTP Request: POST https://api.openai.com/v1/chat/completions \"HTTP/1.1 200 OK\"\n",
      " 88%|████████▊ | 583/666 [58:24<06:41,  4.84s/it]03/05/2024 05:21:13 PM - HTTP Request: POST https://api.openai.com/v1/chat/completions \"HTTP/1.1 200 OK\"\n",
      " 88%|████████▊ | 584/666 [58:25<05:18,  3.89s/it]03/05/2024 05:21:15 PM - HTTP Request: POST https://api.openai.com/v1/chat/completions \"HTTP/1.1 200 OK\"\n",
      " 88%|████████▊ | 585/666 [58:27<04:22,  3.24s/it]"
     ]
    },
    {
     "name": "stdout",
     "output_type": "stream",
     "text": [
      "Saved in DB 585 of 666\n"
     ]
    },
    {
     "name": "stderr",
     "output_type": "stream",
     "text": [
      "03/05/2024 05:21:27 PM - HTTP Request: POST https://api.openai.com/v1/chat/completions \"HTTP/1.1 200 OK\"\n",
      " 88%|████████▊ | 586/666 [58:39<07:51,  5.89s/it]03/05/2024 05:21:30 PM - HTTP Request: POST https://api.openai.com/v1/chat/completions \"HTTP/1.1 200 OK\"\n",
      " 88%|████████▊ | 587/666 [58:42<06:32,  4.97s/it]03/05/2024 05:21:53 PM - HTTP Request: POST https://api.openai.com/v1/chat/completions \"HTTP/1.1 200 OK\"\n",
      " 88%|████████▊ | 588/666 [59:06<13:51, 10.66s/it]03/05/2024 05:21:54 PM - HTTP Request: POST https://api.openai.com/v1/chat/completions \"HTTP/1.1 200 OK\"\n",
      " 88%|████████▊ | 589/666 [59:07<09:56,  7.74s/it]03/05/2024 05:22:00 PM - HTTP Request: POST https://api.openai.com/v1/chat/completions \"HTTP/1.1 200 OK\"\n",
      "03/05/2024 05:22:04 PM - HTTP Request: POST https://api.openai.com/v1/chat/completions \"HTTP/1.1 200 OK\"\n",
      "03/05/2024 05:22:10 PM - HTTP Request: POST https://api.openai.com/v1/chat/completions \"HTTP/1.1 200 OK\"\n",
      " 89%|████████▊ | 590/666 [59:23<12:52, 10.17s/it]"
     ]
    },
    {
     "name": "stdout",
     "output_type": "stream",
     "text": [
      "Model error:\n",
      "1 validation error for ArticleSentiment\n",
      "sentiments.0.citations\n",
      "  Value error, Either both a score and citations are present            or neither are. [type=value_error, input_value=[], input_type=list]\n",
      "    For further information visit https://errors.pydantic.dev/2.5/v/value_error\n",
      "Saved in DB 590 of 666\n"
     ]
    },
    {
     "name": "stderr",
     "output_type": "stream",
     "text": [
      "03/05/2024 05:22:12 PM - HTTP Request: POST https://api.openai.com/v1/chat/completions \"HTTP/1.1 200 OK\"\n",
      " 89%|████████▊ | 591/666 [59:24<09:25,  7.55s/it]03/05/2024 05:22:16 PM - HTTP Request: POST https://api.openai.com/v1/chat/completions \"HTTP/1.1 200 OK\"\n",
      " 89%|████████▉ | 592/666 [59:28<07:58,  6.46s/it]03/05/2024 05:22:21 PM - HTTP Request: POST https://api.openai.com/v1/chat/completions \"HTTP/1.1 200 OK\"\n",
      " 89%|████████▉ | 593/666 [59:34<07:38,  6.28s/it]03/05/2024 05:22:26 PM - HTTP Request: POST https://api.openai.com/v1/chat/completions \"HTTP/1.1 200 OK\"\n",
      " 89%|████████▉ | 594/666 [59:39<07:02,  5.87s/it]03/05/2024 05:22:28 PM - HTTP Request: POST https://api.openai.com/v1/chat/completions \"HTTP/1.1 200 OK\"\n",
      "03/05/2024 05:22:29 PM - HTTP Request: POST https://api.openai.com/v1/chat/completions \"HTTP/1.1 200 OK\"\n",
      " 89%|████████▉ | 595/666 [59:42<05:52,  4.97s/it]"
     ]
    },
    {
     "name": "stdout",
     "output_type": "stream",
     "text": [
      "Saved in DB 595 of 666\n"
     ]
    },
    {
     "name": "stderr",
     "output_type": "stream",
     "text": [
      "03/05/2024 05:22:31 PM - HTTP Request: POST https://api.openai.com/v1/chat/completions \"HTTP/1.1 200 OK\"\n",
      "03/05/2024 05:22:32 PM - HTTP Request: POST https://api.openai.com/v1/chat/completions \"HTTP/1.1 200 OK\"\n",
      " 89%|████████▉ | 596/666 [59:45<05:03,  4.34s/it]03/05/2024 05:22:35 PM - HTTP Request: POST https://api.openai.com/v1/chat/completions \"HTTP/1.1 200 OK\"\n",
      " 90%|████████▉ | 597/666 [59:48<04:33,  3.96s/it]03/05/2024 05:22:39 PM - HTTP Request: POST https://api.openai.com/v1/chat/completions \"HTTP/1.1 200 OK\"\n",
      " 90%|████████▉ | 598/666 [59:51<04:17,  3.79s/it]03/05/2024 05:22:40 PM - HTTP Request: POST https://api.openai.com/v1/chat/completions \"HTTP/1.1 200 OK\"\n",
      " 90%|████████▉ | 599/666 [59:53<03:36,  3.23s/it]03/05/2024 05:22:45 PM - HTTP Request: POST https://api.openai.com/v1/chat/completions \"HTTP/1.1 200 OK\"\n",
      "03/05/2024 05:22:49 PM - HTTP Request: POST https://api.openai.com/v1/chat/completions \"HTTP/1.1 200 OK\"\n",
      "03/05/2024 05:22:53 PM - HTTP Request: POST https://api.openai.com/v1/chat/completions \"HTTP/1.1 200 OK\"\n",
      " 90%|█████████ | 600/666 [1:00:05<06:30,  5.91s/it]"
     ]
    },
    {
     "name": "stdout",
     "output_type": "stream",
     "text": [
      "Model error:\n",
      "2 validation errors for ArticleSentiment\n",
      "sentiments.0.citations\n",
      "  Value error, Either both a score and citations are present            or neither are. [type=value_error, input_value=[{'quote': 'Cheio de pica... Chega.', 'score': 0.5}], input_type=list]\n",
      "    For further information visit https://errors.pydantic.dev/2.5/v/value_error\n",
      "sentiments.1.citations\n",
      "  Value error, Either both a score and citations are present            or neither are. [type=value_error, input_value=[{'quote': 'Cheio de pica... Chega.', 'score': 0.5}], input_type=list]\n",
      "    For further information visit https://errors.pydantic.dev/2.5/v/value_error\n",
      "Saved in DB 600 of 666\n"
     ]
    },
    {
     "name": "stderr",
     "output_type": "stream",
     "text": [
      "03/05/2024 05:22:55 PM - HTTP Request: POST https://api.openai.com/v1/chat/completions \"HTTP/1.1 200 OK\"\n",
      " 90%|█████████ | 601/666 [1:00:07<05:13,  4.82s/it]03/05/2024 05:22:58 PM - HTTP Request: POST https://api.openai.com/v1/chat/completions \"HTTP/1.1 200 OK\"\n",
      " 90%|█████████ | 602/666 [1:00:10<04:27,  4.18s/it]03/05/2024 05:23:02 PM - HTTP Request: POST https://api.openai.com/v1/chat/completions \"HTTP/1.1 200 OK\"\n",
      " 91%|█████████ | 603/666 [1:00:14<04:26,  4.23s/it]03/05/2024 05:23:04 PM - HTTP Request: POST https://api.openai.com/v1/chat/completions \"HTTP/1.1 200 OK\"\n",
      "03/05/2024 05:23:08 PM - HTTP Request: POST https://api.openai.com/v1/chat/completions \"HTTP/1.1 200 OK\"\n",
      "03/05/2024 05:23:10 PM - HTTP Request: POST https://api.openai.com/v1/chat/completions \"HTTP/1.1 200 OK\"\n",
      " 91%|█████████ | 604/666 [1:00:23<05:38,  5.46s/it]"
     ]
    },
    {
     "name": "stdout",
     "output_type": "stream",
     "text": [
      "Model error:\n",
      "1 validation error for ArticleSentiment\n",
      "sentiments.0.citations\n",
      "  Value error, Either both a score and citations are present            or neither are. [type=value_error, input_value=[{'quote': 'Pedro Nuno Sa...rendas.', 'score': 0.5}], input_type=list]\n",
      "    For further information visit https://errors.pydantic.dev/2.5/v/value_error\n"
     ]
    },
    {
     "name": "stderr",
     "output_type": "stream",
     "text": [
      "03/05/2024 05:23:11 PM - HTTP Request: POST https://api.openai.com/v1/chat/completions \"HTTP/1.1 200 OK\"\n",
      " 91%|█████████ | 605/666 [1:00:24<04:14,  4.17s/it]"
     ]
    },
    {
     "name": "stdout",
     "output_type": "stream",
     "text": [
      "Saved in DB 605 of 666\n"
     ]
    },
    {
     "name": "stderr",
     "output_type": "stream",
     "text": [
      "03/05/2024 05:23:28 PM - HTTP Request: POST https://api.openai.com/v1/chat/completions \"HTTP/1.1 200 OK\"\n",
      "03/05/2024 05:23:41 PM - HTTP Request: POST https://api.openai.com/v1/chat/completions \"HTTP/1.1 200 OK\"\n",
      "03/05/2024 05:23:55 PM - HTTP Request: POST https://api.openai.com/v1/chat/completions \"HTTP/1.1 200 OK\"\n",
      " 91%|█████████ | 606/666 [1:01:07<16:00, 16.00s/it]"
     ]
    },
    {
     "name": "stdout",
     "output_type": "stream",
     "text": [
      "Model error:\n",
      "4 validation errors for ArticleSentiment\n",
      "sentiments.0.citations.1.quote\n",
      "  Value error, Citation `The leader of the PS successively sought to emphasize that the program of Chega does not bring 'solutions', nor 'nothing new', but 'falsities', 'make-believe' and the measures are 'unrealizable', in an attempt to 'give everything to everyone' and that Ventura creates the 'illusion of deceiving people'. The Chega president classified Pedro Nuno as the 'face of the government's biggest failure in Health' – when he was Minister of Infrastructure – he said that he is 'unprepared to be prime minister' and his program is 'a handful of nothing'. This, in addition to the epithets of 'amnesia candidate', 'minister missteps' and even 'weak'.` not found in article_n_meta, match_ratio: 50.0 [type=value_error, input_value=\"The leader of the PS suc...steps' and even 'weak'.\", input_type=str]\n",
      "    For further information visit https://errors.pydantic.dev/2.5/v/value_error\n",
      "sentiments.1.citations.0.quote\n",
      "  Value error, Citation `...` not found in article_n_meta, match_ratio: 0.0 [type=value_error, input_value='...', input_type=str]\n",
      "    For further information visit https://errors.pydantic.dev/2.5/v/value_error\n",
      "sentiments.2.citations.0.quote\n",
      "  Value error, Citation `The leader of Chega successively sought to emphasize that the program of PS does not bring 'solutions', nor 'nothing new', but 'falsities', 'make-believe' and the measures are 'unrealizable', in an attempt to 'give everything to everyone' and that Ventura creates the 'illusion of deceiving people'. The Chega president classified Pedro Nuno as the 'face of the government's biggest failure in Health' – when he was Minister of Infrastructure – he said that he is 'unprepared to be prime minister' and his program is 'a handful of nothing'. This, in addition to the epithets of 'amnesia candidate', 'minister missteps' and even 'weak'.` not found in article_n_meta, match_ratio: 50.0 [type=value_error, input_value=\"The leader of Chega succ...steps' and even 'weak'.\", input_type=str]\n",
      "    For further information visit https://errors.pydantic.dev/2.5/v/value_error\n",
      "sentiments.2.citations.1.quote\n",
      "  Value error, Citation `Pedro Nuno Santos prefers to do nothing in the fight against corruption, accused, adding that the PSD also never had the courage to make this reform. 'The PS program is like aspirin, it does not do any harm', said Ventura, who later accused the socialist of 'being weak in the fight against corruption'.` not found in article_n_meta, match_ratio: 55.0 [type=value_error, input_value=\"Pedro Nuno Santos prefer...ht against corruption'.\", input_type=str]\n",
      "    For further information visit https://errors.pydantic.dev/2.5/v/value_error\n"
     ]
    },
    {
     "name": "stderr",
     "output_type": "stream",
     "text": [
      "03/05/2024 05:24:07 PM - HTTP Request: POST https://api.openai.com/v1/chat/completions \"HTTP/1.1 200 OK\"\n",
      " 91%|█████████ | 607/666 [1:01:20<14:37, 14.88s/it]03/05/2024 05:24:19 PM - HTTP Request: POST https://api.openai.com/v1/chat/completions \"HTTP/1.1 200 OK\"\n",
      "03/05/2024 05:24:34 PM - HTTP Request: POST https://api.openai.com/v1/chat/completions \"HTTP/1.1 200 OK\"\n",
      "03/05/2024 05:24:45 PM - HTTP Request: POST https://api.openai.com/v1/chat/completions \"HTTP/1.1 200 OK\"\n",
      " 91%|█████████▏| 608/666 [1:01:57<20:54, 21.62s/it]"
     ]
    },
    {
     "name": "stdout",
     "output_type": "stream",
     "text": [
      "Model error:\n",
      "2 validation errors for ArticleSentiment\n",
      "sentiments.1.citations.0.quote\n",
      "  Value error, Citation `Pedro Nuno Santos entrou ao ataque. Tivemos 80 minutos, Pedro Nuno Santos marca no início do debate, todo o resto é equilibrado` not found in article_n_meta, match_ratio: 57.0 [type=value_error, input_value='Pedro Nuno Santos entrou... o resto é equilibrado', input_type=str]\n",
      "    For further information visit https://errors.pydantic.dev/2.5/v/value_error\n",
      "sentiments.1.citations.1.quote\n",
      "  Value error, Citation `Líder do PS teve dificuldades na habitação e saúde, mas no fim da partida volta a marcar golo na questão dos pensionistas` not found in article_n_meta, match_ratio: 50.0 [type=value_error, input_value='Líder do PS teve dificu...estão dos pensionistas', input_type=str]\n",
      "    For further information visit https://errors.pydantic.dev/2.5/v/value_error\n"
     ]
    },
    {
     "name": "stderr",
     "output_type": "stream",
     "text": [
      "03/05/2024 05:24:47 PM - HTTP Request: POST https://api.openai.com/v1/chat/completions \"HTTP/1.1 200 OK\"\n",
      "03/05/2024 05:24:48 PM - HTTP Request: POST https://api.openai.com/v1/chat/completions \"HTTP/1.1 200 OK\"\n",
      " 91%|█████████▏| 609/666 [1:02:00<15:15, 16.06s/it]03/05/2024 05:24:53 PM - HTTP Request: POST https://api.openai.com/v1/chat/completions \"HTTP/1.1 200 OK\"\n",
      " 92%|█████████▏| 610/666 [1:02:05<11:57, 12.81s/it]"
     ]
    },
    {
     "name": "stdout",
     "output_type": "stream",
     "text": [
      "Saved in DB 610 of 666\n"
     ]
    },
    {
     "name": "stderr",
     "output_type": "stream",
     "text": [
      "03/05/2024 05:25:02 PM - HTTP Request: POST https://api.openai.com/v1/chat/completions \"HTTP/1.1 200 OK\"\n",
      " 92%|█████████▏| 611/666 [1:02:14<10:41, 11.67s/it]03/05/2024 05:25:07 PM - HTTP Request: POST https://api.openai.com/v1/chat/completions \"HTTP/1.1 200 OK\"\n",
      " 92%|█████████▏| 612/666 [1:02:19<08:35,  9.55s/it]03/05/2024 05:25:10 PM - HTTP Request: POST https://api.openai.com/v1/chat/completions \"HTTP/1.1 200 OK\"\n",
      " 92%|█████████▏| 613/666 [1:02:22<06:43,  7.62s/it]03/05/2024 05:25:11 PM - HTTP Request: POST https://api.openai.com/v1/chat/completions \"HTTP/1.1 200 OK\"\n",
      " 92%|█████████▏| 614/666 [1:02:24<05:03,  5.84s/it]03/05/2024 05:25:18 PM - HTTP Request: POST https://api.openai.com/v1/chat/completions \"HTTP/1.1 200 OK\"\n",
      " 92%|█████████▏| 615/666 [1:02:30<05:07,  6.03s/it]"
     ]
    },
    {
     "name": "stdout",
     "output_type": "stream",
     "text": [
      "Saved in DB 615 of 666\n"
     ]
    },
    {
     "name": "stderr",
     "output_type": "stream",
     "text": [
      "03/05/2024 05:25:23 PM - HTTP Request: POST https://api.openai.com/v1/chat/completions \"HTTP/1.1 200 OK\"\n",
      " 92%|█████████▏| 616/666 [1:02:36<04:52,  5.85s/it]03/05/2024 05:25:29 PM - HTTP Request: POST https://api.openai.com/v1/chat/completions \"HTTP/1.1 200 OK\"\n",
      " 93%|█████████▎| 617/666 [1:02:41<04:43,  5.78s/it]03/05/2024 05:25:41 PM - HTTP Request: POST https://api.openai.com/v1/chat/completions \"HTTP/1.1 200 OK\"\n",
      " 93%|█████████▎| 618/666 [1:02:53<06:06,  7.64s/it]03/05/2024 05:25:45 PM - HTTP Request: POST https://api.openai.com/v1/chat/completions \"HTTP/1.1 200 OK\"\n",
      "03/05/2024 05:25:50 PM - HTTP Request: POST https://api.openai.com/v1/chat/completions \"HTTP/1.1 200 OK\"\n",
      " 93%|█████████▎| 619/666 [1:03:02<06:12,  7.93s/it]03/05/2024 05:25:55 PM - HTTP Request: POST https://api.openai.com/v1/chat/completions \"HTTP/1.1 200 OK\"\n",
      " 93%|█████████▎| 620/666 [1:03:07<05:24,  7.06s/it]"
     ]
    },
    {
     "name": "stdout",
     "output_type": "stream",
     "text": [
      "Saved in DB 620 of 666\n"
     ]
    },
    {
     "name": "stderr",
     "output_type": "stream",
     "text": [
      "03/05/2024 05:26:00 PM - HTTP Request: POST https://api.openai.com/v1/chat/completions \"HTTP/1.1 200 OK\"\n",
      "03/05/2024 05:26:05 PM - HTTP Request: POST https://api.openai.com/v1/chat/completions \"HTTP/1.1 200 OK\"\n",
      "03/05/2024 05:26:10 PM - HTTP Request: POST https://api.openai.com/v1/chat/completions \"HTTP/1.1 200 OK\"\n",
      " 93%|█████████▎| 621/666 [1:03:22<07:06,  9.48s/it]"
     ]
    },
    {
     "name": "stdout",
     "output_type": "stream",
     "text": [
      "Model error:\n",
      "2 validation errors for ArticleSentiment\n",
      "sentiments.1.citations\n",
      "  Value error, Either both a score and citations are present            or neither are. [type=value_error, input_value=[], input_type=list]\n",
      "    For further information visit https://errors.pydantic.dev/2.5/v/value_error\n",
      "sentiments.2.citations.2.quote\n",
      "  Value error, Citation `all the ministers were responsible for the current state of the country, also in housing.` not found in article_n_meta, match_ratio: 49.0 [type=value_error, input_value='all the ministers were r...untry, also in housing.', input_type=str]\n",
      "    For further information visit https://errors.pydantic.dev/2.5/v/value_error\n"
     ]
    },
    {
     "name": "stderr",
     "output_type": "stream",
     "text": [
      "03/05/2024 05:26:12 PM - HTTP Request: POST https://api.openai.com/v1/chat/completions \"HTTP/1.1 200 OK\"\n",
      " 93%|█████████▎| 622/666 [1:03:25<05:23,  7.36s/it]03/05/2024 05:26:14 PM - HTTP Request: POST https://api.openai.com/v1/chat/completions \"HTTP/1.1 200 OK\"\n",
      "03/05/2024 05:26:16 PM - HTTP Request: POST https://api.openai.com/v1/chat/completions \"HTTP/1.1 200 OK\"\n",
      "03/05/2024 05:26:18 PM - HTTP Request: POST https://api.openai.com/v1/chat/completions \"HTTP/1.1 200 OK\"\n",
      " 94%|█████████▎| 623/666 [1:03:30<04:56,  6.90s/it]"
     ]
    },
    {
     "name": "stdout",
     "output_type": "stream",
     "text": [
      "Model error:\n",
      "1 validation error for ArticleSentiment\n",
      "sentiments.2.name\n",
      "  Value error, Citation `Rui Rocha` not found in article_n_meta [type=value_error, input_value='Rui Rocha', input_type=str]\n",
      "    For further information visit https://errors.pydantic.dev/2.5/v/value_error\n"
     ]
    },
    {
     "name": "stderr",
     "output_type": "stream",
     "text": [
      "03/05/2024 05:26:19 PM - HTTP Request: POST https://api.openai.com/v1/chat/completions \"HTTP/1.1 200 OK\"\n",
      " 94%|█████████▎| 624/666 [1:03:32<03:39,  5.22s/it]03/05/2024 05:26:21 PM - HTTP Request: POST https://api.openai.com/v1/chat/completions \"HTTP/1.1 200 OK\"\n",
      " 94%|█████████▍| 625/666 [1:03:33<02:47,  4.08s/it]"
     ]
    },
    {
     "name": "stdout",
     "output_type": "stream",
     "text": [
      "Saved in DB 625 of 666\n"
     ]
    },
    {
     "name": "stderr",
     "output_type": "stream",
     "text": [
      "03/05/2024 05:26:26 PM - HTTP Request: POST https://api.openai.com/v1/chat/completions \"HTTP/1.1 200 OK\"\n",
      " 94%|█████████▍| 626/666 [1:03:39<03:03,  4.58s/it]03/05/2024 05:26:33 PM - HTTP Request: POST https://api.openai.com/v1/chat/completions \"HTTP/1.1 200 OK\"\n",
      " 94%|█████████▍| 627/666 [1:03:46<03:24,  5.25s/it]03/05/2024 05:26:44 PM - HTTP Request: POST https://api.openai.com/v1/chat/completions \"HTTP/1.1 200 OK\"\n",
      " 94%|█████████▍| 628/666 [1:03:56<04:19,  6.84s/it]03/05/2024 05:26:47 PM - HTTP Request: POST https://api.openai.com/v1/chat/completions \"HTTP/1.1 200 OK\"\n",
      " 94%|█████████▍| 629/666 [1:03:59<03:30,  5.68s/it]03/05/2024 05:26:48 PM - HTTP Request: POST https://api.openai.com/v1/chat/completions \"HTTP/1.1 200 OK\"\n",
      "03/05/2024 05:26:49 PM - HTTP Request: POST https://api.openai.com/v1/chat/completions \"HTTP/1.1 200 OK\"\n",
      " 95%|█████████▍| 630/666 [1:04:01<02:47,  4.65s/it]"
     ]
    },
    {
     "name": "stdout",
     "output_type": "stream",
     "text": [
      "Saved in DB 630 of 666\n"
     ]
    },
    {
     "name": "stderr",
     "output_type": "stream",
     "text": [
      "03/05/2024 05:26:55 PM - HTTP Request: POST https://api.openai.com/v1/chat/completions \"HTTP/1.1 200 OK\"\n",
      " 95%|█████████▍| 631/666 [1:04:08<02:59,  5.14s/it]03/05/2024 05:27:01 PM - HTTP Request: POST https://api.openai.com/v1/chat/completions \"HTTP/1.1 200 OK\"\n",
      "03/05/2024 05:27:09 PM - HTTP Request: POST https://api.openai.com/v1/chat/completions \"HTTP/1.1 200 OK\"\n",
      " 95%|█████████▍| 632/666 [1:04:22<04:27,  7.87s/it]03/05/2024 05:27:12 PM - HTTP Request: POST https://api.openai.com/v1/chat/completions \"HTTP/1.1 200 OK\"\n",
      "03/05/2024 05:27:13 PM - HTTP Request: POST https://api.openai.com/v1/chat/completions \"HTTP/1.1 200 OK\"\n",
      " 95%|█████████▌| 633/666 [1:04:25<03:35,  6.52s/it]03/05/2024 05:27:14 PM - HTTP Request: POST https://api.openai.com/v1/chat/completions \"HTTP/1.1 200 OK\"\n",
      " 95%|█████████▌| 634/666 [1:04:27<02:41,  5.05s/it]03/05/2024 05:27:15 PM - HTTP Request: POST https://api.openai.com/v1/chat/completions \"HTTP/1.1 200 OK\"\n",
      " 95%|█████████▌| 635/666 [1:04:28<01:58,  3.82s/it]"
     ]
    },
    {
     "name": "stdout",
     "output_type": "stream",
     "text": [
      "Saved in DB 635 of 666\n"
     ]
    },
    {
     "name": "stderr",
     "output_type": "stream",
     "text": [
      "03/05/2024 05:27:24 PM - HTTP Request: POST https://api.openai.com/v1/chat/completions \"HTTP/1.1 200 OK\"\n",
      " 95%|█████████▌| 636/666 [1:04:37<02:40,  5.35s/it]03/05/2024 05:27:26 PM - HTTP Request: POST https://api.openai.com/v1/chat/completions \"HTTP/1.1 200 OK\"\n",
      " 96%|█████████▌| 637/666 [1:04:38<02:01,  4.17s/it]03/05/2024 05:27:27 PM - HTTP Request: POST https://api.openai.com/v1/chat/completions \"HTTP/1.1 200 OK\"\n",
      " 96%|█████████▌| 638/666 [1:04:39<01:31,  3.26s/it]03/05/2024 05:27:31 PM - HTTP Request: POST https://api.openai.com/v1/chat/completions \"HTTP/1.1 200 OK\"\n",
      "03/05/2024 05:27:35 PM - HTTP Request: POST https://api.openai.com/v1/chat/completions \"HTTP/1.1 200 OK\"\n",
      "03/05/2024 05:27:38 PM - HTTP Request: POST https://api.openai.com/v1/chat/completions \"HTTP/1.1 200 OK\"\n",
      " 96%|█████████▌| 639/666 [1:04:51<02:33,  5.70s/it]"
     ]
    },
    {
     "name": "stdout",
     "output_type": "stream",
     "text": [
      "Model error:\n",
      "1 validation error for ArticleSentiment\n",
      "sentiments.0.citations\n",
      "  Value error, Either both a score and citations are present            or neither are. [type=value_error, input_value=[{'quote': 'A deputada e ...vereiro', 'score': 0.7}], input_type=list]\n",
      "    For further information visit https://errors.pydantic.dev/2.5/v/value_error\n"
     ]
    },
    {
     "name": "stderr",
     "output_type": "stream",
     "text": [
      "03/05/2024 05:27:39 PM - HTTP Request: POST https://api.openai.com/v1/chat/completions \"HTTP/1.1 200 OK\"\n",
      " 96%|█████████▌| 640/666 [1:04:52<01:50,  4.25s/it]"
     ]
    },
    {
     "name": "stdout",
     "output_type": "stream",
     "text": [
      "Saved in DB 640 of 666\n"
     ]
    },
    {
     "name": "stderr",
     "output_type": "stream",
     "text": [
      "03/05/2024 05:27:41 PM - HTTP Request: POST https://api.openai.com/v1/chat/completions \"HTTP/1.1 200 OK\"\n",
      " 96%|█████████▌| 641/666 [1:04:54<01:28,  3.56s/it]03/05/2024 05:27:43 PM - HTTP Request: POST https://api.openai.com/v1/chat/completions \"HTTP/1.1 200 OK\"\n",
      " 96%|█████████▋| 642/666 [1:04:56<01:13,  3.08s/it]03/05/2024 05:27:45 PM - HTTP Request: POST https://api.openai.com/v1/chat/completions \"HTTP/1.1 200 OK\"\n",
      " 97%|█████████▋| 643/666 [1:04:57<01:01,  2.68s/it]03/05/2024 05:27:45 PM - HTTP Request: POST https://api.openai.com/v1/chat/completions \"HTTP/1.1 200 OK\"\n",
      " 97%|█████████▋| 644/666 [1:04:58<00:45,  2.06s/it]03/05/2024 05:27:48 PM - HTTP Request: POST https://api.openai.com/v1/chat/completions \"HTTP/1.1 200 OK\"\n",
      " 97%|█████████▋| 645/666 [1:05:00<00:43,  2.09s/it]"
     ]
    },
    {
     "name": "stdout",
     "output_type": "stream",
     "text": [
      "Saved in DB 645 of 666\n"
     ]
    },
    {
     "name": "stderr",
     "output_type": "stream",
     "text": [
      "03/05/2024 05:27:50 PM - HTTP Request: POST https://api.openai.com/v1/chat/completions \"HTTP/1.1 200 OK\"\n",
      " 97%|█████████▋| 646/666 [1:05:02<00:42,  2.13s/it]03/05/2024 05:27:52 PM - HTTP Request: POST https://api.openai.com/v1/chat/completions \"HTTP/1.1 200 OK\"\n",
      " 97%|█████████▋| 647/666 [1:05:04<00:38,  2.02s/it]03/05/2024 05:27:53 PM - HTTP Request: POST https://api.openai.com/v1/chat/completions \"HTTP/1.1 200 OK\"\n",
      " 97%|█████████▋| 648/666 [1:05:05<00:30,  1.72s/it]03/05/2024 05:27:54 PM - HTTP Request: POST https://api.openai.com/v1/chat/completions \"HTTP/1.1 200 OK\"\n",
      " 97%|█████████▋| 649/666 [1:05:06<00:25,  1.50s/it]03/05/2024 05:27:55 PM - HTTP Request: POST https://api.openai.com/v1/chat/completions \"HTTP/1.1 200 OK\"\n",
      " 98%|█████████▊| 650/666 [1:05:08<00:24,  1.52s/it]"
     ]
    },
    {
     "name": "stdout",
     "output_type": "stream",
     "text": [
      "Saved in DB 650 of 666\n"
     ]
    },
    {
     "name": "stderr",
     "output_type": "stream",
     "text": [
      "03/05/2024 05:27:59 PM - HTTP Request: POST https://api.openai.com/v1/chat/completions \"HTTP/1.1 200 OK\"\n",
      "03/05/2024 05:28:04 PM - HTTP Request: POST https://api.openai.com/v1/chat/completions \"HTTP/1.1 200 OK\"\n",
      "03/05/2024 05:28:08 PM - HTTP Request: POST https://api.openai.com/v1/chat/completions \"HTTP/1.1 200 OK\"\n",
      " 98%|█████████▊| 651/666 [1:05:20<01:11,  4.79s/it]"
     ]
    },
    {
     "name": "stdout",
     "output_type": "stream",
     "text": [
      "Model error:\n",
      "1 validation error for ArticleSentiment\n",
      "sentiments.0.citations\n",
      "  Value error, Either both a score and citations are present            or neither are. [type=value_error, input_value=[], input_type=list]\n",
      "    For further information visit https://errors.pydantic.dev/2.5/v/value_error\n"
     ]
    },
    {
     "name": "stderr",
     "output_type": "stream",
     "text": [
      "03/05/2024 05:28:13 PM - HTTP Request: POST https://api.openai.com/v1/chat/completions \"HTTP/1.1 200 OK\"\n",
      " 98%|█████████▊| 652/666 [1:05:25<01:09,  4.95s/it]03/05/2024 05:28:16 PM - HTTP Request: POST https://api.openai.com/v1/chat/completions \"HTTP/1.1 200 OK\"\n",
      " 98%|█████████▊| 653/666 [1:05:28<00:56,  4.31s/it]03/05/2024 05:28:17 PM - HTTP Request: POST https://api.openai.com/v1/chat/completions \"HTTP/1.1 200 OK\"\n",
      " 98%|█████████▊| 654/666 [1:05:29<00:39,  3.28s/it]03/05/2024 05:28:17 PM - HTTP Request: POST https://api.openai.com/v1/chat/completions \"HTTP/1.1 200 OK\"\n",
      " 98%|█████████▊| 655/666 [1:05:30<00:28,  2.57s/it]"
     ]
    },
    {
     "name": "stdout",
     "output_type": "stream",
     "text": [
      "Saved in DB 655 of 666\n"
     ]
    },
    {
     "name": "stderr",
     "output_type": "stream",
     "text": [
      "03/05/2024 05:28:19 PM - HTTP Request: POST https://api.openai.com/v1/chat/completions \"HTTP/1.1 200 OK\"\n",
      "03/05/2024 05:28:21 PM - HTTP Request: POST https://api.openai.com/v1/chat/completions \"HTTP/1.1 200 OK\"\n",
      " 98%|█████████▊| 656/666 [1:05:33<00:28,  2.87s/it]03/05/2024 05:28:22 PM - HTTP Request: POST https://api.openai.com/v1/chat/completions \"HTTP/1.1 200 OK\"\n",
      " 99%|█████████▊| 657/666 [1:05:34<00:20,  2.31s/it]03/05/2024 05:28:23 PM - HTTP Request: POST https://api.openai.com/v1/chat/completions \"HTTP/1.1 200 OK\"\n",
      "03/05/2024 05:28:25 PM - HTTP Request: POST https://api.openai.com/v1/chat/completions \"HTTP/1.1 200 OK\"\n",
      " 99%|█████████▉| 658/666 [1:05:37<00:20,  2.50s/it]03/05/2024 05:28:32 PM - HTTP Request: POST https://api.openai.com/v1/chat/completions \"HTTP/1.1 200 OK\"\n",
      " 99%|█████████▉| 659/666 [1:05:44<00:25,  3.71s/it]03/05/2024 05:28:33 PM - HTTP Request: POST https://api.openai.com/v1/chat/completions \"HTTP/1.1 200 OK\"\n",
      " 99%|█████████▉| 660/666 [1:05:45<00:17,  2.98s/it]"
     ]
    },
    {
     "name": "stdout",
     "output_type": "stream",
     "text": [
      "Saved in DB 660 of 666\n"
     ]
    },
    {
     "name": "stderr",
     "output_type": "stream",
     "text": [
      "03/05/2024 05:28:39 PM - HTTP Request: POST https://api.openai.com/v1/chat/completions \"HTTP/1.1 200 OK\"\n",
      "03/05/2024 05:28:45 PM - HTTP Request: POST https://api.openai.com/v1/chat/completions \"HTTP/1.1 200 OK\"\n",
      "03/05/2024 05:28:52 PM - HTTP Request: POST https://api.openai.com/v1/chat/completions \"HTTP/1.1 200 OK\"\n",
      " 99%|█████████▉| 661/666 [1:06:05<00:39,  7.96s/it]"
     ]
    },
    {
     "name": "stdout",
     "output_type": "stream",
     "text": [
      "Model error:\n",
      "1 validation error for ArticleSentiment\n",
      "sentiments.0.citations\n",
      "  Value error, Either both a score and citations are present            or neither are. [type=value_error, input_value=[{'quote': \"Para Rui Tava...avares.\", 'score': 0.8}], input_type=list]\n",
      "    For further information visit https://errors.pydantic.dev/2.5/v/value_error\n"
     ]
    },
    {
     "name": "stderr",
     "output_type": "stream",
     "text": [
      "03/05/2024 05:28:54 PM - HTTP Request: POST https://api.openai.com/v1/chat/completions \"HTTP/1.1 200 OK\"\n",
      " 99%|█████████▉| 662/666 [1:06:06<00:23,  5.93s/it]03/05/2024 05:28:56 PM - HTTP Request: POST https://api.openai.com/v1/chat/completions \"HTTP/1.1 200 OK\"\n",
      "03/05/2024 05:28:57 PM - HTTP Request: POST https://api.openai.com/v1/chat/completions \"HTTP/1.1 200 OK\"\n",
      "100%|█████████▉| 663/666 [1:06:09<00:15,  5.08s/it]03/05/2024 05:29:00 PM - HTTP Request: POST https://api.openai.com/v1/chat/completions \"HTTP/1.1 200 OK\"\n",
      "03/05/2024 05:29:04 PM - HTTP Request: POST https://api.openai.com/v1/chat/completions \"HTTP/1.1 200 OK\"\n",
      "03/05/2024 05:29:07 PM - HTTP Request: POST https://api.openai.com/v1/chat/completions \"HTTP/1.1 200 OK\"\n",
      "100%|█████████▉| 664/666 [1:06:19<00:13,  6.56s/it]03/05/2024 05:29:13 PM - HTTP Request: POST https://api.openai.com/v1/chat/completions \"HTTP/1.1 200 OK\"\n",
      "03/05/2024 05:29:19 PM - HTTP Request: POST https://api.openai.com/v1/chat/completions \"HTTP/1.1 200 OK\"\n",
      "100%|█████████▉| 665/666 [1:06:31<00:08,  8.29s/it]"
     ]
    },
    {
     "name": "stdout",
     "output_type": "stream",
     "text": [
      "Saved in DB 665 of 666\n"
     ]
    },
    {
     "name": "stderr",
     "output_type": "stream",
     "text": [
      "03/05/2024 05:29:27 PM - HTTP Request: POST https://api.openai.com/v1/chat/completions \"HTTP/1.1 200 OK\"\n",
      "03/05/2024 05:29:36 PM - HTTP Request: POST https://api.openai.com/v1/chat/completions \"HTTP/1.1 200 OK\"\n",
      "03/05/2024 05:29:43 PM - HTTP Request: POST https://api.openai.com/v1/chat/completions \"HTTP/1.1 200 OK\"\n",
      "100%|██████████| 666/666 [1:06:56<00:00,  6.03s/it]"
     ]
    },
    {
     "name": "stdout",
     "output_type": "stream",
     "text": [
      "Model error:\n",
      "1 validation error for ArticleSentiment\n",
      "sentiments.0.citations\n",
      "  Value error, Either both a score and citations are present            or neither are. [type=value_error, input_value=[{'quote': \"O porta-voz d...ireita.\", 'score': 0.3}], input_type=list]\n",
      "    For further information visit https://errors.pydantic.dev/2.5/v/value_error\n",
      "Saved in DB 666 of 666\n"
     ]
    },
    {
     "name": "stderr",
     "output_type": "stream",
     "text": [
      "\n"
     ]
    }
   ],
   "source": [
    "sentiment_analysis = SentimentAnalysis()\n",
    "sentiment_analysis.load_articles()#, refresh=True)\n",
    "#sentiment_analysis.articles_df\n",
    "df = sentiment_analysis.get_sentiments()\n",
    "df"
   ]
  },
  {
   "cell_type": "code",
   "execution_count": 27,
   "metadata": {},
   "outputs": [
    {
     "name": "stdout",
     "output_type": "stream",
     "text": [
      "2 validation errors for Citation\n",
      "quote\n",
      "  Value error, Citation `me and you` not found in article_n_meta, match_ratio: 0.0 [type=value_error, input_value='me and you', input_type=str]\n",
      "    For further information visit https://errors.pydantic.dev/2.5/v/value_error\n",
      "score\n",
      "  Input should be less than or equal to 1 [type=less_than_equal, input_value=2, input_type=int]\n",
      "    For further information visit https://errors.pydantic.dev/2.5/v/less_than_equal\n",
      "[{\"type\":\"value_error\",\"loc\":[\"quote\"],\"msg\":\"Value error, Citation `me and you` not found in article_n_meta, match_ratio: 0.0\",\"input\":\"me and you\",\"ctx\":{\"error\":\"Citation `me and you` not found in article_n_meta, match_ratio: 0.0\"},\"url\":\"https://errors.pydantic.dev/2.5/v/value_error\"},{\"type\":\"less_than_equal\",\"loc\":[\"score\"],\"msg\":\"Input should be less than or equal to 1\",\"input\":2,\"ctx\":{\"le\":1.0},\"url\":\"https://errors.pydantic.dev/2.5/v/less_than_equal\"}]\n"
     ]
    }
   ],
   "source": [
    "from elections.data_schemas import Citation\n",
    "\n",
    "try:\n",
    "    Citation.model_validate({\"quote\": \"me and you\", \"score\": 2}, context={\"quote\": \"me alone\"})\n",
    "except (ValidationError, ValueError) as e:\n",
    "    val_error = e\n",
    "\n",
    "print(val_error)\n",
    "print(val_error.json())"
   ]
  }
 ],
 "metadata": {
  "kernelspec": {
   "display_name": "elections",
   "language": "python",
   "name": "python3"
  },
  "language_info": {
   "codemirror_mode": {
    "name": "ipython",
    "version": 3
   },
   "file_extension": ".py",
   "mimetype": "text/x-python",
   "name": "python",
   "nbconvert_exporter": "python",
   "pygments_lexer": "ipython3",
   "version": "3.12.0"
  }
 },
 "nbformat": 4,
 "nbformat_minor": 2
}
