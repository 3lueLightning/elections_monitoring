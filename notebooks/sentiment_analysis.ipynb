{
 "cells": [
  {
   "cell_type": "code",
   "execution_count": 1,
   "metadata": {},
   "outputs": [],
   "source": [
    "%reload_ext autoreload\n",
    "%autoreload 2"
   ]
  },
  {
   "cell_type": "code",
   "execution_count": 2,
   "metadata": {},
   "outputs": [],
   "source": [
    "import json\n",
    "\n",
    "from openai import OpenAI\n",
    "\n",
    "from elections import constants\n",
    "from elections.utils import escape_quotes_within_citation \n",
    "from elections.prompts.templates import sentiment_template"
   ]
  },
  {
   "cell_type": "code",
   "execution_count": 23,
   "metadata": {},
   "outputs": [],
   "source": [
    "client = OpenAI()"
   ]
  },
  {
   "cell_type": "code",
   "execution_count": null,
   "metadata": {},
   "outputs": [],
   "source": [
    "sentiment = client.chat.completions.create(\n",
    "    model=\"gpt-3.5-turbo\",\n",
    "    messages=[{\"role\": \"user\", \"content\": \"Say this is a test\"}],\n",
    ")\n",
    "\n",
    "sentiment.choices[0].message.content"
   ]
  },
  {
   "cell_type": "code",
   "execution_count": 26,
   "metadata": {},
   "outputs": [
    {
     "name": "stdout",
     "output_type": "stream",
     "text": [
      "TASK\n",
      "You will be provided with a document delimited by triple quotes and a question. Your task is to answer the question using only the provided document and to cite the passage(s) of the document used to answer the question. If the document does not contain the information needed to answer this question, then simply write: {}.If an answer to the question is provided, it must be in the following JSON format, the terms surrounded by < > are variables: [{\"name\": \"<politician name>\",\"score\": <the score you determined>,\"citations\": [{\"citation\": \"<citation 1>\",\"positive_proba\": <probability>}]}]\n",
      "\n",
      "PROCESS\n",
      "Take your time to answer the question and go through the following steps:\n",
      "1.\tidentify all the politicians in the article who are present in this list: ['Pedro Nuno Santos', 'Luís Montenegro', 'André Ventura', 'Rui Rocha', 'Mariana Mortágua', 'Paulo Raimundo', 'Inês de Sousa Real', 'Rui Tavares']\n",
      "2.\tfor each politician identify the parts of the article that refer to them\n",
      "3.\tfor each part determine the probability that it is good\n",
      "4.\tfor all parts that contain an opinion include them in the citations of the    corresponding politician and indicate the probability of it being positive    in the field positive_proba \n",
      "5.\tbased on all the citations you identified provide a final score to the    politician that reflects the overall opinion\n",
      "\n"
     ]
    }
   ],
   "source": [
    "print(\n",
    "    sentiment_template.SYSTEM_PROMPT.format(\n",
    "        politicians=constants.POLITICIANS,\n",
    "        json_format=sentiment_template.JSON_FORMAT\n",
    "    )\n",
    ")"
   ]
  },
  {
   "cell_type": "code",
   "execution_count": 18,
   "metadata": {},
   "outputs": [
    {
     "name": "stdout",
     "output_type": "stream",
     "text": [
      "ARTICLE:\n",
      "\"\"\"{article}\"\"\"  \n",
      "\n",
      "QUESTION: \n",
      "Only provide a JSON for your analysis and nothing more. The politicians score goes from 1 to 5 (with 1 being extremely bad). If the opinion is neutral provide a 3, if the article is only factual and does not have an opinion then the score should be None. \n",
      "\n"
     ]
    }
   ],
   "source": [
    "print(sentiment_template.USER_PROMPT)"
   ]
  },
  {
   "cell_type": "code",
   "execution_count": 19,
   "metadata": {},
   "outputs": [
    {
     "data": {
      "text/html": [
       "<div>\n",
       "<style scoped>\n",
       "    .dataframe tbody tr th:only-of-type {\n",
       "        vertical-align: middle;\n",
       "    }\n",
       "\n",
       "    .dataframe tbody tr th {\n",
       "        vertical-align: top;\n",
       "    }\n",
       "\n",
       "    .dataframe thead th {\n",
       "        text-align: right;\n",
       "    }\n",
       "</style>\n",
       "<table border=\"1\" class=\"dataframe\">\n",
       "  <thead>\n",
       "    <tr style=\"text-align: right;\">\n",
       "      <th></th>\n",
       "      <th>title</th>\n",
       "      <th>description</th>\n",
       "      <th>pubdate</th>\n",
       "      <th>publisher</th>\n",
       "      <th>url</th>\n",
       "      <th>summary</th>\n",
       "      <th>keywords</th>\n",
       "      <th>text</th>\n",
       "      <th>creation_datetime</th>\n",
       "      <th>query</th>\n",
       "    </tr>\n",
       "  </thead>\n",
       "  <tbody>\n",
       "    <tr>\n",
       "      <th>0</th>\n",
       "      <td>Campanha a todo o gás e a prometedora entrevis...</td>\n",
       "      <td>Campanha a todo o gás e a prometedora entrevis...</td>\n",
       "      <td>2023-12-01T08:00:00</td>\n",
       "      <td>SIC Notícias</td>\n",
       "      <td>https://news.google.com/rss/articles/CBMilwFod...</td>\n",
       "      <td>Para Luís Montenegro, é \"indiferente\" quem suc...</td>\n",
       "      <td>[\"costa\", \"sic\", \"luís\", \"prometedora\", \"antón...</td>\n",
       "      <td>Para Luís Montenegro, é \"indiferente\" quem suc...</td>\n",
       "      <td>2024-02-11T17:26:45.678832</td>\n",
       "      <td>'Luis Montenegro'</td>\n",
       "    </tr>\n",
       "    <tr>\n",
       "      <th>1</th>\n",
       "      <td>\"Estamos mais preparados do que quaisquer outr...</td>\n",
       "      <td>\"Estamos mais preparados do que quaisquer outr...</td>\n",
       "      <td>2023-12-02T08:00:00</td>\n",
       "      <td>Expresso</td>\n",
       "      <td>https://news.google.com/rss/articles/CBMijwFod...</td>\n",
       "      <td>O presidente do PSD defendeu este sábado que o...</td>\n",
       "      <td>[\"governar\", \"quaisquer\", \"programa\", \"preside...</td>\n",
       "      <td>O presidente do PSD defendeu este sábado que o...</td>\n",
       "      <td>2024-02-11T17:26:45.678832</td>\n",
       "      <td>'Luis Montenegro'</td>\n",
       "    </tr>\n",
       "    <tr>\n",
       "      <th>2</th>\n",
       "      <td>Luís Montenegro: “Qualquer pessoa tem o direit...</td>\n",
       "      <td>Luís Montenegro: “Qualquer pessoa tem o direit...</td>\n",
       "      <td>2024-02-10T15:30:00</td>\n",
       "      <td>Expresso</td>\n",
       "      <td>https://news.google.com/rss/articles/CBMiwgFod...</td>\n",
       "      <td>O cabeça de lista por Lisboa da Aliança Democr...</td>\n",
       "      <td>[\"sá\", \"tentou\", \"utilizar\", \"sic\", \"socialdem...</td>\n",
       "      <td>O cabeça de lista por Lisboa da Aliança Democr...</td>\n",
       "      <td>2024-02-11T17:40:25.902188</td>\n",
       "      <td>'Luis Montenegro'</td>\n",
       "    </tr>\n",
       "    <tr>\n",
       "      <th>3</th>\n",
       "      <td>Luís Montenegro nega “falta de comparência do ...</td>\n",
       "      <td>Luís Montenegro nega “falta de comparência do ...</td>\n",
       "      <td>2024-02-03T08:15:00</td>\n",
       "      <td>SIC Notícias</td>\n",
       "      <td>https://news.google.com/rss/articles/CBMioQFod...</td>\n",
       "      <td>Para já, Luís Montenegro enfrenta a ameaça do ...</td>\n",
       "      <td>[\"política\", \"passos\", \"casa\", \"espinho\", \"luí...</td>\n",
       "      <td>Aos 9 anos ia a pé para a escola e já “tinha a...</td>\n",
       "      <td>2024-02-11T17:40:25.902188</td>\n",
       "      <td>'Luis Montenegro'</td>\n",
       "    </tr>\n",
       "    <tr>\n",
       "      <th>4</th>\n",
       "      <td>Luís Montenegro recusa ter medo de debates pol...</td>\n",
       "      <td>Luís Montenegro recusa ter medo de debates pol...</td>\n",
       "      <td>2024-02-08T19:55:48</td>\n",
       "      <td>Público</td>\n",
       "      <td>https://news.google.com/rss/articles/CBMiaGh0d...</td>\n",
       "      <td>Líder social-democrata não responde a repto de...</td>\n",
       "      <td>[\"medo\", \"luís\", \"políticos\", \"ad\", \"debate\", ...</td>\n",
       "      <td>Líder social-democrata não responde a repto de...</td>\n",
       "      <td>2024-02-11T17:40:25.902188</td>\n",
       "      <td>'Luis Montenegro'</td>\n",
       "    </tr>\n",
       "  </tbody>\n",
       "</table>\n",
       "</div>"
      ],
      "text/plain": [
       "                                               title  \\\n",
       "0  Campanha a todo o gás e a prometedora entrevis...   \n",
       "1  \"Estamos mais preparados do que quaisquer outr...   \n",
       "2  Luís Montenegro: “Qualquer pessoa tem o direit...   \n",
       "3  Luís Montenegro nega “falta de comparência do ...   \n",
       "4  Luís Montenegro recusa ter medo de debates pol...   \n",
       "\n",
       "                                         description              pubdate  \\\n",
       "0  Campanha a todo o gás e a prometedora entrevis...  2023-12-01T08:00:00   \n",
       "1  \"Estamos mais preparados do que quaisquer outr...  2023-12-02T08:00:00   \n",
       "2  Luís Montenegro: “Qualquer pessoa tem o direit...  2024-02-10T15:30:00   \n",
       "3  Luís Montenegro nega “falta de comparência do ...  2024-02-03T08:15:00   \n",
       "4  Luís Montenegro recusa ter medo de debates pol...  2024-02-08T19:55:48   \n",
       "\n",
       "      publisher                                                url  \\\n",
       "0  SIC Notícias  https://news.google.com/rss/articles/CBMilwFod...   \n",
       "1      Expresso  https://news.google.com/rss/articles/CBMijwFod...   \n",
       "2      Expresso  https://news.google.com/rss/articles/CBMiwgFod...   \n",
       "3  SIC Notícias  https://news.google.com/rss/articles/CBMioQFod...   \n",
       "4       Público  https://news.google.com/rss/articles/CBMiaGh0d...   \n",
       "\n",
       "                                             summary  \\\n",
       "0  Para Luís Montenegro, é \"indiferente\" quem suc...   \n",
       "1  O presidente do PSD defendeu este sábado que o...   \n",
       "2  O cabeça de lista por Lisboa da Aliança Democr...   \n",
       "3  Para já, Luís Montenegro enfrenta a ameaça do ...   \n",
       "4  Líder social-democrata não responde a repto de...   \n",
       "\n",
       "                                            keywords  \\\n",
       "0  [\"costa\", \"sic\", \"luís\", \"prometedora\", \"antón...   \n",
       "1  [\"governar\", \"quaisquer\", \"programa\", \"preside...   \n",
       "2  [\"sá\", \"tentou\", \"utilizar\", \"sic\", \"socialdem...   \n",
       "3  [\"política\", \"passos\", \"casa\", \"espinho\", \"luí...   \n",
       "4  [\"medo\", \"luís\", \"políticos\", \"ad\", \"debate\", ...   \n",
       "\n",
       "                                                text  \\\n",
       "0  Para Luís Montenegro, é \"indiferente\" quem suc...   \n",
       "1  O presidente do PSD defendeu este sábado que o...   \n",
       "2  O cabeça de lista por Lisboa da Aliança Democr...   \n",
       "3  Aos 9 anos ia a pé para a escola e já “tinha a...   \n",
       "4  Líder social-democrata não responde a repto de...   \n",
       "\n",
       "            creation_datetime              query  \n",
       "0  2024-02-11T17:26:45.678832  'Luis Montenegro'  \n",
       "1  2024-02-11T17:26:45.678832  'Luis Montenegro'  \n",
       "2  2024-02-11T17:40:25.902188  'Luis Montenegro'  \n",
       "3  2024-02-11T17:40:25.902188  'Luis Montenegro'  \n",
       "4  2024-02-11T17:40:25.902188  'Luis Montenegro'  "
      ]
     },
     "execution_count": 19,
     "metadata": {},
     "output_type": "execute_result"
    }
   ],
   "source": [
    "import sqlite3\n",
    "import pandas as pd\n",
    "from elections import constants\n",
    "\n",
    "engine = sqlite3.connect(constants.NEWS_DB)\n",
    "df = pd.read_sql(\"SELECT * FROM articles LIMIT 5\", engine)\n",
    "df"
   ]
  },
  {
   "cell_type": "code",
   "execution_count": 25,
   "metadata": {},
   "outputs": [
    {
     "name": "stdout",
     "output_type": "stream",
     "text": [
      "Para Luís Montenegro, é \"indiferente\" quem sucederá a António Costa na liderança do Partido Socialista, mas não para Pedro Delgado Alves e José Eduardo Martins, neste Antes Pelo Contrário em podcast. Em entrevista à SIC, o líder do PSD lembrou que tanto José Luís Carneiro como Pedro Nuno Santos \"fizeram parte dos governos de António Costa\" que, segundo a sua avaliação, tiveram \"muito pouco investimento público\". Mas é ao antigo ministro das Infraestruturas que dirigiu o maior ataque: \"Está associado a três das maiores trapalhadas que este governo trouxe para a política portuguesa\". O Antes Pelo Contrário foi emitido a 30 de novembro na SIC Notícias.\n"
     ]
    }
   ],
   "source": [
    "print(\n",
    "    df[\"text\"][0]\n",
    ")"
   ]
  },
  {
   "cell_type": "code",
   "execution_count": 52,
   "metadata": {},
   "outputs": [
    {
     "data": {
      "text/plain": [
       "'[{\"name\": \"Luís Montenegro\", \"score\": 3, \"citations\": []}, {\"name\": \"Pedro Nuno Santos\", \"score\": 2, \"citations\": [{\"citation\": \"O líder do PSD lembrou que tanto José Luís Carneiro como Pedro Nuno Santos \"fizeram parte dos governos de António Costa\" que, segundo a sua avaliação, tiveram \"muito pouco investimento público\".\", \"positive_proba\": 0.4}]}]'"
      ]
     },
     "execution_count": 52,
     "metadata": {},
     "output_type": "execute_result"
    }
   ],
   "source": [
    "system_prompt = sentiment_template.SYSTEM_PROMPT.format(\n",
    "    politicians=constants.POLITICIANS,\n",
    "    json_format=sentiment_template.JSON_FORMAT\n",
    ")\n",
    "\n",
    "user_prompts = df[\"text\"].apply(\n",
    "    lambda x: sentiment_template.USER_PROMPT.format(article=x)\n",
    ")\n",
    "\n",
    "sentiment = client.chat.completions.create(\n",
    "    model=\"gpt-3.5-turbo\",\n",
    "    messages=[\n",
    "        {\"role\": \"system\", \"content\": system_prompt},\n",
    "        {\"role\": \"user\", \"content\": user_prompts[0]}],\n",
    ")\n",
    "\n",
    "sentiment.choices[0].message.content"
   ]
  },
  {
   "cell_type": "code",
   "execution_count": 107,
   "metadata": {},
   "outputs": [],
   "source": [
    "from json_repair import repair_json\n",
    "\n",
    "def process_sentiment(resp):\n",
    "    sentiment = resp.choices[0].message.content\n",
    "    try:\n",
    "        sentiment = json.loads(sentiment)\n",
    "    except json.JSONDecodeError:\n",
    "        sentiment = escape_quotes_within_citation(sentiment)\n",
    "    sentiment = repair_json(sentiment, return_objects=True)\n",
    "    sentiment = [\n",
    "        opinion if opinion[\"citations\"] \n",
    "        else {\"name\": opinion[\"name\"], \"score\": \"None\", \"citations\": []}\n",
    "        for opinion in sentiment\n",
    "    ]\n",
    "    return sentiment"
   ]
  },
  {
   "cell_type": "code",
   "execution_count": 108,
   "metadata": {},
   "outputs": [
    {
     "data": {
      "text/plain": [
       "[{'name': 'Luís Montenegro', 'score': 'None', 'citations': []},\n",
       " {'name': 'Pedro Nuno Santos',\n",
       "  'score': 2,\n",
       "  'citations': [{'citation': 'O líder do PSD lembrou que tanto José Luís Carneiro como Pedro Nuno Santos \"fizeram parte dos governos de António Costa\" que, segundo a sua avaliação, tiveram \"muito pouco investimento público\".',\n",
       "    'positive_proba': 0.4}]}]"
      ]
     },
     "execution_count": 108,
     "metadata": {},
     "output_type": "execute_result"
    }
   ],
   "source": [
    "process_sentiment(sentiment)"
   ]
  },
  {
   "cell_type": "code",
   "execution_count": 64,
   "metadata": {},
   "outputs": [
    {
     "data": {
      "text/plain": [
       "[{'name': 'Luís Montenegro', 'score': 'None', 'citations': []},\n",
       " {'name': 'Pedro Nuno Santos',\n",
       "  'score': 2,\n",
       "  'citations': [{'citation': 'O líder do PSD lembrou que tanto José Luís Carneiro como Pedro Nuno Santos ',\n",
       "    'Costa': 'que',\n",
       "    'muito pouco investimento público': ', ',\n",
       "    'positive_proba': 0.4}]}]"
      ]
     },
     "execution_count": 64,
     "metadata": {},
     "output_type": "execute_result"
    }
   ],
   "source": []
  },
  {
   "cell_type": "code",
   "execution_count": 57,
   "metadata": {},
   "outputs": [
    {
     "data": {
      "text/plain": [
       "[{'name': 'Luís Montenegro', 'score': 3, 'citations': []},\n",
       " {'name': 'Pedro Nuno Santos',\n",
       "  'score': 2,\n",
       "  'citations': [{'citation': 'O líder do PSD lembrou que tanto José Luís Carneiro como Pedro Nuno Santos ',\n",
       "    'Costa': 'que',\n",
       "    'muito pouco investimento público': ', ',\n",
       "    'positive_proba': 0.4}]}]"
      ]
     },
     "execution_count": 57,
     "metadata": {},
     "output_type": "execute_result"
    }
   ],
   "source": [
    "json.loads(good_json_string)"
   ]
  },
  {
   "cell_type": "code",
   "execution_count": 53,
   "metadata": {},
   "outputs": [
    {
     "ename": "JSONDecodeError",
     "evalue": "Expecting ',' delimiter: line 1 column 206 (char 205)",
     "output_type": "error",
     "traceback": [
      "\u001b[0;31m---------------------------------------------------------------------------\u001b[0m",
      "\u001b[0;31mJSONDecodeError\u001b[0m                           Traceback (most recent call last)",
      "Cell \u001b[0;32mIn[53], line 2\u001b[0m\n\u001b[1;32m      1\u001b[0m \u001b[38;5;28;01mimport\u001b[39;00m \u001b[38;5;21;01mjson\u001b[39;00m\n\u001b[0;32m----> 2\u001b[0m \u001b[43mjson\u001b[49m\u001b[38;5;241;43m.\u001b[39;49m\u001b[43mloads\u001b[49m\u001b[43m(\u001b[49m\u001b[43msentiment\u001b[49m\u001b[38;5;241;43m.\u001b[39;49m\u001b[43mchoices\u001b[49m\u001b[43m[\u001b[49m\u001b[38;5;241;43m0\u001b[39;49m\u001b[43m]\u001b[49m\u001b[38;5;241;43m.\u001b[39;49m\u001b[43mmessage\u001b[49m\u001b[38;5;241;43m.\u001b[39;49m\u001b[43mcontent\u001b[49m\u001b[43m)\u001b[49m\n",
      "File \u001b[0;32m~/anaconda3/envs/elections/lib/python3.12/json/__init__.py:346\u001b[0m, in \u001b[0;36mloads\u001b[0;34m(s, cls, object_hook, parse_float, parse_int, parse_constant, object_pairs_hook, **kw)\u001b[0m\n\u001b[1;32m    341\u001b[0m     s \u001b[38;5;241m=\u001b[39m s\u001b[38;5;241m.\u001b[39mdecode(detect_encoding(s), \u001b[38;5;124m'\u001b[39m\u001b[38;5;124msurrogatepass\u001b[39m\u001b[38;5;124m'\u001b[39m)\n\u001b[1;32m    343\u001b[0m \u001b[38;5;28;01mif\u001b[39;00m (\u001b[38;5;28mcls\u001b[39m \u001b[38;5;129;01mis\u001b[39;00m \u001b[38;5;28;01mNone\u001b[39;00m \u001b[38;5;129;01mand\u001b[39;00m object_hook \u001b[38;5;129;01mis\u001b[39;00m \u001b[38;5;28;01mNone\u001b[39;00m \u001b[38;5;129;01mand\u001b[39;00m\n\u001b[1;32m    344\u001b[0m         parse_int \u001b[38;5;129;01mis\u001b[39;00m \u001b[38;5;28;01mNone\u001b[39;00m \u001b[38;5;129;01mand\u001b[39;00m parse_float \u001b[38;5;129;01mis\u001b[39;00m \u001b[38;5;28;01mNone\u001b[39;00m \u001b[38;5;129;01mand\u001b[39;00m\n\u001b[1;32m    345\u001b[0m         parse_constant \u001b[38;5;129;01mis\u001b[39;00m \u001b[38;5;28;01mNone\u001b[39;00m \u001b[38;5;129;01mand\u001b[39;00m object_pairs_hook \u001b[38;5;129;01mis\u001b[39;00m \u001b[38;5;28;01mNone\u001b[39;00m \u001b[38;5;129;01mand\u001b[39;00m \u001b[38;5;129;01mnot\u001b[39;00m kw):\n\u001b[0;32m--> 346\u001b[0m     \u001b[38;5;28;01mreturn\u001b[39;00m \u001b[43m_default_decoder\u001b[49m\u001b[38;5;241;43m.\u001b[39;49m\u001b[43mdecode\u001b[49m\u001b[43m(\u001b[49m\u001b[43ms\u001b[49m\u001b[43m)\u001b[49m\n\u001b[1;32m    347\u001b[0m \u001b[38;5;28;01mif\u001b[39;00m \u001b[38;5;28mcls\u001b[39m \u001b[38;5;129;01mis\u001b[39;00m \u001b[38;5;28;01mNone\u001b[39;00m:\n\u001b[1;32m    348\u001b[0m     \u001b[38;5;28mcls\u001b[39m \u001b[38;5;241m=\u001b[39m JSONDecoder\n",
      "File \u001b[0;32m~/anaconda3/envs/elections/lib/python3.12/json/decoder.py:337\u001b[0m, in \u001b[0;36mJSONDecoder.decode\u001b[0;34m(self, s, _w)\u001b[0m\n\u001b[1;32m    332\u001b[0m \u001b[38;5;28;01mdef\u001b[39;00m \u001b[38;5;21mdecode\u001b[39m(\u001b[38;5;28mself\u001b[39m, s, _w\u001b[38;5;241m=\u001b[39mWHITESPACE\u001b[38;5;241m.\u001b[39mmatch):\n\u001b[1;32m    333\u001b[0m \u001b[38;5;250m    \u001b[39m\u001b[38;5;124;03m\"\"\"Return the Python representation of ``s`` (a ``str`` instance\u001b[39;00m\n\u001b[1;32m    334\u001b[0m \u001b[38;5;124;03m    containing a JSON document).\u001b[39;00m\n\u001b[1;32m    335\u001b[0m \n\u001b[1;32m    336\u001b[0m \u001b[38;5;124;03m    \"\"\"\u001b[39;00m\n\u001b[0;32m--> 337\u001b[0m     obj, end \u001b[38;5;241m=\u001b[39m \u001b[38;5;28;43mself\u001b[39;49m\u001b[38;5;241;43m.\u001b[39;49m\u001b[43mraw_decode\u001b[49m\u001b[43m(\u001b[49m\u001b[43ms\u001b[49m\u001b[43m,\u001b[49m\u001b[43m \u001b[49m\u001b[43midx\u001b[49m\u001b[38;5;241;43m=\u001b[39;49m\u001b[43m_w\u001b[49m\u001b[43m(\u001b[49m\u001b[43ms\u001b[49m\u001b[43m,\u001b[49m\u001b[43m \u001b[49m\u001b[38;5;241;43m0\u001b[39;49m\u001b[43m)\u001b[49m\u001b[38;5;241;43m.\u001b[39;49m\u001b[43mend\u001b[49m\u001b[43m(\u001b[49m\u001b[43m)\u001b[49m\u001b[43m)\u001b[49m\n\u001b[1;32m    338\u001b[0m     end \u001b[38;5;241m=\u001b[39m _w(s, end)\u001b[38;5;241m.\u001b[39mend()\n\u001b[1;32m    339\u001b[0m     \u001b[38;5;28;01mif\u001b[39;00m end \u001b[38;5;241m!=\u001b[39m \u001b[38;5;28mlen\u001b[39m(s):\n",
      "File \u001b[0;32m~/anaconda3/envs/elections/lib/python3.12/json/decoder.py:353\u001b[0m, in \u001b[0;36mJSONDecoder.raw_decode\u001b[0;34m(self, s, idx)\u001b[0m\n\u001b[1;32m    344\u001b[0m \u001b[38;5;250m\u001b[39m\u001b[38;5;124;03m\"\"\"Decode a JSON document from ``s`` (a ``str`` beginning with\u001b[39;00m\n\u001b[1;32m    345\u001b[0m \u001b[38;5;124;03ma JSON document) and return a 2-tuple of the Python\u001b[39;00m\n\u001b[1;32m    346\u001b[0m \u001b[38;5;124;03mrepresentation and the index in ``s`` where the document ended.\u001b[39;00m\n\u001b[0;32m   (...)\u001b[0m\n\u001b[1;32m    350\u001b[0m \n\u001b[1;32m    351\u001b[0m \u001b[38;5;124;03m\"\"\"\u001b[39;00m\n\u001b[1;32m    352\u001b[0m \u001b[38;5;28;01mtry\u001b[39;00m:\n\u001b[0;32m--> 353\u001b[0m     obj, end \u001b[38;5;241m=\u001b[39m \u001b[38;5;28;43mself\u001b[39;49m\u001b[38;5;241;43m.\u001b[39;49m\u001b[43mscan_once\u001b[49m\u001b[43m(\u001b[49m\u001b[43ms\u001b[49m\u001b[43m,\u001b[49m\u001b[43m \u001b[49m\u001b[43midx\u001b[49m\u001b[43m)\u001b[49m\n\u001b[1;32m    354\u001b[0m \u001b[38;5;28;01mexcept\u001b[39;00m \u001b[38;5;167;01mStopIteration\u001b[39;00m \u001b[38;5;28;01mas\u001b[39;00m err:\n\u001b[1;32m    355\u001b[0m     \u001b[38;5;28;01mraise\u001b[39;00m JSONDecodeError(\u001b[38;5;124m\"\u001b[39m\u001b[38;5;124mExpecting value\u001b[39m\u001b[38;5;124m\"\u001b[39m, s, err\u001b[38;5;241m.\u001b[39mvalue) \u001b[38;5;28;01mfrom\u001b[39;00m \u001b[38;5;28;01mNone\u001b[39;00m\n",
      "\u001b[0;31mJSONDecodeError\u001b[0m: Expecting ',' delimiter: line 1 column 206 (char 205)"
     ]
    }
   ],
   "source": [
    "import json\n",
    "json.loads(sentiment.choices[0].message.content)"
   ]
  },
  {
   "cell_type": "code",
   "execution_count": null,
   "metadata": {},
   "outputs": [],
   "source": [
    "print(\n",
    "    sentiment_template.SYSTEM_PROMPT.format(\n",
    "        politicians=constants.POLITICIANS,\n",
    "        json_format=sentiment_template.JSON_FORMAT\n",
    "    )\n",
    ")"
   ]
  },
  {
   "cell_type": "code",
   "execution_count": null,
   "metadata": {},
   "outputs": [],
   "source": [
    "print(sentiment.choices[0].message.content)"
   ]
  }
 ],
 "metadata": {
  "kernelspec": {
   "display_name": "elections",
   "language": "python",
   "name": "python3"
  },
  "language_info": {
   "codemirror_mode": {
    "name": "ipython",
    "version": 3
   },
   "file_extension": ".py",
   "mimetype": "text/x-python",
   "name": "python",
   "nbconvert_exporter": "python",
   "pygments_lexer": "ipython3",
   "version": "3.12.0"
  }
 },
 "nbformat": 4,
 "nbformat_minor": 2
}
