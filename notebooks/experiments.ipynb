{
 "cells": [
  {
   "cell_type": "code",
   "execution_count": 1,
   "metadata": {},
   "outputs": [],
   "source": [
    "import instructor\n",
    "\n",
    "from openai import OpenAI\n",
    "from pydantic import BaseModel"
   ]
  },
  {
   "cell_type": "code",
   "execution_count": 2,
   "metadata": {},
   "outputs": [],
   "source": [
    "client = instructor.patch(OpenAI())"
   ]
  },
  {
   "cell_type": "code",
   "execution_count": 3,
   "metadata": {},
   "outputs": [],
   "source": [
    "class User(BaseModel):\n",
    "    name: str\n",
    "    email: str\n",
    "    twitter: str"
   ]
  },
  {
   "cell_type": "code",
   "execution_count": 8,
   "metadata": {},
   "outputs": [
    {
     "name": "stdout",
     "output_type": "stream",
     "text": [
      "name='User' email='user@example.com' twitter='@example'\n"
     ]
    }
   ],
   "source": [
    "from typing import Iterable\n",
    "\n",
    "Users = Iterable[User]\n",
    "\n",
    "client = instructor.patch(OpenAI())\n",
    "\n",
    "users = client.chat.completions.create(\n",
    "    model=\"gpt-3.5-turbo\",\n",
    "    temperature=0.1,\n",
    "    stream=True,\n",
    "    response_model=Users,\n",
    "    messages=[\n",
    "        {\n",
    "            \"role\": \"system\",\n",
    "            \"content\": \"You are a perfect entity extraction system\",\n",
    "        },\n",
    "        {\n",
    "            \"role\": \"user\",\n",
    "            \"content\": (\n",
    "                f\"Consider the data below:\\n{input}\"\n",
    "                \"Correctly segment it into entitites\"\n",
    "                \"Make sure the JSON is correct\"\n",
    "            ),\n",
    "        },\n",
    "    ],\n",
    "    max_tokens=1000,\n",
    ")\n",
    "\n",
    "for user in users:\n",
    "    assert isinstance(user, User)\n",
    "    print(user)\n",
    "\n",
    "\n",
    "#> name=\"Jason\" \"age\"=10\n",
    "#> name=\"John\" \"age\"=10\n",
    "\n"
   ]
  }
 ],
 "metadata": {
  "kernelspec": {
   "display_name": "elections",
   "language": "python",
   "name": "python3"
  },
  "language_info": {
   "codemirror_mode": {
    "name": "ipython",
    "version": 3
   },
   "file_extension": ".py",
   "mimetype": "text/x-python",
   "name": "python",
   "nbconvert_exporter": "python",
   "pygments_lexer": "ipython3",
   "version": "3.12.0"
  }
 },
 "nbformat": 4,
 "nbformat_minor": 2
}
