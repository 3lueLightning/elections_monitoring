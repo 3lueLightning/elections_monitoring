{
 "cells": [
  {
   "cell_type": "code",
   "execution_count": 1,
   "metadata": {},
   "outputs": [],
   "source": [
    "import instructor\n",
    "\n",
    "from openai import OpenAI\n",
    "from pydantic import BaseModel"
   ]
  },
  {
   "cell_type": "markdown",
   "metadata": {},
   "source": [
    "Issue with loggin in VScode: solve by applying \n",
    "https://stackoverflow.com/questions/63872967/duplicate-log-lines-in-vscode-when-debugging-asp-net-core-app"
   ]
  },
  {
   "cell_type": "code",
   "execution_count": 6,
   "metadata": {},
   "outputs": [
    {
     "name": "stderr",
     "output_type": "stream",
     "text": [
      "This is an warning iubtyiugvyt\n",
      "This is an warning iubtyiugvyt\n",
      "This is an warning iubtyiugvyt\n",
      "This is an warning iubtyiugvyt\n",
      "This is an warning iubtyiugvyt\n",
      "This is an warning iubtyiugvyt\n"
     ]
    }
   ],
   "source": [
    "import logging\n",
    "\n",
    "name = \"uibuybyu\"\n",
    "logger = logging.getLogger(name)\n",
    "ch: logging.Handler = logging.StreamHandler()\n",
    "logger.addHandler(ch)\n",
    "\n",
    "    \n",
    "logger.info(\"This is a test inuygyubuyvtyhytv\")\n",
    "logger.warning(\"This is an warning iubtyiugvyt\")\n"
   ]
  }
 ],
 "metadata": {
  "kernelspec": {
   "display_name": "elections",
   "language": "python",
   "name": "python3"
  },
  "language_info": {
   "codemirror_mode": {
    "name": "ipython",
    "version": 3
   },
   "file_extension": ".py",
   "mimetype": "text/x-python",
   "name": "python",
   "nbconvert_exporter": "python",
   "pygments_lexer": "ipython3",
   "version": "3.12.0"
  }
 },
 "nbformat": 4,
 "nbformat_minor": 2
}
