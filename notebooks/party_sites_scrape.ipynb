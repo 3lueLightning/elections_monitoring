{
 "cells": [
  {
   "cell_type": "code",
   "execution_count": null,
   "metadata": {},
   "outputs": [],
   "source": [
    "%reload_ext autoreload\n",
    "%autoreload 2"
   ]
  },
  {
   "cell_type": "code",
   "execution_count": null,
   "metadata": {},
   "outputs": [],
   "source": [
    "from elections import constants\n",
    "from elections.scrapers.psd_scraper import PsdScrapper"
   ]
  },
  {
   "cell_type": "markdown",
   "metadata": {},
   "source": [
    "# Scrape PSD proposals"
   ]
  },
  {
   "cell_type": "code",
   "execution_count": null,
   "metadata": {},
   "outputs": [],
   "source": [
    "if not constants.POLITICAL_PATHS[\"psd\"].is_file():\n",
    "    psd = PsdScrapper()\n",
    "    psd.get()\n",
    "    psd.parse_proposals()\n",
    "    \n",
    "    constants.POLITICAL_PATHS[\"psd\"].parent.mkdir(parents=True, exist_ok=True)\n",
    "    psd.to_csv(constants.POLITICAL_PATHS[\"psd\"])"
   ]
  }
 ],
 "metadata": {
  "kernelspec": {
   "display_name": "elections",
   "language": "python",
   "name": "python3"
  },
  "language_info": {
   "name": "python",
   "version": "3.12.0"
  }
 },
 "nbformat": 4,
 "nbformat_minor": 2
}
