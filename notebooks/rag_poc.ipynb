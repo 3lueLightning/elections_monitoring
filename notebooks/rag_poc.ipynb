{
 "cells": [
  {
   "cell_type": "code",
   "execution_count": 6,
   "metadata": {},
   "outputs": [],
   "source": [
    "%reload_ext autoreload\n",
    "%autoreload 2"
   ]
  },
  {
   "cell_type": "code",
   "execution_count": 12,
   "metadata": {},
   "outputs": [],
   "source": [
    "from openai import OpenAI\n",
    "from pymilvus import connections, Collection\n",
    "\n",
    "from elections import constants\n",
    "from elections.ddl.articles_milvus_ddl import ARTICLES_COLLECTION"
   ]
  },
  {
   "cell_type": "code",
   "execution_count": 13,
   "metadata": {},
   "outputs": [],
   "source": [
    "client = OpenAI()\n",
    "\n",
    "# Connect to Milvus Database\n",
    "connections.connect(host=constants.MILVUS_HOST, port=constants.MIVLUS_PORT)"
   ]
  },
  {
   "cell_type": "code",
   "execution_count": null,
   "metadata": {},
   "outputs": [],
   "source": [
    "import sqlite3\n",
    "import pandas as pd\n",
    "from elections import constants\n",
    "\n",
    "engine = sqlite3.connect(constants.NEWS_DB)\n",
    "df = pd.read_sql(\"SELECT * FROM articles LIMIT 5\", engine)\n",
    "df"
   ]
  },
  {
   "cell_type": "code",
   "execution_count": 14,
   "metadata": {},
   "outputs": [],
   "source": [
    "def create_embeddings(texts):\n",
    "    embeddings = client.embeddings.create(\n",
    "        input=texts,\n",
    "        model=constants.OPENAI_EMBEDDING_MODEL\n",
    "    )\n",
    "    return [emb.embedding for emb in embeddings.data]\n",
    "\n",
    "\n",
    "article_embedding = create_embeddings(df[\"text\"])"
   ]
  },
  {
   "cell_type": "code",
   "execution_count": 33,
   "metadata": {},
   "outputs": [
    {
     "data": {
      "text/plain": [
       "(insert count: 5, delete count: 0, upsert count: 0, timestamp: 447727778622078979, success count: 5, err count: 0)"
      ]
     },
     "execution_count": 33,
     "metadata": {},
     "output_type": "execute_result"
    }
   ],
   "source": [
    "collection = Collection(name=ARTICLES_COLLECTION)\n",
    "collection.insert(df[[\"title\", \"description\", \"text\", \"embedding\"]])"
   ]
  },
  {
   "cell_type": "code",
   "execution_count": null,
   "metadata": {},
   "outputs": [],
   "source": [
    "for row in df.text:\n",
    "    print(row)\n",
    "    print(50 * \"=\")"
   ]
  },
  {
   "cell_type": "code",
   "execution_count": null,
   "metadata": {},
   "outputs": [],
   "source": []
  }
 ],
 "metadata": {
  "kernelspec": {
   "display_name": "elections",
   "language": "python",
   "name": "python3"
  },
  "language_info": {
   "codemirror_mode": {
    "name": "ipython",
    "version": 3
   },
   "file_extension": ".py",
   "mimetype": "text/x-python",
   "name": "python",
   "nbconvert_exporter": "python",
   "pygments_lexer": "ipython3",
   "version": "3.12.0"
  }
 },
 "nbformat": 4,
 "nbformat_minor": 2
}
