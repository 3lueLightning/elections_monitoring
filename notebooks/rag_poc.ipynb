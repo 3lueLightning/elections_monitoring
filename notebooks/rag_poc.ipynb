{
 "cells": [
  {
   "cell_type": "code",
   "execution_count": 6,
   "metadata": {},
   "outputs": [],
   "source": [
    "%reload_ext autoreload\n",
    "%autoreload 2"
   ]
  },
  {
   "cell_type": "code",
   "execution_count": 12,
   "metadata": {},
   "outputs": [],
   "source": [
    "from openai import OpenAI\n",
    "from pymilvus import connections, Collection\n",
    "\n",
    "from elections import constants\n",
    "from elections.ddl.articles_milvus_ddl import ARTICLES_COLLECTION"
   ]
  },
  {
   "cell_type": "code",
   "execution_count": 13,
   "metadata": {},
   "outputs": [],
   "source": [
    "client = OpenAI()\n",
    "\n",
    "# Connect to Milvus Database\n",
    "connections.connect(host=constants.MILVUS_HOST, port=constants.MIVLUS_PORT)"
   ]
  },
  {
   "cell_type": "code",
   "execution_count": 9,
   "metadata": {},
   "outputs": [
    {
     "data": {
      "text/html": [
       "<div>\n",
       "<style scoped>\n",
       "    .dataframe tbody tr th:only-of-type {\n",
       "        vertical-align: middle;\n",
       "    }\n",
       "\n",
       "    .dataframe tbody tr th {\n",
       "        vertical-align: top;\n",
       "    }\n",
       "\n",
       "    .dataframe thead th {\n",
       "        text-align: right;\n",
       "    }\n",
       "</style>\n",
       "<table border=\"1\" class=\"dataframe\">\n",
       "  <thead>\n",
       "    <tr style=\"text-align: right;\">\n",
       "      <th></th>\n",
       "      <th>title</th>\n",
       "      <th>description</th>\n",
       "      <th>pubdate</th>\n",
       "      <th>publisher</th>\n",
       "      <th>url</th>\n",
       "      <th>summary</th>\n",
       "      <th>keywords</th>\n",
       "      <th>text</th>\n",
       "      <th>creation_datetime</th>\n",
       "      <th>query</th>\n",
       "    </tr>\n",
       "  </thead>\n",
       "  <tbody>\n",
       "    <tr>\n",
       "      <th>0</th>\n",
       "      <td>Campanha a todo o gás e a prometedora entrevis...</td>\n",
       "      <td>Campanha a todo o gás e a prometedora entrevis...</td>\n",
       "      <td>2023-12-01T08:00:00</td>\n",
       "      <td>SIC Notícias</td>\n",
       "      <td>https://news.google.com/rss/articles/CBMilwFod...</td>\n",
       "      <td>Para Luís Montenegro, é \"indiferente\" quem suc...</td>\n",
       "      <td>[\"costa\", \"sic\", \"luís\", \"prometedora\", \"antón...</td>\n",
       "      <td>Para Luís Montenegro, é \"indiferente\" quem suc...</td>\n",
       "      <td>2024-02-11T17:26:45.678832</td>\n",
       "      <td>'Luis Montenegro'</td>\n",
       "    </tr>\n",
       "    <tr>\n",
       "      <th>1</th>\n",
       "      <td>\"Estamos mais preparados do que quaisquer outr...</td>\n",
       "      <td>\"Estamos mais preparados do que quaisquer outr...</td>\n",
       "      <td>2023-12-02T08:00:00</td>\n",
       "      <td>Expresso</td>\n",
       "      <td>https://news.google.com/rss/articles/CBMijwFod...</td>\n",
       "      <td>O presidente do PSD defendeu este sábado que o...</td>\n",
       "      <td>[\"governar\", \"quaisquer\", \"programa\", \"preside...</td>\n",
       "      <td>O presidente do PSD defendeu este sábado que o...</td>\n",
       "      <td>2024-02-11T17:26:45.678832</td>\n",
       "      <td>'Luis Montenegro'</td>\n",
       "    </tr>\n",
       "    <tr>\n",
       "      <th>2</th>\n",
       "      <td>Luís Montenegro: “Qualquer pessoa tem o direit...</td>\n",
       "      <td>Luís Montenegro: “Qualquer pessoa tem o direit...</td>\n",
       "      <td>2024-02-10T15:30:00</td>\n",
       "      <td>Expresso</td>\n",
       "      <td>https://news.google.com/rss/articles/CBMiwgFod...</td>\n",
       "      <td>O cabeça de lista por Lisboa da Aliança Democr...</td>\n",
       "      <td>[\"sá\", \"tentou\", \"utilizar\", \"sic\", \"socialdem...</td>\n",
       "      <td>O cabeça de lista por Lisboa da Aliança Democr...</td>\n",
       "      <td>2024-02-11T17:40:25.902188</td>\n",
       "      <td>'Luis Montenegro'</td>\n",
       "    </tr>\n",
       "    <tr>\n",
       "      <th>3</th>\n",
       "      <td>Luís Montenegro nega “falta de comparência do ...</td>\n",
       "      <td>Luís Montenegro nega “falta de comparência do ...</td>\n",
       "      <td>2024-02-03T08:15:00</td>\n",
       "      <td>SIC Notícias</td>\n",
       "      <td>https://news.google.com/rss/articles/CBMioQFod...</td>\n",
       "      <td>Para já, Luís Montenegro enfrenta a ameaça do ...</td>\n",
       "      <td>[\"política\", \"passos\", \"casa\", \"espinho\", \"luí...</td>\n",
       "      <td>Aos 9 anos ia a pé para a escola e já “tinha a...</td>\n",
       "      <td>2024-02-11T17:40:25.902188</td>\n",
       "      <td>'Luis Montenegro'</td>\n",
       "    </tr>\n",
       "    <tr>\n",
       "      <th>4</th>\n",
       "      <td>Luís Montenegro recusa ter medo de debates pol...</td>\n",
       "      <td>Luís Montenegro recusa ter medo de debates pol...</td>\n",
       "      <td>2024-02-08T19:55:48</td>\n",
       "      <td>Público</td>\n",
       "      <td>https://news.google.com/rss/articles/CBMiaGh0d...</td>\n",
       "      <td>Líder social-democrata não responde a repto de...</td>\n",
       "      <td>[\"medo\", \"luís\", \"políticos\", \"ad\", \"debate\", ...</td>\n",
       "      <td>Líder social-democrata não responde a repto de...</td>\n",
       "      <td>2024-02-11T17:40:25.902188</td>\n",
       "      <td>'Luis Montenegro'</td>\n",
       "    </tr>\n",
       "  </tbody>\n",
       "</table>\n",
       "</div>"
      ],
      "text/plain": [
       "                                               title  \\\n",
       "0  Campanha a todo o gás e a prometedora entrevis...   \n",
       "1  \"Estamos mais preparados do que quaisquer outr...   \n",
       "2  Luís Montenegro: “Qualquer pessoa tem o direit...   \n",
       "3  Luís Montenegro nega “falta de comparência do ...   \n",
       "4  Luís Montenegro recusa ter medo de debates pol...   \n",
       "\n",
       "                                         description              pubdate  \\\n",
       "0  Campanha a todo o gás e a prometedora entrevis...  2023-12-01T08:00:00   \n",
       "1  \"Estamos mais preparados do que quaisquer outr...  2023-12-02T08:00:00   \n",
       "2  Luís Montenegro: “Qualquer pessoa tem o direit...  2024-02-10T15:30:00   \n",
       "3  Luís Montenegro nega “falta de comparência do ...  2024-02-03T08:15:00   \n",
       "4  Luís Montenegro recusa ter medo de debates pol...  2024-02-08T19:55:48   \n",
       "\n",
       "      publisher                                                url  \\\n",
       "0  SIC Notícias  https://news.google.com/rss/articles/CBMilwFod...   \n",
       "1      Expresso  https://news.google.com/rss/articles/CBMijwFod...   \n",
       "2      Expresso  https://news.google.com/rss/articles/CBMiwgFod...   \n",
       "3  SIC Notícias  https://news.google.com/rss/articles/CBMioQFod...   \n",
       "4       Público  https://news.google.com/rss/articles/CBMiaGh0d...   \n",
       "\n",
       "                                             summary  \\\n",
       "0  Para Luís Montenegro, é \"indiferente\" quem suc...   \n",
       "1  O presidente do PSD defendeu este sábado que o...   \n",
       "2  O cabeça de lista por Lisboa da Aliança Democr...   \n",
       "3  Para já, Luís Montenegro enfrenta a ameaça do ...   \n",
       "4  Líder social-democrata não responde a repto de...   \n",
       "\n",
       "                                            keywords  \\\n",
       "0  [\"costa\", \"sic\", \"luís\", \"prometedora\", \"antón...   \n",
       "1  [\"governar\", \"quaisquer\", \"programa\", \"preside...   \n",
       "2  [\"sá\", \"tentou\", \"utilizar\", \"sic\", \"socialdem...   \n",
       "3  [\"política\", \"passos\", \"casa\", \"espinho\", \"luí...   \n",
       "4  [\"medo\", \"luís\", \"políticos\", \"ad\", \"debate\", ...   \n",
       "\n",
       "                                                text  \\\n",
       "0  Para Luís Montenegro, é \"indiferente\" quem suc...   \n",
       "1  O presidente do PSD defendeu este sábado que o...   \n",
       "2  O cabeça de lista por Lisboa da Aliança Democr...   \n",
       "3  Aos 9 anos ia a pé para a escola e já “tinha a...   \n",
       "4  Líder social-democrata não responde a repto de...   \n",
       "\n",
       "            creation_datetime              query  \n",
       "0  2024-02-11T17:26:45.678832  'Luis Montenegro'  \n",
       "1  2024-02-11T17:26:45.678832  'Luis Montenegro'  \n",
       "2  2024-02-11T17:40:25.902188  'Luis Montenegro'  \n",
       "3  2024-02-11T17:40:25.902188  'Luis Montenegro'  \n",
       "4  2024-02-11T17:40:25.902188  'Luis Montenegro'  "
      ]
     },
     "execution_count": 9,
     "metadata": {},
     "output_type": "execute_result"
    }
   ],
   "source": [
    "import sqlite3\n",
    "import pandas as pd\n",
    "from elections import constants\n",
    "\n",
    "engine = sqlite3.connect(constants.NEWS_DB)\n",
    "df = pd.read_sql(\"SELECT * FROM articles LIMIT 5\", engine)\n",
    "df"
   ]
  },
  {
   "cell_type": "code",
   "execution_count": 14,
   "metadata": {},
   "outputs": [],
   "source": [
    "def create_embeddings(texts):\n",
    "    embeddings = client.embeddings.create(\n",
    "        input=texts,\n",
    "        model=constants.OPENAI_EMBEDDING_MODEL\n",
    "    )\n",
    "    return [emb.embedding for emb in embeddings.data]\n",
    "\n",
    "\n",
    "article_embedding = create_embeddings(df[\"text\"])"
   ]
  },
  {
   "cell_type": "code",
   "execution_count": 33,
   "metadata": {},
   "outputs": [
    {
     "data": {
      "text/plain": [
       "(insert count: 5, delete count: 0, upsert count: 0, timestamp: 447727778622078979, success count: 5, err count: 0)"
      ]
     },
     "execution_count": 33,
     "metadata": {},
     "output_type": "execute_result"
    }
   ],
   "source": [
    "collection = Collection(name=ARTICLES_COLLECTION)\n",
    "collection.insert(df[[\"title\", \"description\", \"text\", \"embedding\"]])"
   ]
  },
  {
   "cell_type": "code",
   "execution_count": null,
   "metadata": {},
   "outputs": [],
   "source": [
    "queries = [\"\"]"
   ]
  },
  {
   "cell_type": "code",
   "execution_count": 37,
   "metadata": {},
   "outputs": [
    {
     "name": "stdout",
     "output_type": "stream",
     "text": [
      "Para Luís Montenegro, é \"indiferente\" quem sucederá a António Costa na liderança do Partido Socialista, mas não para Pedro Delgado Alves e José Eduardo Martins, neste Antes Pelo Contrário em podcast. Em entrevista à SIC, o líder do PSD lembrou que tanto José Luís Carneiro como Pedro Nuno Santos \"fizeram parte dos governos de António Costa\" que, segundo a sua avaliação, tiveram \"muito pouco investimento público\". Mas é ao antigo ministro das Infraestruturas que dirigiu o maior ataque: \"Está associado a três das maiores trapalhadas que este governo trouxe para a política portuguesa\". O Antes Pelo Contrário foi emitido a 30 de novembro na SIC Notícias.\n",
      "==================================================\n",
      "O presidente do PSD defendeu este sábado que o seu partido é o mais bem preparado para governar Portugal, salientando que \"não esteve à espera das eleições\" e que tem já uma equipa de qualidade. Num encontro alargado do Conselho Estratégico Nacional (CEN) do PSD, que decorreu em Lisboa, Luís Montenegro salientou que este trabalho de preparação do programa e construção de alternativas começou \"há quase um ano\".\n",
      "\n",
      "\"Este trabalho não esteve à espera das eleições e não fomos apanhados desprevenidos. Sem falsas modéstias ou desrespeito para com os nossos adversários, nós estamos mais preparados do que quaisquer outros para poder governar Portugal\", considerou.\n",
      "\n",
      "Num auditório com centenas de pessoas inscritas no CEN -- militantes do PSD e não militantes -, Montenegro voltou também a passar a mensagem de que o voto útil nas legislativas antecipadas de 10 de março será no PSD e contestou a ideia que o seu líder não tem equipa.\n",
      "\n",
      "\"Perguntam tantas vezes onde é que está a equipa do PSD, quem acompanha o presidente nesta caminhada? A equipa está atrás de mim, é grande em quantidade e enorme em qualidade\", disse, referindo-se aos 25 coordenadores das áreas temáticas do CEN, uma equipa paritária e na maioria independentes.\n",
      "\n",
      "Aos que pedem \"pessoas com mais notoriedade\" e \"com presenças anteriores em governos\", o líder do PSD disse que também as tem na sua equipa \"como tem ficado claro e vai continuar a ficar\", mas deixou uma palavra de confiança na \"nova geração\" que tem estado na base da preparação do programa eleitoral do PSD.\n",
      "\n",
      "Montenegro elencou as várias propostas já apresentadas pela sua liderança, como um programa de emergência social logo no verão de 2022, \"quando o Governo ainda estava a olhar para o ar e a pensar que o ciclo inflacionista era transitório\". Depois disso, acrescentou, foram apresentados programas na área da educação, da habitação dos idosos, e dos impostos.\n",
      "\n",
      "\"Não descobrimos agora porque ia haver eleições -- pelo menos eleições europeias - que era preciso baixar os impostos, estamos desde a primeira hora nesse combate\", disse.\n",
      "\n",
      "Em matéria de habitação, Montenegro considerou que \"a vitória do PSD nas próximas eleições\" vai trazer \"previsibilidade ao mercado para que construa mais e se possa conter a escalada dos preços\" e comprometeu-se a incluir as prioridades que apresentou para o Orçamento do Estado para 2024 num Retificativo que apresentará, se for Governo.\n",
      "\n",
      "Entre prioridades do PSD, incluiu ainda \"uma vida política cada vez mais transparente, que possa erradicar a corrupção política, económica e financeira\".\n",
      "==================================================\n",
      "O cabeça de lista por Lisboa da Aliança Democrática fala da infância passada em Espinho, tempo em que os pais trabalhavam no Porto e em Vila Nova de Gaia. Lembra-se de dar a notícia da morte de Sá Carneiro à mãe, numa casa rendida ao pensamento político do então primeiro-ministro social-democrata. \"O meu pai era muito firme nas suas ideias, mas nunca me tentou influenciar\", admite o candidato. Neste Alta Definição de 10 de fevereiro, com transmissão como habitualmente na SIC, Luís Montenegro afirma não ter muitos arrependimentos mas admite que a tentativa de ganhar o partido em 2019 ao seu antecessor, Rui Rio, falhou na \"forma e no momento.\"\n",
      "==================================================\n",
      "Aos 9 anos ia a pé para a escola e já “tinha a chave de casa”. Com queda para o desporto, jogou andebol, voleibol, fez ginástica e foi nadador-salvador. O exercício hoje é outro: uma corrida até ao lugar de primeiro-ministro. Para já, Luís Montenegro enfrenta a ameaça do crescimento do Chega.\n",
      "\n",
      "Nasceu no Porto em fevereiro de 1973, mas viveu sempre em Espinho. A ligação à cidade não é de sempre, mas a família tinha lá casa. Dos três irmãos, o mais velho já morreu. A mãe formou-se em Economia e é a segunda mais velha de 14 irmãos, todos licenciados. O pai formou-se em Direito em Coimbra e chegou a trabalhar na RTP. Nunca sentiu a ausência da mãe, mas “a vida não era fácil, ela trabalhava muito”. “A minha mãe levantava-se às 6:00 para ir trabalhar e deixava o almoço pré-cozinhado. Eu depois cozinhava para mim e para o meu pai”, conta. Quando recorda estes tempos, compara-os às temporadas que passa em Lisboa, longe da família, e de como a certa altura a sua exposição política o obrigou a retirar os filhos da escola de Espinho para outra no Porto.\n",
      "\n",
      "Loading...\n",
      "\n",
      "Aos 9 anos já tinha a chave de casa Andou sempre na escola pública. Brincava na rua e com 9 anos ia a pé para as aulas. “Até tinha a chave de casa”. Com queda para o desporto, foi desde cedo um atleta polivalente, jogou andebol, voleibol e até fez ginástica. Com 16 anos, virou-se para o mar de Espinho e tornou-se nadador-salvador. O pai era mais ligado à política do que a mãe e chegou a fazer a campanha de Pires Veloso, um dos protagonistas do 25 de novembro de 1975. Ficou-lhe gravada na memória a primeira campanha da AD, em 1979. “Ainda hoje guardo a minha bandeira de cetim do PPD e a do meu irmão, de um comício que fomos no Estádio das Antas”.\n",
      "\n",
      "José Fernandes\n",
      "\n",
      "O amigo Passos Coelho Com 18 anos, ligou-se ao partido e fez-se militante do PSD. Foi por esta altura que conheceu Pedro Passos Coelho e de quem é “amigo” até hoje. “A nossa relação vai para além do trabalho político”, garante. Entrou para a Assembleia Municipal com 24 anos e aos 28 candidatou-se à Câmara de Espinho, onde foi vereador. Ganhou visibilidade quando Pedro Passos Coelho, na altura primeiro-ministro, o escolheu para líder parlamentar, num dos períodos mais negros da história do país - a intervenção da Troika.\n",
      "\n",
      "José Fernandes\n",
      "\n",
      "O Chega pode ter sido “subavaliado” Hoje é candidato a primeiro-ministro e enfrenta a ameaça do crescimento do Chega. “É um partido de protesto” que tem de ser entendido à luz da “diferença entre a expectativa e o resultado” dos anos de Governo do PS. Não aceita que haja “falta de comparência do PSD”, mas reconhece que o partido de André Ventura, formado depois de uma dissidência dentro do PSD, pode ter sido “subavaliado” - não por ele que nessa altura “não estava no ativo”, sublinha. Luís Montenegro é o convidado do Geração 70. Durante a conversa, falou sobre a infância em Espinho, as brincadeiras na rua e os primeiros passos na política. Com a campanha eleitoral à porta, fala sem tabus sobre como o PSD geriu (e gere) o crescimento do Chega e ainda sobre a crise na Madeira. “A saída de Miguel Albuquerque foi a decisão mais correta e não o disse em público por uma questão de lealdade”. E depois de 10 de março, imagina um Governo PSD/Chega? “Não, não imagino”.\n",
      "\n",
      "\n",
      "\n",
      "Previous José Fernandes José Fernandes Next 1 14\n",
      "==================================================\n",
      "Líder social-democrata não responde a repto de Pedro Nuno Santos para um debate conjunto com os líderes dos três partidos que compõem a AD.\n",
      "\n",
      "O líder do PSD, Luís Montenegro, disse nesta quinta-feira não ter medo de nenhum debate político e afirmou que \"as televisões desistiram\" do esquema combinado para os debates.\n",
      "\n",
      "\"Não vou estar a entrar em mais polémicas. Não tenho medo de nenhum debate com ninguém. Nós fomos convidados para dez debates, aceitamos os dez debates e o modelo de participação nos debates. Se houver alguma alteração temos de resolver\", afirmou Luís Montenegro, à margem da Conferência Fábrica 2030, organizada pelo jornal ECO, no Porto.\n",
      "\n",
      "Questionado pelo director do jornal ECO sobre o assunto, Luís Montenegro afirmou que estava \"combinado um determinado esquema para poder cumprir todos os momentos de esclarecimento subjacentes à realização dos debates, parece que as televisões desistiram da ideia que tinha sido combinado inicialmente\".\n",
      "\n",
      "Porém, questionado pelos jornalistas à saída sobre se aceitava a proposta de Pedro Nuno Santos, que se mostrou disponível para mais um debate com a AD - Aliança Democrática, desde que participem Luís Montenegro, Nuno Melo e Gonçalo da Câmara Pereira, o presidente social-democrata não comentou.\n",
      "\n",
      "Na quarta-feira, o Diário de Notícias noticiou que o PSD pretende que Luís Montenegro seja substituído pelo líder do CDS-PP, Nuno Melo, nos debates com Paulo Raimundo, secretário-geral comunista, pela CDU, marcado para o próximo sábado, e com o co-porta-voz do Livre, Rui Tavares (agendado para 17 de Fevereiro).\n",
      "\n",
      "À Lusa, o director de campanha da AD, Pedro Esteves, referiu numa declaração escrita que \"a Aliança Democrática e o seu líder não têm medo de debater com ninguém\". No entanto, disse que, \"tal como acertado desde a primeira conversa com o representante dos canais de televisão, a coligação AD faz-se representar em todos os debates pelo presidente do PSD, com excepção daqueles que opõem a AD ao Livre e à CDU, onde a representação da coligação Aliança Democrática ficará a cargo do presidente do CDS, à semelhança do que aconteceu em 2015\".\n",
      "\n",
      "A RTP, a TVI e a SIC mostraram-se surpreendidas com a intenção da AD de substituir Luís Montenegro por Nuno Melo nos debates e garantem que modelo proposto se mantém \"nos exactos termos\".\n",
      "\n",
      "Foi com \"alguma surpresa que as televisões tomaram nota da decisão da direcção de campanha da AD. Não pomos em causa as motivações da AD nem as qualidades do líder do CDS. Mas não podemos colocar em risco todo este processo\", lê-se numa nota conjunta.\n",
      "==================================================\n"
     ]
    }
   ],
   "source": [
    "for row in df.text:\n",
    "    print(row)\n",
    "    print(50 * \"=\")"
   ]
  },
  {
   "cell_type": "code",
   "execution_count": null,
   "metadata": {},
   "outputs": [],
   "source": []
  },
  {
   "cell_type": "code",
   "execution_count": null,
   "metadata": {},
   "outputs": [],
   "source": []
  },
  {
   "cell_type": "code",
   "execution_count": 9,
   "metadata": {},
   "outputs": [
    {
     "data": {
      "text/plain": [
       "Index(['title', 'description', 'pubdate', 'publisher', 'url', 'summary',\n",
       "       'keywords', 'text', 'creation_datetime', 'query'],\n",
       "      dtype='object')"
      ]
     },
     "execution_count": 9,
     "metadata": {},
     "output_type": "execute_result"
    }
   ],
   "source": []
  }
 ],
 "metadata": {
  "kernelspec": {
   "display_name": "elections",
   "language": "python",
   "name": "python3"
  },
  "language_info": {
   "codemirror_mode": {
    "name": "ipython",
    "version": 3
   },
   "file_extension": ".py",
   "mimetype": "text/x-python",
   "name": "python",
   "nbconvert_exporter": "python",
   "pygments_lexer": "ipython3",
   "version": "3.12.0"
  }
 },
 "nbformat": 4,
 "nbformat_minor": 2
}
